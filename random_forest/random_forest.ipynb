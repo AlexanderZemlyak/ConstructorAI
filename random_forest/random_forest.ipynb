{
 "cells": [
  {
   "cell_type": "code",
   "execution_count": null,
   "metadata": {},
   "outputs": [],
   "source": [
    "!pip install pymorphy2"
   ]
  },
  {
   "cell_type": "code",
   "execution_count": null,
   "metadata": {},
   "outputs": [],
   "source": [
    "import pandas as pd\n",
    "import string\n",
    "import re\n",
    "import nltk\n",
    "import pymorphy2\n",
    "from sklearn.ensemble import RandomForestClassifier\n",
    "from sklearn.metrics import precision_recall_fscore_support as score\n",
    "from sklearn.model_selection import train_test_split\n",
    "from sklearn.feature_extraction.text import TfidfVectorizer, CountVectorizer\n",
    "import numpy as np"
   ]
  },
  {
   "cell_type": "code",
   "execution_count": null,
   "metadata": {},
   "outputs": [],
   "source": [
    "pd.set_option('display.max_colwidth', 100)"
   ]
  },
  {
   "cell_type": "markdown",
   "metadata": {},
   "source": [
    "Методы предобработки"
   ]
  },
  {
   "cell_type": "code",
   "execution_count": null,
   "metadata": {},
   "outputs": [],
   "source": [
    "def remove_punctuation(text):\n",
    "    text_nopunct = \"\".join([char for char in text if char not in string.punctuation])\n",
    "    return text_nopunct\n",
    "\n",
    "def tokenise(text):\n",
    "    tokens = re.split('\\W+', text)\n",
    "    return tokens\n",
    "\n",
    "def remove_stopwords(tokenised_list):\n",
    "    stopwords = nltk.corpus.stopwords.words('russian')\n",
    "    filtered_text = [word for word in tokenised_list if word not in stopwords]\n",
    "    return filtered_text\n",
    "\n",
    "def stemming(tokenised_text):\n",
    "    ps = nltk.SnowballStemmer('russian')\n",
    "    processed_text = [ps.stem(word) for word in tokenised_text]\n",
    "    return processed_text\n",
    "\n",
    "def lemmatizing(tokenized_text):\n",
    "    ma = pymorphy2.MorphAnalyzer()\n",
    "    processed_text = [ma.parse(word)[0].normal_form for word in tokenized_text]\n",
    "    return processed_text\n",
    "\n",
    "def clean_text(text):\n",
    "    text = remove_punctuation(text)\n",
    "    tokens = tokenise(text)\n",
    "    processed_text = lemmatizing(tokens)\n",
    "    return processed_text"
   ]
  },
  {
   "cell_type": "markdown",
   "metadata": {},
   "source": [
    "Тестирование метода random forest"
   ]
  },
  {
   "cell_type": "code",
   "execution_count": null,
   "metadata": {},
   "outputs": [],
   "source": [
    "data = pd.read_csv(\"requests_gpt.csv\", encoding='windows-1251', sep = ';')\n",
    "data.columns = ['label', 'requests']"
   ]
  },
  {
   "cell_type": "code",
   "execution_count": null,
   "metadata": {},
   "outputs": [],
   "source": [
    "# TF-IDF для векторизации\n",
    "tfidf_vect = TfidfVectorizer(analyzer=clean_text)\n",
    "X_tfidf = tfidf_vect.fit_transform(data['requests'])\n",
    "\n",
    "X_features = pd.DataFrame(X_tfidf.toarray())\n",
    "\n",
    "X_train, X_test, y_train, y_test = train_test_split(X_features, data['label'], test_size = 0.3)"
   ]
  },
  {
   "cell_type": "code",
   "execution_count": null,
   "metadata": {},
   "outputs": [],
   "source": [
    "# вывод характеристик для различных гиперпараметров\n",
    "def train_RF(n_est, depth):\n",
    "    rf = RandomForestClassifier(n_estimators = n_est, max_depth=depth, n_jobs=-1)\n",
    "    rf_model = rf.fit(X_train, y_train)\n",
    "    y_pred = rf_model.predict(X_test)\n",
    "    precision, recall, fscore, support = score(y_test, y_pred)\n",
    "    print('Est: {} / Depth: {} ----- Precision: {} / Recall: {} / Accuracy: {}'.format(\n",
    "        n_est, depth, np.round(precision, 3), np.round(recall,3),\n",
    "        round((y_pred==y_test).sum() / len(y_pred), 3)))\n",
    "    \n",
    "for n_est in [10, 50, 100]:\n",
    "    for depth in [10, 20, 30, None]:\n",
    "        train_RF(n_est, depth)"
   ]
  },
  {
   "cell_type": "code",
   "execution_count": null,
   "metadata": {},
   "outputs": [],
   "source": [
    "# работа с лучшим вариантом\n",
    "rf = RandomForestClassifier(n_estimators = 50, max_depth=20, n_jobs=-1)\n",
    "rf_model = rf.fit(X_train, y_train)\n",
    "print(rf_model.predict(X_test))\n",
    "\n"
   ]
  }
 ],
 "metadata": {
  "language_info": {
   "name": "python"
  }
 },
 "nbformat": 4,
 "nbformat_minor": 2
}
