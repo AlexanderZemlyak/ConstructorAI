{
  "cells": [
    {
      "cell_type": "code",
      "execution_count": null,
      "metadata": {
        "colab": {
          "base_uri": "https://localhost:8080/"
        },
        "id": "ZGk9U7WfaiLW",
        "outputId": "cb7005cc-eff1-4866-b4ad-a148f4024554"
      },
      "outputs": [
        {
          "output_type": "stream",
          "name": "stdout",
          "text": [
            "Requirement already satisfied: deeppavlov in /usr/local/lib/python3.10/dist-packages (1.6.0)\n",
            "Requirement already satisfied: fastapi<=0.89.1,>=0.47.0 in /usr/local/lib/python3.10/dist-packages (from deeppavlov) (0.89.1)\n",
            "Requirement already satisfied: filelock<3.10.0,>=3.0.0 in /usr/local/lib/python3.10/dist-packages (from deeppavlov) (3.9.1)\n",
            "Requirement already satisfied: nltk<3.10.0,>=3.2.4 in /usr/local/lib/python3.10/dist-packages (from deeppavlov) (3.8.1)\n",
            "Requirement already satisfied: numpy<1.24 in /usr/local/lib/python3.10/dist-packages (from deeppavlov) (1.23.5)\n",
            "Requirement already satisfied: pandas<1.6.0,>=1.0.0 in /usr/local/lib/python3.10/dist-packages (from deeppavlov) (1.5.3)\n",
            "Requirement already satisfied: prometheus-client<=1.16.0,>=0.13.0 in /usr/local/lib/python3.10/dist-packages (from deeppavlov) (0.20.0)\n",
            "Requirement already satisfied: pydantic<2 in /usr/local/lib/python3.10/dist-packages (from deeppavlov) (1.10.15)\n",
            "Requirement already satisfied: pybind11==2.10.3 in /usr/local/lib/python3.10/dist-packages (from deeppavlov) (2.10.3)\n",
            "Requirement already satisfied: requests<3.0.0,>=2.19.0 in /usr/local/lib/python3.10/dist-packages (from deeppavlov) (2.31.0)\n",
            "Requirement already satisfied: tqdm<4.65.0,>=4.42.0 in /usr/local/lib/python3.10/dist-packages (from deeppavlov) (4.64.1)\n",
            "Requirement already satisfied: uvicorn<0.19.0,>=0.13.0 in /usr/local/lib/python3.10/dist-packages (from deeppavlov) (0.18.3)\n",
            "Requirement already satisfied: wheel in /usr/local/lib/python3.10/dist-packages (from deeppavlov) (0.43.0)\n",
            "Requirement already satisfied: scikit-learn<1.1.0,>=0.24 in /usr/local/lib/python3.10/dist-packages (from deeppavlov) (1.0.2)\n",
            "Requirement already satisfied: scipy==1.10.0 in /usr/local/lib/python3.10/dist-packages (from deeppavlov) (1.10.0)\n",
            "Requirement already satisfied: starlette==0.22.0 in /usr/local/lib/python3.10/dist-packages (from fastapi<=0.89.1,>=0.47.0->deeppavlov) (0.22.0)\n",
            "Requirement already satisfied: anyio<5,>=3.4.0 in /usr/local/lib/python3.10/dist-packages (from starlette==0.22.0->fastapi<=0.89.1,>=0.47.0->deeppavlov) (3.7.1)\n",
            "Requirement already satisfied: click in /usr/local/lib/python3.10/dist-packages (from nltk<3.10.0,>=3.2.4->deeppavlov) (8.1.7)\n",
            "Requirement already satisfied: joblib in /usr/local/lib/python3.10/dist-packages (from nltk<3.10.0,>=3.2.4->deeppavlov) (1.4.0)\n",
            "Requirement already satisfied: regex>=2021.8.3 in /usr/local/lib/python3.10/dist-packages (from nltk<3.10.0,>=3.2.4->deeppavlov) (2023.12.25)\n",
            "Requirement already satisfied: python-dateutil>=2.8.1 in /usr/local/lib/python3.10/dist-packages (from pandas<1.6.0,>=1.0.0->deeppavlov) (2.8.2)\n",
            "Requirement already satisfied: pytz>=2020.1 in /usr/local/lib/python3.10/dist-packages (from pandas<1.6.0,>=1.0.0->deeppavlov) (2023.4)\n",
            "Requirement already satisfied: typing-extensions>=4.2.0 in /usr/local/lib/python3.10/dist-packages (from pydantic<2->deeppavlov) (4.11.0)\n",
            "Requirement already satisfied: charset-normalizer<4,>=2 in /usr/local/lib/python3.10/dist-packages (from requests<3.0.0,>=2.19.0->deeppavlov) (3.3.2)\n",
            "Requirement already satisfied: idna<4,>=2.5 in /usr/local/lib/python3.10/dist-packages (from requests<3.0.0,>=2.19.0->deeppavlov) (3.6)\n",
            "Requirement already satisfied: urllib3<3,>=1.21.1 in /usr/local/lib/python3.10/dist-packages (from requests<3.0.0,>=2.19.0->deeppavlov) (2.0.7)\n",
            "Requirement already satisfied: certifi>=2017.4.17 in /usr/local/lib/python3.10/dist-packages (from requests<3.0.0,>=2.19.0->deeppavlov) (2024.2.2)\n",
            "Requirement already satisfied: threadpoolctl>=2.0.0 in /usr/local/lib/python3.10/dist-packages (from scikit-learn<1.1.0,>=0.24->deeppavlov) (3.4.0)\n",
            "Requirement already satisfied: h11>=0.8 in /usr/local/lib/python3.10/dist-packages (from uvicorn<0.19.0,>=0.13.0->deeppavlov) (0.14.0)\n",
            "Requirement already satisfied: six>=1.5 in /usr/local/lib/python3.10/dist-packages (from python-dateutil>=2.8.1->pandas<1.6.0,>=1.0.0->deeppavlov) (1.16.0)\n",
            "Requirement already satisfied: sniffio>=1.1 in /usr/local/lib/python3.10/dist-packages (from anyio<5,>=3.4.0->starlette==0.22.0->fastapi<=0.89.1,>=0.47.0->deeppavlov) (1.3.1)\n",
            "Requirement already satisfied: exceptiongroup in /usr/local/lib/python3.10/dist-packages (from anyio<5,>=3.4.0->starlette==0.22.0->fastapi<=0.89.1,>=0.47.0->deeppavlov) (1.2.0)\n"
          ]
        }
      ],
      "source": [
        "!pip install deeppavlov"
      ]
    },
    {
      "cell_type": "code",
      "execution_count": null,
      "metadata": {
        "id": "NB_dCf2qac4T"
      },
      "outputs": [],
      "source": [
        "from deeppavlov import build_model, configs, train_model\n",
        "from deeppavlov.core.commands.utils import parse_config\n",
        "from deeppavlov.core.data.utils import get_all_elems_from_json\n",
        "import os"
      ]
    },
    {
      "cell_type": "code",
      "execution_count": null,
      "metadata": {
        "colab": {
          "base_uri": "https://localhost:8080/"
        },
        "id": "cmmNz6RQv1Qr",
        "outputId": "0346a1fb-c081-4f78-9a4e-2430d645cc29"
      },
      "outputs": [
        {
          "output_type": "stream",
          "name": "stdout",
          "text": [
            "Mounted at /content/drive\n"
          ]
        }
      ],
      "source": [
        "from google.colab import drive\n",
        "drive.mount('/content/drive')"
      ]
    },
    {
      "cell_type": "code",
      "execution_count": null,
      "metadata": {
        "id": "cPoCt5aq2vBB"
      },
      "outputs": [],
      "source": [
        "import pandas as pd\n",
        "from sklearn.model_selection import train_test_split"
      ]
    },
    {
      "cell_type": "code",
      "execution_count": null,
      "metadata": {
        "id": "3kJx8DPMsho9",
        "colab": {
          "base_uri": "https://localhost:8080/",
          "height": 533
        },
        "outputId": "857d7420-c3e9-48b4-981c-c6298f8d9d4b"
      },
      "outputs": [
        {
          "output_type": "stream",
          "name": "stdout",
          "text": [
            "1    155\n",
            "5    152\n",
            "4    150\n",
            "2    140\n",
            "3    140\n",
            "Name: topic, dtype: int64\n"
          ]
        },
        {
          "output_type": "execute_result",
          "data": {
            "text/plain": [
              "    topic                                               text\n",
              "0       1  Каким образом можно предъявить иск о задолженн...\n",
              "1       1  Каковы основания для обращения с иском о задол...\n",
              "2       1  Какие органы могут принимать и рассматривать и...\n",
              "3       1  Какие последствия могут возникнуть в случае не...\n",
              "4       1  Каково количество и размер просроченных платеж...\n",
              "..    ...                                                ...\n",
              "147     5  Какие последующие шаги следует предпринять пос...\n",
              "148     5  Как учитывать прецеденты и практику судебных р...\n",
              "149     5          Поставщик взял деньги и не поставил товар\n",
              "150     5                                  Не поставил товар\n",
              "151     5                        Поставщик не поставил товар\n",
              "\n",
              "[737 rows x 2 columns]"
            ],
            "text/html": [
              "\n",
              "  <div id=\"df-eacfa61e-b1c1-41f5-97c4-7a86e7b10cc5\" class=\"colab-df-container\">\n",
              "    <div>\n",
              "<style scoped>\n",
              "    .dataframe tbody tr th:only-of-type {\n",
              "        vertical-align: middle;\n",
              "    }\n",
              "\n",
              "    .dataframe tbody tr th {\n",
              "        vertical-align: top;\n",
              "    }\n",
              "\n",
              "    .dataframe thead th {\n",
              "        text-align: right;\n",
              "    }\n",
              "</style>\n",
              "<table border=\"1\" class=\"dataframe\">\n",
              "  <thead>\n",
              "    <tr style=\"text-align: right;\">\n",
              "      <th></th>\n",
              "      <th>topic</th>\n",
              "      <th>text</th>\n",
              "    </tr>\n",
              "  </thead>\n",
              "  <tbody>\n",
              "    <tr>\n",
              "      <th>0</th>\n",
              "      <td>1</td>\n",
              "      <td>Каким образом можно предъявить иск о задолженн...</td>\n",
              "    </tr>\n",
              "    <tr>\n",
              "      <th>1</th>\n",
              "      <td>1</td>\n",
              "      <td>Каковы основания для обращения с иском о задол...</td>\n",
              "    </tr>\n",
              "    <tr>\n",
              "      <th>2</th>\n",
              "      <td>1</td>\n",
              "      <td>Какие органы могут принимать и рассматривать и...</td>\n",
              "    </tr>\n",
              "    <tr>\n",
              "      <th>3</th>\n",
              "      <td>1</td>\n",
              "      <td>Какие последствия могут возникнуть в случае не...</td>\n",
              "    </tr>\n",
              "    <tr>\n",
              "      <th>4</th>\n",
              "      <td>1</td>\n",
              "      <td>Каково количество и размер просроченных платеж...</td>\n",
              "    </tr>\n",
              "    <tr>\n",
              "      <th>...</th>\n",
              "      <td>...</td>\n",
              "      <td>...</td>\n",
              "    </tr>\n",
              "    <tr>\n",
              "      <th>147</th>\n",
              "      <td>5</td>\n",
              "      <td>Какие последующие шаги следует предпринять пос...</td>\n",
              "    </tr>\n",
              "    <tr>\n",
              "      <th>148</th>\n",
              "      <td>5</td>\n",
              "      <td>Как учитывать прецеденты и практику судебных р...</td>\n",
              "    </tr>\n",
              "    <tr>\n",
              "      <th>149</th>\n",
              "      <td>5</td>\n",
              "      <td>Поставщик взял деньги и не поставил товар</td>\n",
              "    </tr>\n",
              "    <tr>\n",
              "      <th>150</th>\n",
              "      <td>5</td>\n",
              "      <td>Не поставил товар</td>\n",
              "    </tr>\n",
              "    <tr>\n",
              "      <th>151</th>\n",
              "      <td>5</td>\n",
              "      <td>Поставщик не поставил товар</td>\n",
              "    </tr>\n",
              "  </tbody>\n",
              "</table>\n",
              "<p>737 rows × 2 columns</p>\n",
              "</div>\n",
              "    <div class=\"colab-df-buttons\">\n",
              "\n",
              "  <div class=\"colab-df-container\">\n",
              "    <button class=\"colab-df-convert\" onclick=\"convertToInteractive('df-eacfa61e-b1c1-41f5-97c4-7a86e7b10cc5')\"\n",
              "            title=\"Convert this dataframe to an interactive table.\"\n",
              "            style=\"display:none;\">\n",
              "\n",
              "  <svg xmlns=\"http://www.w3.org/2000/svg\" height=\"24px\" viewBox=\"0 -960 960 960\">\n",
              "    <path d=\"M120-120v-720h720v720H120Zm60-500h600v-160H180v160Zm220 220h160v-160H400v160Zm0 220h160v-160H400v160ZM180-400h160v-160H180v160Zm440 0h160v-160H620v160ZM180-180h160v-160H180v160Zm440 0h160v-160H620v160Z\"/>\n",
              "  </svg>\n",
              "    </button>\n",
              "\n",
              "  <style>\n",
              "    .colab-df-container {\n",
              "      display:flex;\n",
              "      gap: 12px;\n",
              "    }\n",
              "\n",
              "    .colab-df-convert {\n",
              "      background-color: #E8F0FE;\n",
              "      border: none;\n",
              "      border-radius: 50%;\n",
              "      cursor: pointer;\n",
              "      display: none;\n",
              "      fill: #1967D2;\n",
              "      height: 32px;\n",
              "      padding: 0 0 0 0;\n",
              "      width: 32px;\n",
              "    }\n",
              "\n",
              "    .colab-df-convert:hover {\n",
              "      background-color: #E2EBFA;\n",
              "      box-shadow: 0px 1px 2px rgba(60, 64, 67, 0.3), 0px 1px 3px 1px rgba(60, 64, 67, 0.15);\n",
              "      fill: #174EA6;\n",
              "    }\n",
              "\n",
              "    .colab-df-buttons div {\n",
              "      margin-bottom: 4px;\n",
              "    }\n",
              "\n",
              "    [theme=dark] .colab-df-convert {\n",
              "      background-color: #3B4455;\n",
              "      fill: #D2E3FC;\n",
              "    }\n",
              "\n",
              "    [theme=dark] .colab-df-convert:hover {\n",
              "      background-color: #434B5C;\n",
              "      box-shadow: 0px 1px 3px 1px rgba(0, 0, 0, 0.15);\n",
              "      filter: drop-shadow(0px 1px 2px rgba(0, 0, 0, 0.3));\n",
              "      fill: #FFFFFF;\n",
              "    }\n",
              "  </style>\n",
              "\n",
              "    <script>\n",
              "      const buttonEl =\n",
              "        document.querySelector('#df-eacfa61e-b1c1-41f5-97c4-7a86e7b10cc5 button.colab-df-convert');\n",
              "      buttonEl.style.display =\n",
              "        google.colab.kernel.accessAllowed ? 'block' : 'none';\n",
              "\n",
              "      async function convertToInteractive(key) {\n",
              "        const element = document.querySelector('#df-eacfa61e-b1c1-41f5-97c4-7a86e7b10cc5');\n",
              "        const dataTable =\n",
              "          await google.colab.kernel.invokeFunction('convertToInteractive',\n",
              "                                                    [key], {});\n",
              "        if (!dataTable) return;\n",
              "\n",
              "        const docLinkHtml = 'Like what you see? Visit the ' +\n",
              "          '<a target=\"_blank\" href=https://colab.research.google.com/notebooks/data_table.ipynb>data table notebook</a>'\n",
              "          + ' to learn more about interactive tables.';\n",
              "        element.innerHTML = '';\n",
              "        dataTable['output_type'] = 'display_data';\n",
              "        await google.colab.output.renderOutput(dataTable, element);\n",
              "        const docLink = document.createElement('div');\n",
              "        docLink.innerHTML = docLinkHtml;\n",
              "        element.appendChild(docLink);\n",
              "      }\n",
              "    </script>\n",
              "  </div>\n",
              "\n",
              "\n",
              "<div id=\"df-d80ef418-b17c-49a7-bc04-217b6a46286a\">\n",
              "  <button class=\"colab-df-quickchart\" onclick=\"quickchart('df-d80ef418-b17c-49a7-bc04-217b6a46286a')\"\n",
              "            title=\"Suggest charts\"\n",
              "            style=\"display:none;\">\n",
              "\n",
              "<svg xmlns=\"http://www.w3.org/2000/svg\" height=\"24px\"viewBox=\"0 0 24 24\"\n",
              "     width=\"24px\">\n",
              "    <g>\n",
              "        <path d=\"M19 3H5c-1.1 0-2 .9-2 2v14c0 1.1.9 2 2 2h14c1.1 0 2-.9 2-2V5c0-1.1-.9-2-2-2zM9 17H7v-7h2v7zm4 0h-2V7h2v10zm4 0h-2v-4h2v4z\"/>\n",
              "    </g>\n",
              "</svg>\n",
              "  </button>\n",
              "\n",
              "<style>\n",
              "  .colab-df-quickchart {\n",
              "      --bg-color: #E8F0FE;\n",
              "      --fill-color: #1967D2;\n",
              "      --hover-bg-color: #E2EBFA;\n",
              "      --hover-fill-color: #174EA6;\n",
              "      --disabled-fill-color: #AAA;\n",
              "      --disabled-bg-color: #DDD;\n",
              "  }\n",
              "\n",
              "  [theme=dark] .colab-df-quickchart {\n",
              "      --bg-color: #3B4455;\n",
              "      --fill-color: #D2E3FC;\n",
              "      --hover-bg-color: #434B5C;\n",
              "      --hover-fill-color: #FFFFFF;\n",
              "      --disabled-bg-color: #3B4455;\n",
              "      --disabled-fill-color: #666;\n",
              "  }\n",
              "\n",
              "  .colab-df-quickchart {\n",
              "    background-color: var(--bg-color);\n",
              "    border: none;\n",
              "    border-radius: 50%;\n",
              "    cursor: pointer;\n",
              "    display: none;\n",
              "    fill: var(--fill-color);\n",
              "    height: 32px;\n",
              "    padding: 0;\n",
              "    width: 32px;\n",
              "  }\n",
              "\n",
              "  .colab-df-quickchart:hover {\n",
              "    background-color: var(--hover-bg-color);\n",
              "    box-shadow: 0 1px 2px rgba(60, 64, 67, 0.3), 0 1px 3px 1px rgba(60, 64, 67, 0.15);\n",
              "    fill: var(--button-hover-fill-color);\n",
              "  }\n",
              "\n",
              "  .colab-df-quickchart-complete:disabled,\n",
              "  .colab-df-quickchart-complete:disabled:hover {\n",
              "    background-color: var(--disabled-bg-color);\n",
              "    fill: var(--disabled-fill-color);\n",
              "    box-shadow: none;\n",
              "  }\n",
              "\n",
              "  .colab-df-spinner {\n",
              "    border: 2px solid var(--fill-color);\n",
              "    border-color: transparent;\n",
              "    border-bottom-color: var(--fill-color);\n",
              "    animation:\n",
              "      spin 1s steps(1) infinite;\n",
              "  }\n",
              "\n",
              "  @keyframes spin {\n",
              "    0% {\n",
              "      border-color: transparent;\n",
              "      border-bottom-color: var(--fill-color);\n",
              "      border-left-color: var(--fill-color);\n",
              "    }\n",
              "    20% {\n",
              "      border-color: transparent;\n",
              "      border-left-color: var(--fill-color);\n",
              "      border-top-color: var(--fill-color);\n",
              "    }\n",
              "    30% {\n",
              "      border-color: transparent;\n",
              "      border-left-color: var(--fill-color);\n",
              "      border-top-color: var(--fill-color);\n",
              "      border-right-color: var(--fill-color);\n",
              "    }\n",
              "    40% {\n",
              "      border-color: transparent;\n",
              "      border-right-color: var(--fill-color);\n",
              "      border-top-color: var(--fill-color);\n",
              "    }\n",
              "    60% {\n",
              "      border-color: transparent;\n",
              "      border-right-color: var(--fill-color);\n",
              "    }\n",
              "    80% {\n",
              "      border-color: transparent;\n",
              "      border-right-color: var(--fill-color);\n",
              "      border-bottom-color: var(--fill-color);\n",
              "    }\n",
              "    90% {\n",
              "      border-color: transparent;\n",
              "      border-bottom-color: var(--fill-color);\n",
              "    }\n",
              "  }\n",
              "</style>\n",
              "\n",
              "  <script>\n",
              "    async function quickchart(key) {\n",
              "      const quickchartButtonEl =\n",
              "        document.querySelector('#' + key + ' button');\n",
              "      quickchartButtonEl.disabled = true;  // To prevent multiple clicks.\n",
              "      quickchartButtonEl.classList.add('colab-df-spinner');\n",
              "      try {\n",
              "        const charts = await google.colab.kernel.invokeFunction(\n",
              "            'suggestCharts', [key], {});\n",
              "      } catch (error) {\n",
              "        console.error('Error during call to suggestCharts:', error);\n",
              "      }\n",
              "      quickchartButtonEl.classList.remove('colab-df-spinner');\n",
              "      quickchartButtonEl.classList.add('colab-df-quickchart-complete');\n",
              "    }\n",
              "    (() => {\n",
              "      let quickchartButtonEl =\n",
              "        document.querySelector('#df-d80ef418-b17c-49a7-bc04-217b6a46286a button');\n",
              "      quickchartButtonEl.style.display =\n",
              "        google.colab.kernel.accessAllowed ? 'block' : 'none';\n",
              "    })();\n",
              "  </script>\n",
              "</div>\n",
              "    </div>\n",
              "  </div>\n"
            ],
            "application/vnd.google.colaboratory.intrinsic+json": {
              "type": "dataframe",
              "variable_name": "data",
              "summary": "{\n  \"name\": \"data\",\n  \"rows\": 737,\n  \"fields\": [\n    {\n      \"column\": \"topic\",\n      \"properties\": {\n        \"dtype\": \"date\",\n        \"min\": 1,\n        \"max\": 5,\n        \"num_unique_values\": 5,\n        \"samples\": [\n          2,\n          5,\n          3\n        ],\n        \"semantic_type\": \"\",\n        \"description\": \"\"\n      }\n    },\n    {\n      \"column\": \"text\",\n      \"properties\": {\n        \"dtype\": \"string\",\n        \"num_unique_values\": 724,\n        \"samples\": [\n          \"\\u0417\\u0430\\u044f\\u0432\\u043b\\u0435\\u043d\\u0438\\u0435 \\u043d\\u0430 \\u0430\\u043a\\u043a\\u0440\\u0435\\u0434\\u0438\\u0442\\u0438\\u0432 \\u0432 \\u043d\\u0430\\u0446\\u0438\\u043e\\u043d\\u0430\\u043b\\u044c\\u043d\\u043e\\u0439 \\u0432\\u0430\\u043b\\u044e\\u0442\\u0435\",\n          \"\\u041a\\u0430\\u043a \\u0418\\u041f \\u0441\\u043e\\u0441\\u0442\\u0430\\u0432\\u0438\\u0442\\u044c \\u043f\\u0440\\u0430\\u0432\\u0438\\u043b\\u044c\\u043d\\u043e \\u0437\\u0430\\u044f\\u0432\\u043b\\u0435\\u043d\\u0438\\u0435 \\u043e \\u043f\\u0440\\u0435\\u0441\\u0442\\u0443\\u043f\\u043b\\u0435\\u043d\\u0438\\u0438?\",\n          \"\\u0413\\u0434\\u0435 \\u043f\\u043e\\u043b\\u0443\\u0447\\u0438\\u0442\\u044c \\u043a\\u043e\\u043d\\u0441\\u0443\\u043b\\u044c\\u0442\\u0430\\u0446\\u0438\\u0438 \\u043f\\u043e \\u043f\\u043e\\u0432\\u043e\\u0434\\u0443 \\u0441\\u0438\\u0442\\u0443\\u0430\\u0446\\u0438\\u0438 \\u0441 \\u0432\\u044b\\u043c\\u043e\\u0433\\u0430\\u0442\\u0435\\u043b\\u044c\\u0441\\u0442\\u0432\\u043e\\u043c \\u0434\\u0435\\u043d\\u0435\\u0433?\"\n        ],\n        \"semantic_type\": \"\",\n        \"description\": \"\"\n      }\n    }\n  ]\n}"
            }
          },
          "metadata": {},
          "execution_count": 5
        }
      ],
      "source": [
        "n = 5\n",
        "data = pd.DataFrame(columns=['topic', 'text'])\n",
        "for i in range(1, n+1):\n",
        "  new_topic = pd.read_csv(f\"./drive/MyDrive/requests_gpt_{i}.csv\", header=None)\n",
        "  new_topic.columns = ['topic', 'text']\n",
        "  data = pd.concat([data, new_topic])\n",
        "data.drop(data[data['topic'] == 0].index, inplace = True)\n",
        "print(data['topic'].value_counts())\n",
        "data"
      ]
    },
    {
      "cell_type": "code",
      "execution_count": null,
      "metadata": {
        "colab": {
          "base_uri": "https://localhost:8080/"
        },
        "id": "gwWQVhJ0u9iQ",
        "outputId": "4a946d26-2dff-4c51-f1f9-0dfb4732703b"
      },
      "outputs": [
        {
          "output_type": "stream",
          "name": "stdout",
          "text": [
            "1    137\n",
            "4    129\n",
            "5    127\n",
            "2    117\n",
            "3    116\n",
            "Name: topic, dtype: int64\n"
          ]
        }
      ],
      "source": [
        "# X_train, X_test, y_train, y_test = train_test_split(data['text'], data['topic'], test_size = 0.3)\n",
        "X_train, X_valid, y_train, y_valid = train_test_split(data['text'], data['topic'], test_size=0.15, random_state=54)\n",
        "train_data = pd.concat([X_train, y_train], axis=1)\n",
        "valid_data = pd.concat([X_valid, y_valid], axis=1)\n",
        "# test_data = pd.concat([X_test, y_test], axis=1)\n",
        "test_data = pd.concat([X_valid, y_valid], axis=1)\n",
        "print(train_data['topic'].value_counts())"
      ]
    },
    {
      "cell_type": "code",
      "execution_count": null,
      "metadata": {
        "id": "ggxvn1pRvHOh",
        "colab": {
          "base_uri": "https://localhost:8080/"
        },
        "outputId": "ab34aef9-b04e-4c7c-bfa0-6448c72d9481"
      },
      "outputs": [
        {
          "output_type": "execute_result",
          "data": {
            "text/plain": [
              "1    12\n",
              "5    12\n",
              "3    11\n",
              "4    11\n",
              "2     7\n",
              "Name: topic, dtype: int64"
            ]
          },
          "metadata": {},
          "execution_count": 8
        }
      ],
      "source": [
        "valid_data['topic'].value_counts()"
      ]
    },
    {
      "cell_type": "code",
      "execution_count": null,
      "metadata": {
        "id": "Nd7dKuNVu_zP",
        "colab": {
          "base_uri": "https://localhost:8080/"
        },
        "outputId": "fb9be9f6-1f46-4eb1-814f-8869cdf6389d"
      },
      "outputs": [
        {
          "output_type": "execute_result",
          "data": {
            "text/plain": [
              "2    42\n",
              "5    33\n",
              "1    27\n",
              "3    25\n",
              "4    25\n",
              "Name: topic, dtype: int64"
            ]
          },
          "metadata": {},
          "execution_count": 9
        }
      ],
      "source": [
        "test_data['topic'].value_counts()"
      ]
    },
    {
      "cell_type": "code",
      "execution_count": null,
      "metadata": {
        "id": "mlanRQGd1HLD"
      },
      "outputs": [],
      "source": [
        "valid_data.reset_index(drop = True, inplace = True)\n",
        "train_data.to_csv(\"train.csv\", index=False)\n",
        "valid_data.to_csv(\"valid.csv\", index=False)\n",
        "test_data.to_csv(\"test.csv\", index=False)"
      ]
    },
    {
      "cell_type": "code",
      "execution_count": null,
      "metadata": {
        "id": "gA2m9_6132Sx"
      },
      "outputs": [],
      "source": [
        "model_config = parse_config('topics_distilbert_base_uncased')\n",
        "#print(model_config)\n",
        "# data_path = model_config['dataset_reader']['data_path']\n",
        "# pd.read_csv(os.path.join(data_path, \"train.csv\"))\n",
        "# model = build_model(model_config, download=True)\n",
        "# print(model_config['chainer']['pipe'][3])\n",
        "# requirements = set()\n",
        "# for req in model_config.get('metadata', {}).get('requirements', []):\n",
        "#     requirements.add(req)\n",
        "\n",
        "# config_references = [expand_path(config_ref) for config_ref in get_all_elems_from_json(model_config, 'config_path')]\n",
        "# requirements |= {req for config in config_references for req in get_config_requirements(config)}\n",
        "# requirements"
      ]
    },
    {
      "cell_type": "code",
      "execution_count": null,
      "metadata": {
        "id": "8iqx673l_hD1",
        "colab": {
          "base_uri": "https://localhost:8080/"
        },
        "outputId": "61db8cea-db3c-48b5-9b5a-977d80d2ec83"
      },
      "outputs": [
        {
          "output_type": "stream",
          "name": "stderr",
          "text": [
            "2024-04-13 18:13:04.893 INFO in 'deeppavlov.core.data.simple_vocab'['simple_vocab'] at line 104: [saving vocabulary to /content/drive/MyDrive/classes.dict]\n",
            "INFO:deeppavlov.core.data.simple_vocab:[saving vocabulary to /content/drive/MyDrive/classes.dict]\n",
            "Some weights of DistilBertForSequenceClassification were not initialized from the model checkpoint at distilbert-base-uncased and are newly initialized: ['classifier.bias', 'classifier.weight', 'pre_classifier.bias', 'pre_classifier.weight']\n",
            "You should probably TRAIN this model on a down-stream task to be able to use it for predictions and inference.\n",
            "2it [00:00,  4.26it/s]\n",
            "2024-04-13 18:13:07.945 INFO in 'deeppavlov.core.trainers.nn_trainer'['nn_trainer'] at line 198: Initial best f1_macro of 0.2066\n",
            "INFO:deeppavlov.core.trainers.nn_trainer:Initial best f1_macro of 0.2066\n"
          ]
        },
        {
          "output_type": "stream",
          "name": "stdout",
          "text": [
            "{\"valid\": {\"eval_examples_count\": 111, \"metrics\": {\"f1_macro\": 0.2066, \"f1_weighted\": 0.2308, \"accuracy\": 0.2252, \"roc_auc\": 0.492}, \"time_spent\": \"0:00:01\", \"epochs_done\": 0, \"batches_seen\": 0, \"train_examples_seen\": 0, \"impatience\": 0, \"patience_limit\": 10}}\n"
          ]
        },
        {
          "output_type": "stream",
          "name": "stderr",
          "text": [
            "INFO:train_report:{\"valid\": {\"eval_examples_count\": 111, \"metrics\": {\"f1_macro\": 0.2066, \"f1_weighted\": 0.2308, \"accuracy\": 0.2252, \"roc_auc\": 0.492}, \"time_spent\": \"0:00:01\", \"epochs_done\": 0, \"batches_seen\": 0, \"train_examples_seen\": 0, \"impatience\": 0, \"patience_limit\": 10}}\n",
            "10it [00:06,  1.59it/s]\n",
            "1it [00:00,  4.21it/s]"
          ]
        },
        {
          "output_type": "stream",
          "name": "stdout",
          "text": [
            "{\"train\": {\"eval_examples_count\": 64, \"metrics\": {\"f1_macro\": 0.258, \"f1_weighted\": 0.345, \"accuracy\": 0.2656, \"roc_auc\": 0.8166}, \"time_spent\": \"0:00:08\", \"epochs_done\": 1, \"batches_seen\": 10, \"train_examples_seen\": 626, \"loss\": 1.3147743344306946}}\n"
          ]
        },
        {
          "output_type": "stream",
          "name": "stderr",
          "text": [
            "\n",
            "INFO:train_report:{\"train\": {\"eval_examples_count\": 64, \"metrics\": {\"f1_macro\": 0.258, \"f1_weighted\": 0.345, \"accuracy\": 0.2656, \"roc_auc\": 0.8166}, \"time_spent\": \"0:00:08\", \"epochs_done\": 1, \"batches_seen\": 10, \"train_examples_seen\": 626, \"loss\": 1.3147743344306946}}\n",
            "2it [00:00,  4.81it/s]\n",
            "2024-04-13 18:13:14.965 INFO in 'deeppavlov.core.trainers.nn_trainer'['nn_trainer'] at line 206: Improved best f1_macro from 0.2066 to 0.2544\n",
            "INFO:deeppavlov.core.trainers.nn_trainer:Improved best f1_macro from 0.2066 to 0.2544\n",
            "2024-04-13 18:13:14.968 INFO in 'deeppavlov.core.trainers.nn_trainer'['nn_trainer'] at line 208: Saving model\n",
            "INFO:deeppavlov.core.trainers.nn_trainer:Saving model\n",
            "2024-04-13 18:13:14.971 INFO in 'deeppavlov.core.models.torch_model'['torch_model'] at line 175: Saving model to /content/drive/MyDrive/model.pth.tar.\n",
            "INFO:deeppavlov.core.models.torch_model:Saving model to /content/drive/MyDrive/model.pth.tar.\n"
          ]
        },
        {
          "output_type": "stream",
          "name": "stdout",
          "text": [
            "{\"valid\": {\"eval_examples_count\": 111, \"metrics\": {\"f1_macro\": 0.2544, \"f1_weighted\": 0.2805, \"accuracy\": 0.2432, \"roc_auc\": 0.7997}, \"time_spent\": \"0:00:08\", \"epochs_done\": 1, \"batches_seen\": 10, \"train_examples_seen\": 626, \"impatience\": 0, \"patience_limit\": 10}}\n"
          ]
        },
        {
          "output_type": "stream",
          "name": "stderr",
          "text": [
            "INFO:train_report:{\"valid\": {\"eval_examples_count\": 111, \"metrics\": {\"f1_macro\": 0.2544, \"f1_weighted\": 0.2805, \"accuracy\": 0.2432, \"roc_auc\": 0.7997}, \"time_spent\": \"0:00:08\", \"epochs_done\": 1, \"batches_seen\": 10, \"train_examples_seen\": 626, \"impatience\": 0, \"patience_limit\": 10}}\n",
            "10it [00:06,  1.56it/s]\n",
            "1it [00:00,  4.09it/s]"
          ]
        },
        {
          "output_type": "stream",
          "name": "stdout",
          "text": [
            "{\"train\": {\"eval_examples_count\": 64, \"metrics\": {\"f1_macro\": 0.6994, \"f1_weighted\": 0.7082, \"accuracy\": 0.4844, \"roc_auc\": 0.9439}, \"time_spent\": \"0:00:22\", \"epochs_done\": 2, \"batches_seen\": 20, \"train_examples_seen\": 1252, \"loss\": 0.42043196260929105}}\n"
          ]
        },
        {
          "output_type": "stream",
          "name": "stderr",
          "text": [
            "\n",
            "INFO:train_report:{\"train\": {\"eval_examples_count\": 64, \"metrics\": {\"f1_macro\": 0.6994, \"f1_weighted\": 0.7082, \"accuracy\": 0.4844, \"roc_auc\": 0.9439}, \"time_spent\": \"0:00:22\", \"epochs_done\": 2, \"batches_seen\": 20, \"train_examples_seen\": 1252, \"loss\": 0.42043196260929105}}\n",
            "2it [00:00,  4.74it/s]\n",
            "2024-04-13 18:13:29.701 INFO in 'deeppavlov.core.trainers.nn_trainer'['nn_trainer'] at line 206: Improved best f1_macro from 0.2544 to 0.5927\n",
            "INFO:deeppavlov.core.trainers.nn_trainer:Improved best f1_macro from 0.2544 to 0.5927\n",
            "2024-04-13 18:13:29.704 INFO in 'deeppavlov.core.trainers.nn_trainer'['nn_trainer'] at line 208: Saving model\n",
            "INFO:deeppavlov.core.trainers.nn_trainer:Saving model\n",
            "2024-04-13 18:13:29.708 INFO in 'deeppavlov.core.models.torch_model'['torch_model'] at line 175: Saving model to /content/drive/MyDrive/model.pth.tar.\n",
            "INFO:deeppavlov.core.models.torch_model:Saving model to /content/drive/MyDrive/model.pth.tar.\n"
          ]
        },
        {
          "output_type": "stream",
          "name": "stdout",
          "text": [
            "{\"valid\": {\"eval_examples_count\": 111, \"metrics\": {\"f1_macro\": 0.5927, \"f1_weighted\": 0.6142, \"accuracy\": 0.4865, \"roc_auc\": 0.9268}, \"time_spent\": \"0:00:23\", \"epochs_done\": 2, \"batches_seen\": 20, \"train_examples_seen\": 1252, \"impatience\": 0, \"patience_limit\": 10}}\n"
          ]
        },
        {
          "output_type": "stream",
          "name": "stderr",
          "text": [
            "INFO:train_report:{\"valid\": {\"eval_examples_count\": 111, \"metrics\": {\"f1_macro\": 0.5927, \"f1_weighted\": 0.6142, \"accuracy\": 0.4865, \"roc_auc\": 0.9268}, \"time_spent\": \"0:00:23\", \"epochs_done\": 2, \"batches_seen\": 20, \"train_examples_seen\": 1252, \"impatience\": 0, \"patience_limit\": 10}}\n",
            "10it [00:06,  1.53it/s]\n",
            "1it [00:00,  4.10it/s]"
          ]
        },
        {
          "output_type": "stream",
          "name": "stdout",
          "text": [
            "{\"train\": {\"eval_examples_count\": 64, \"metrics\": {\"f1_macro\": 0.8111, \"f1_weighted\": 0.7749, \"accuracy\": 0.6875, \"roc_auc\": 0.9705}, \"time_spent\": \"0:00:33\", \"epochs_done\": 3, \"batches_seen\": 30, \"train_examples_seen\": 1878, \"loss\": 0.3079500198364258}}\n"
          ]
        },
        {
          "output_type": "stream",
          "name": "stderr",
          "text": [
            "\n",
            "INFO:train_report:{\"train\": {\"eval_examples_count\": 64, \"metrics\": {\"f1_macro\": 0.8111, \"f1_weighted\": 0.7749, \"accuracy\": 0.6875, \"roc_auc\": 0.9705}, \"time_spent\": \"0:00:33\", \"epochs_done\": 3, \"batches_seen\": 30, \"train_examples_seen\": 1878, \"loss\": 0.3079500198364258}}\n",
            "2it [00:00,  4.71it/s]\n",
            "2024-04-13 18:13:40.743 INFO in 'deeppavlov.core.trainers.nn_trainer'['nn_trainer'] at line 206: Improved best f1_macro from 0.5927 to 0.7084\n",
            "INFO:deeppavlov.core.trainers.nn_trainer:Improved best f1_macro from 0.5927 to 0.7084\n",
            "2024-04-13 18:13:40.745 INFO in 'deeppavlov.core.trainers.nn_trainer'['nn_trainer'] at line 208: Saving model\n",
            "INFO:deeppavlov.core.trainers.nn_trainer:Saving model\n",
            "2024-04-13 18:13:40.749 INFO in 'deeppavlov.core.models.torch_model'['torch_model'] at line 175: Saving model to /content/drive/MyDrive/model.pth.tar.\n",
            "INFO:deeppavlov.core.models.torch_model:Saving model to /content/drive/MyDrive/model.pth.tar.\n"
          ]
        },
        {
          "output_type": "stream",
          "name": "stdout",
          "text": [
            "{\"valid\": {\"eval_examples_count\": 111, \"metrics\": {\"f1_macro\": 0.7084, \"f1_weighted\": 0.7341, \"accuracy\": 0.6486, \"roc_auc\": 0.9596}, \"time_spent\": \"0:00:34\", \"epochs_done\": 3, \"batches_seen\": 30, \"train_examples_seen\": 1878, \"impatience\": 0, \"patience_limit\": 10}}\n"
          ]
        },
        {
          "output_type": "stream",
          "name": "stderr",
          "text": [
            "INFO:train_report:{\"valid\": {\"eval_examples_count\": 111, \"metrics\": {\"f1_macro\": 0.7084, \"f1_weighted\": 0.7341, \"accuracy\": 0.6486, \"roc_auc\": 0.9596}, \"time_spent\": \"0:00:34\", \"epochs_done\": 3, \"batches_seen\": 30, \"train_examples_seen\": 1878, \"impatience\": 0, \"patience_limit\": 10}}\n",
            "10it [00:06,  1.54it/s]\n",
            "1it [00:00,  4.07it/s]"
          ]
        },
        {
          "output_type": "stream",
          "name": "stdout",
          "text": [
            "{\"train\": {\"eval_examples_count\": 64, \"metrics\": {\"f1_macro\": 0.8769, \"f1_weighted\": 0.8744, \"accuracy\": 0.7969, \"roc_auc\": 0.9849}, \"time_spent\": \"0:00:44\", \"epochs_done\": 4, \"batches_seen\": 40, \"train_examples_seen\": 2504, \"loss\": 0.2324507415294647}}\n"
          ]
        },
        {
          "output_type": "stream",
          "name": "stderr",
          "text": [
            "\n",
            "INFO:train_report:{\"train\": {\"eval_examples_count\": 64, \"metrics\": {\"f1_macro\": 0.8769, \"f1_weighted\": 0.8744, \"accuracy\": 0.7969, \"roc_auc\": 0.9849}, \"time_spent\": \"0:00:44\", \"epochs_done\": 4, \"batches_seen\": 40, \"train_examples_seen\": 2504, \"loss\": 0.2324507415294647}}\n",
            "2it [00:00,  4.83it/s]\n",
            "2024-04-13 18:13:51.499 INFO in 'deeppavlov.core.trainers.nn_trainer'['nn_trainer'] at line 206: Improved best f1_macro from 0.7084 to 0.8304\n",
            "INFO:deeppavlov.core.trainers.nn_trainer:Improved best f1_macro from 0.7084 to 0.8304\n",
            "2024-04-13 18:13:51.502 INFO in 'deeppavlov.core.trainers.nn_trainer'['nn_trainer'] at line 208: Saving model\n",
            "INFO:deeppavlov.core.trainers.nn_trainer:Saving model\n",
            "2024-04-13 18:13:51.507 INFO in 'deeppavlov.core.models.torch_model'['torch_model'] at line 175: Saving model to /content/drive/MyDrive/model.pth.tar.\n",
            "INFO:deeppavlov.core.models.torch_model:Saving model to /content/drive/MyDrive/model.pth.tar.\n"
          ]
        },
        {
          "output_type": "stream",
          "name": "stdout",
          "text": [
            "{\"valid\": {\"eval_examples_count\": 111, \"metrics\": {\"f1_macro\": 0.8304, \"f1_weighted\": 0.8412, \"accuracy\": 0.7568, \"roc_auc\": 0.9712}, \"time_spent\": \"0:00:45\", \"epochs_done\": 4, \"batches_seen\": 40, \"train_examples_seen\": 2504, \"impatience\": 0, \"patience_limit\": 10}}\n"
          ]
        },
        {
          "output_type": "stream",
          "name": "stderr",
          "text": [
            "INFO:train_report:{\"valid\": {\"eval_examples_count\": 111, \"metrics\": {\"f1_macro\": 0.8304, \"f1_weighted\": 0.8412, \"accuracy\": 0.7568, \"roc_auc\": 0.9712}, \"time_spent\": \"0:00:45\", \"epochs_done\": 4, \"batches_seen\": 40, \"train_examples_seen\": 2504, \"impatience\": 0, \"patience_limit\": 10}}\n",
            "10it [00:06,  1.56it/s]\n",
            "1it [00:00,  4.16it/s]"
          ]
        },
        {
          "output_type": "stream",
          "name": "stdout",
          "text": [
            "{\"train\": {\"eval_examples_count\": 64, \"metrics\": {\"f1_macro\": 0.9073, \"f1_weighted\": 0.9146, \"accuracy\": 0.8438, \"roc_auc\": 0.9945}, \"time_spent\": \"0:00:55\", \"epochs_done\": 5, \"batches_seen\": 50, \"train_examples_seen\": 3130, \"loss\": 0.1718929663300514}}\n"
          ]
        },
        {
          "output_type": "stream",
          "name": "stderr",
          "text": [
            "\n",
            "INFO:train_report:{\"train\": {\"eval_examples_count\": 64, \"metrics\": {\"f1_macro\": 0.9073, \"f1_weighted\": 0.9146, \"accuracy\": 0.8438, \"roc_auc\": 0.9945}, \"time_spent\": \"0:00:55\", \"epochs_done\": 5, \"batches_seen\": 50, \"train_examples_seen\": 3130, \"loss\": 0.1718929663300514}}\n",
            "2it [00:00,  4.90it/s]\n",
            "2024-04-13 18:14:02.97 INFO in 'deeppavlov.core.trainers.nn_trainer'['nn_trainer'] at line 206: Improved best f1_macro from 0.8304 to 0.8933\n",
            "INFO:deeppavlov.core.trainers.nn_trainer:Improved best f1_macro from 0.8304 to 0.8933\n",
            "2024-04-13 18:14:02.101 INFO in 'deeppavlov.core.trainers.nn_trainer'['nn_trainer'] at line 208: Saving model\n",
            "INFO:deeppavlov.core.trainers.nn_trainer:Saving model\n",
            "2024-04-13 18:14:02.111 INFO in 'deeppavlov.core.models.torch_model'['torch_model'] at line 175: Saving model to /content/drive/MyDrive/model.pth.tar.\n",
            "INFO:deeppavlov.core.models.torch_model:Saving model to /content/drive/MyDrive/model.pth.tar.\n"
          ]
        },
        {
          "output_type": "stream",
          "name": "stdout",
          "text": [
            "{\"valid\": {\"eval_examples_count\": 111, \"metrics\": {\"f1_macro\": 0.8933, \"f1_weighted\": 0.8971, \"accuracy\": 0.8198, \"roc_auc\": 0.9798}, \"time_spent\": \"0:00:55\", \"epochs_done\": 5, \"batches_seen\": 50, \"train_examples_seen\": 3130, \"impatience\": 0, \"patience_limit\": 10}}\n"
          ]
        },
        {
          "output_type": "stream",
          "name": "stderr",
          "text": [
            "INFO:train_report:{\"valid\": {\"eval_examples_count\": 111, \"metrics\": {\"f1_macro\": 0.8933, \"f1_weighted\": 0.8971, \"accuracy\": 0.8198, \"roc_auc\": 0.9798}, \"time_spent\": \"0:00:55\", \"epochs_done\": 5, \"batches_seen\": 50, \"train_examples_seen\": 3130, \"impatience\": 0, \"patience_limit\": 10}}\n",
            "10it [00:06,  1.59it/s]\n",
            "1it [00:00,  4.05it/s]"
          ]
        },
        {
          "output_type": "stream",
          "name": "stdout",
          "text": [
            "{\"train\": {\"eval_examples_count\": 64, \"metrics\": {\"f1_macro\": 0.9513, \"f1_weighted\": 0.9505, \"accuracy\": 0.9062, \"roc_auc\": 0.9943}, \"time_spent\": \"0:01:06\", \"epochs_done\": 6, \"batches_seen\": 60, \"train_examples_seen\": 3756, \"loss\": 0.13816066309809685}}\n"
          ]
        },
        {
          "output_type": "stream",
          "name": "stderr",
          "text": [
            "\n",
            "INFO:train_report:{\"train\": {\"eval_examples_count\": 64, \"metrics\": {\"f1_macro\": 0.9513, \"f1_weighted\": 0.9505, \"accuracy\": 0.9062, \"roc_auc\": 0.9943}, \"time_spent\": \"0:01:06\", \"epochs_done\": 6, \"batches_seen\": 60, \"train_examples_seen\": 3756, \"loss\": 0.13816066309809685}}\n",
            "2it [00:00,  4.72it/s]\n",
            "2024-04-13 18:14:13.70 INFO in 'deeppavlov.core.trainers.nn_trainer'['nn_trainer'] at line 211: Did not improve on the f1_macro of 0.8933\n",
            "INFO:deeppavlov.core.trainers.nn_trainer:Did not improve on the f1_macro of 0.8933\n"
          ]
        },
        {
          "output_type": "stream",
          "name": "stdout",
          "text": [
            "{\"valid\": {\"eval_examples_count\": 111, \"metrics\": {\"f1_macro\": 0.884, \"f1_weighted\": 0.8883, \"accuracy\": 0.8288, \"roc_auc\": 0.9856}, \"time_spent\": \"0:01:06\", \"epochs_done\": 6, \"batches_seen\": 60, \"train_examples_seen\": 3756, \"impatience\": 1, \"patience_limit\": 10}}\n"
          ]
        },
        {
          "output_type": "stream",
          "name": "stderr",
          "text": [
            "INFO:train_report:{\"valid\": {\"eval_examples_count\": 111, \"metrics\": {\"f1_macro\": 0.884, \"f1_weighted\": 0.8883, \"accuracy\": 0.8288, \"roc_auc\": 0.9856}, \"time_spent\": \"0:01:06\", \"epochs_done\": 6, \"batches_seen\": 60, \"train_examples_seen\": 3756, \"impatience\": 1, \"patience_limit\": 10}}\n",
            "10it [00:06,  1.57it/s]\n",
            "1it [00:00,  4.30it/s]"
          ]
        },
        {
          "output_type": "stream",
          "name": "stdout",
          "text": [
            "{\"train\": {\"eval_examples_count\": 64, \"metrics\": {\"f1_macro\": 0.9539, \"f1_weighted\": 0.9519, \"accuracy\": 0.9375, \"roc_auc\": 0.9964}, \"time_spent\": \"0:01:13\", \"epochs_done\": 7, \"batches_seen\": 70, \"train_examples_seen\": 4382, \"loss\": 0.11197454780340195}}\n"
          ]
        },
        {
          "output_type": "stream",
          "name": "stderr",
          "text": [
            "\n",
            "INFO:train_report:{\"train\": {\"eval_examples_count\": 64, \"metrics\": {\"f1_macro\": 0.9539, \"f1_weighted\": 0.9519, \"accuracy\": 0.9375, \"roc_auc\": 0.9964}, \"time_spent\": \"0:01:13\", \"epochs_done\": 7, \"batches_seen\": 70, \"train_examples_seen\": 4382, \"loss\": 0.11197454780340195}}\n",
            "2it [00:00,  4.84it/s]\n",
            "2024-04-13 18:14:20.188 INFO in 'deeppavlov.core.trainers.nn_trainer'['nn_trainer'] at line 206: Improved best f1_macro from 0.8933 to 0.9118\n",
            "INFO:deeppavlov.core.trainers.nn_trainer:Improved best f1_macro from 0.8933 to 0.9118\n",
            "2024-04-13 18:14:20.195 INFO in 'deeppavlov.core.trainers.nn_trainer'['nn_trainer'] at line 208: Saving model\n",
            "INFO:deeppavlov.core.trainers.nn_trainer:Saving model\n",
            "2024-04-13 18:14:20.200 INFO in 'deeppavlov.core.models.torch_model'['torch_model'] at line 175: Saving model to /content/drive/MyDrive/model.pth.tar.\n",
            "INFO:deeppavlov.core.models.torch_model:Saving model to /content/drive/MyDrive/model.pth.tar.\n"
          ]
        },
        {
          "output_type": "stream",
          "name": "stdout",
          "text": [
            "{\"valid\": {\"eval_examples_count\": 111, \"metrics\": {\"f1_macro\": 0.9118, \"f1_weighted\": 0.915, \"accuracy\": 0.8739, \"roc_auc\": 0.9899}, \"time_spent\": \"0:01:13\", \"epochs_done\": 7, \"batches_seen\": 70, \"train_examples_seen\": 4382, \"impatience\": 0, \"patience_limit\": 10}}\n"
          ]
        },
        {
          "output_type": "stream",
          "name": "stderr",
          "text": [
            "INFO:train_report:{\"valid\": {\"eval_examples_count\": 111, \"metrics\": {\"f1_macro\": 0.9118, \"f1_weighted\": 0.915, \"accuracy\": 0.8739, \"roc_auc\": 0.9899}, \"time_spent\": \"0:01:13\", \"epochs_done\": 7, \"batches_seen\": 70, \"train_examples_seen\": 4382, \"impatience\": 0, \"patience_limit\": 10}}\n",
            "10it [00:06,  1.62it/s]\n",
            "1it [00:00,  4.20it/s]"
          ]
        },
        {
          "output_type": "stream",
          "name": "stdout",
          "text": [
            "{\"train\": {\"eval_examples_count\": 64, \"metrics\": {\"f1_macro\": 0.9433, \"f1_weighted\": 0.9439, \"accuracy\": 0.9062, \"roc_auc\": 0.9985}, \"time_spent\": \"0:01:28\", \"epochs_done\": 8, \"batches_seen\": 80, \"train_examples_seen\": 5008, \"loss\": 0.09080557972192764}}\n"
          ]
        },
        {
          "output_type": "stream",
          "name": "stderr",
          "text": [
            "\n",
            "INFO:train_report:{\"train\": {\"eval_examples_count\": 64, \"metrics\": {\"f1_macro\": 0.9433, \"f1_weighted\": 0.9439, \"accuracy\": 0.9062, \"roc_auc\": 0.9985}, \"time_spent\": \"0:01:28\", \"epochs_done\": 8, \"batches_seen\": 80, \"train_examples_seen\": 5008, \"loss\": 0.09080557972192764}}\n",
            "2it [00:00,  4.90it/s]\n",
            "2024-04-13 18:14:35.404 INFO in 'deeppavlov.core.trainers.nn_trainer'['nn_trainer'] at line 206: Improved best f1_macro from 0.9118 to 0.927\n",
            "INFO:deeppavlov.core.trainers.nn_trainer:Improved best f1_macro from 0.9118 to 0.927\n",
            "2024-04-13 18:14:35.413 INFO in 'deeppavlov.core.trainers.nn_trainer'['nn_trainer'] at line 208: Saving model\n",
            "INFO:deeppavlov.core.trainers.nn_trainer:Saving model\n",
            "2024-04-13 18:14:35.419 INFO in 'deeppavlov.core.models.torch_model'['torch_model'] at line 175: Saving model to /content/drive/MyDrive/model.pth.tar.\n",
            "INFO:deeppavlov.core.models.torch_model:Saving model to /content/drive/MyDrive/model.pth.tar.\n"
          ]
        },
        {
          "output_type": "stream",
          "name": "stdout",
          "text": [
            "{\"valid\": {\"eval_examples_count\": 111, \"metrics\": {\"f1_macro\": 0.927, \"f1_weighted\": 0.9295, \"accuracy\": 0.8919, \"roc_auc\": 0.9914}, \"time_spent\": \"0:01:28\", \"epochs_done\": 8, \"batches_seen\": 80, \"train_examples_seen\": 5008, \"impatience\": 0, \"patience_limit\": 10}}\n"
          ]
        },
        {
          "output_type": "stream",
          "name": "stderr",
          "text": [
            "INFO:train_report:{\"valid\": {\"eval_examples_count\": 111, \"metrics\": {\"f1_macro\": 0.927, \"f1_weighted\": 0.9295, \"accuracy\": 0.8919, \"roc_auc\": 0.9914}, \"time_spent\": \"0:01:28\", \"epochs_done\": 8, \"batches_seen\": 80, \"train_examples_seen\": 5008, \"impatience\": 0, \"patience_limit\": 10}}\n",
            "10it [00:06,  1.59it/s]\n",
            "1it [00:00,  4.23it/s]"
          ]
        },
        {
          "output_type": "stream",
          "name": "stdout",
          "text": [
            "{\"train\": {\"eval_examples_count\": 64, \"metrics\": {\"f1_macro\": 0.9435, \"f1_weighted\": 0.9414, \"accuracy\": 0.9062, \"roc_auc\": 0.9988}, \"time_spent\": \"0:01:39\", \"epochs_done\": 9, \"batches_seen\": 90, \"train_examples_seen\": 5634, \"loss\": 0.07622258998453617}}\n"
          ]
        },
        {
          "output_type": "stream",
          "name": "stderr",
          "text": [
            "\n",
            "INFO:train_report:{\"train\": {\"eval_examples_count\": 64, \"metrics\": {\"f1_macro\": 0.9435, \"f1_weighted\": 0.9414, \"accuracy\": 0.9062, \"roc_auc\": 0.9988}, \"time_spent\": \"0:01:39\", \"epochs_done\": 9, \"batches_seen\": 90, \"train_examples_seen\": 5634, \"loss\": 0.07622258998453617}}\n",
            "2it [00:00,  4.94it/s]\n",
            "2024-04-13 18:14:46.670 INFO in 'deeppavlov.core.trainers.nn_trainer'['nn_trainer'] at line 211: Did not improve on the f1_macro of 0.927\n",
            "INFO:deeppavlov.core.trainers.nn_trainer:Did not improve on the f1_macro of 0.927\n"
          ]
        },
        {
          "output_type": "stream",
          "name": "stdout",
          "text": [
            "{\"valid\": {\"eval_examples_count\": 111, \"metrics\": {\"f1_macro\": 0.927, \"f1_weighted\": 0.9295, \"accuracy\": 0.8919, \"roc_auc\": 0.9916}, \"time_spent\": \"0:01:40\", \"epochs_done\": 9, \"batches_seen\": 90, \"train_examples_seen\": 5634, \"impatience\": 1, \"patience_limit\": 10}}\n"
          ]
        },
        {
          "output_type": "stream",
          "name": "stderr",
          "text": [
            "INFO:train_report:{\"valid\": {\"eval_examples_count\": 111, \"metrics\": {\"f1_macro\": 0.927, \"f1_weighted\": 0.9295, \"accuracy\": 0.8919, \"roc_auc\": 0.9916}, \"time_spent\": \"0:01:40\", \"epochs_done\": 9, \"batches_seen\": 90, \"train_examples_seen\": 5634, \"impatience\": 1, \"patience_limit\": 10}}\n",
            "9it [00:05,  1.50it/s]\n",
            "0it [00:00, ?it/s]\u001b[A\n",
            "1it [00:00,  3.94it/s]"
          ]
        },
        {
          "output_type": "stream",
          "name": "stdout",
          "text": [
            "{\"train\": {\"eval_examples_count\": 64, \"metrics\": {\"f1_macro\": 0.9406, \"f1_weighted\": 0.9492, \"accuracy\": 0.9375, \"roc_auc\": 0.9996}, \"time_spent\": \"0:01:46\", \"epochs_done\": 9, \"batches_seen\": 100, \"train_examples_seen\": 6260, \"loss\": 0.06420175209641457}}\n"
          ]
        },
        {
          "output_type": "stream",
          "name": "stderr",
          "text": [
            "\n",
            "INFO:train_report:{\"train\": {\"eval_examples_count\": 64, \"metrics\": {\"f1_macro\": 0.9406, \"f1_weighted\": 0.9492, \"accuracy\": 0.9375, \"roc_auc\": 0.9996}, \"time_spent\": \"0:01:46\", \"epochs_done\": 9, \"batches_seen\": 100, \"train_examples_seen\": 6260, \"loss\": 0.06420175209641457}}\n",
            "10it [00:06,  1.48it/s]\n",
            "1it [00:00,  3.91it/s]"
          ]
        },
        {
          "output_type": "stream",
          "name": "stdout",
          "text": [
            "{\"train\": {\"eval_examples_count\": 64, \"metrics\": {\"f1_macro\": 0.9669, \"f1_weighted\": 0.9689, \"accuracy\": 0.9531, \"roc_auc\": 0.9997}, \"time_spent\": \"0:01:47\", \"epochs_done\": 10, \"batches_seen\": 100, \"train_examples_seen\": 6260}}\n"
          ]
        },
        {
          "output_type": "stream",
          "name": "stderr",
          "text": [
            "\n",
            "INFO:train_report:{\"train\": {\"eval_examples_count\": 64, \"metrics\": {\"f1_macro\": 0.9669, \"f1_weighted\": 0.9689, \"accuracy\": 0.9531, \"roc_auc\": 0.9997}, \"time_spent\": \"0:01:47\", \"epochs_done\": 10, \"batches_seen\": 100, \"train_examples_seen\": 6260}}\n",
            "2it [00:00,  4.71it/s]\n",
            "2024-04-13 18:14:54.157 INFO in 'deeppavlov.core.trainers.nn_trainer'['nn_trainer'] at line 211: Did not improve on the f1_macro of 0.927\n",
            "INFO:deeppavlov.core.trainers.nn_trainer:Did not improve on the f1_macro of 0.927\n"
          ]
        },
        {
          "output_type": "stream",
          "name": "stdout",
          "text": [
            "{\"valid\": {\"eval_examples_count\": 111, \"metrics\": {\"f1_macro\": 0.9226, \"f1_weighted\": 0.9244, \"accuracy\": 0.8739, \"roc_auc\": 0.9923}, \"time_spent\": \"0:01:47\", \"epochs_done\": 10, \"batches_seen\": 100, \"train_examples_seen\": 6260, \"impatience\": 2, \"patience_limit\": 10}}\n"
          ]
        },
        {
          "output_type": "stream",
          "name": "stderr",
          "text": [
            "INFO:train_report:{\"valid\": {\"eval_examples_count\": 111, \"metrics\": {\"f1_macro\": 0.9226, \"f1_weighted\": 0.9244, \"accuracy\": 0.8739, \"roc_auc\": 0.9923}, \"time_spent\": \"0:01:47\", \"epochs_done\": 10, \"batches_seen\": 100, \"train_examples_seen\": 6260, \"impatience\": 2, \"patience_limit\": 10}}\n",
            "10it [00:06,  1.54it/s]\n",
            "1it [00:00,  4.13it/s]"
          ]
        },
        {
          "output_type": "stream",
          "name": "stdout",
          "text": [
            "{\"train\": {\"eval_examples_count\": 64, \"metrics\": {\"f1_macro\": 0.9787, \"f1_weighted\": 0.9762, \"accuracy\": 0.9531, \"roc_auc\": 0.9997}, \"time_spent\": \"0:01:54\", \"epochs_done\": 11, \"batches_seen\": 110, \"train_examples_seen\": 6886, \"loss\": 0.0567453907802701}}\n"
          ]
        },
        {
          "output_type": "stream",
          "name": "stderr",
          "text": [
            "\n",
            "INFO:train_report:{\"train\": {\"eval_examples_count\": 64, \"metrics\": {\"f1_macro\": 0.9787, \"f1_weighted\": 0.9762, \"accuracy\": 0.9531, \"roc_auc\": 0.9997}, \"time_spent\": \"0:01:54\", \"epochs_done\": 11, \"batches_seen\": 110, \"train_examples_seen\": 6886, \"loss\": 0.0567453907802701}}\n",
            "2it [00:00,  4.75it/s]\n",
            "2024-04-13 18:15:01.369 INFO in 'deeppavlov.core.trainers.nn_trainer'['nn_trainer'] at line 206: Improved best f1_macro from 0.927 to 0.9384\n",
            "INFO:deeppavlov.core.trainers.nn_trainer:Improved best f1_macro from 0.927 to 0.9384\n",
            "2024-04-13 18:15:01.372 INFO in 'deeppavlov.core.trainers.nn_trainer'['nn_trainer'] at line 208: Saving model\n",
            "INFO:deeppavlov.core.trainers.nn_trainer:Saving model\n",
            "2024-04-13 18:15:01.375 INFO in 'deeppavlov.core.models.torch_model'['torch_model'] at line 175: Saving model to /content/drive/MyDrive/model.pth.tar.\n",
            "INFO:deeppavlov.core.models.torch_model:Saving model to /content/drive/MyDrive/model.pth.tar.\n"
          ]
        },
        {
          "output_type": "stream",
          "name": "stdout",
          "text": [
            "{\"valid\": {\"eval_examples_count\": 111, \"metrics\": {\"f1_macro\": 0.9384, \"f1_weighted\": 0.9396, \"accuracy\": 0.9099, \"roc_auc\": 0.9932}, \"time_spent\": \"0:01:54\", \"epochs_done\": 11, \"batches_seen\": 110, \"train_examples_seen\": 6886, \"impatience\": 0, \"patience_limit\": 10}}\n"
          ]
        },
        {
          "output_type": "stream",
          "name": "stderr",
          "text": [
            "INFO:train_report:{\"valid\": {\"eval_examples_count\": 111, \"metrics\": {\"f1_macro\": 0.9384, \"f1_weighted\": 0.9396, \"accuracy\": 0.9099, \"roc_auc\": 0.9932}, \"time_spent\": \"0:01:54\", \"epochs_done\": 11, \"batches_seen\": 110, \"train_examples_seen\": 6886, \"impatience\": 0, \"patience_limit\": 10}}\n",
            "10it [00:06,  1.55it/s]\n",
            "1it [00:00,  4.03it/s]"
          ]
        },
        {
          "output_type": "stream",
          "name": "stdout",
          "text": [
            "{\"train\": {\"eval_examples_count\": 64, \"metrics\": {\"f1_macro\": 0.9697, \"f1_weighted\": 0.9687, \"accuracy\": 0.9531, \"roc_auc\": 0.998}, \"time_spent\": \"0:02:05\", \"epochs_done\": 12, \"batches_seen\": 120, \"train_examples_seen\": 7512, \"loss\": 0.0455117043107748}}\n"
          ]
        },
        {
          "output_type": "stream",
          "name": "stderr",
          "text": [
            "\n",
            "INFO:train_report:{\"train\": {\"eval_examples_count\": 64, \"metrics\": {\"f1_macro\": 0.9697, \"f1_weighted\": 0.9687, \"accuracy\": 0.9531, \"roc_auc\": 0.998}, \"time_spent\": \"0:02:05\", \"epochs_done\": 12, \"batches_seen\": 120, \"train_examples_seen\": 7512, \"loss\": 0.0455117043107748}}\n",
            "2it [00:00,  4.72it/s]\n",
            "2024-04-13 18:15:12.301 INFO in 'deeppavlov.core.trainers.nn_trainer'['nn_trainer'] at line 206: Improved best f1_macro from 0.9384 to 0.9508\n",
            "INFO:deeppavlov.core.trainers.nn_trainer:Improved best f1_macro from 0.9384 to 0.9508\n",
            "2024-04-13 18:15:12.304 INFO in 'deeppavlov.core.trainers.nn_trainer'['nn_trainer'] at line 208: Saving model\n",
            "INFO:deeppavlov.core.trainers.nn_trainer:Saving model\n",
            "2024-04-13 18:15:12.315 INFO in 'deeppavlov.core.models.torch_model'['torch_model'] at line 175: Saving model to /content/drive/MyDrive/model.pth.tar.\n",
            "INFO:deeppavlov.core.models.torch_model:Saving model to /content/drive/MyDrive/model.pth.tar.\n"
          ]
        },
        {
          "output_type": "stream",
          "name": "stdout",
          "text": [
            "{\"valid\": {\"eval_examples_count\": 111, \"metrics\": {\"f1_macro\": 0.9508, \"f1_weighted\": 0.9533, \"accuracy\": 0.9279, \"roc_auc\": 0.9943}, \"time_spent\": \"0:02:05\", \"epochs_done\": 12, \"batches_seen\": 120, \"train_examples_seen\": 7512, \"impatience\": 0, \"patience_limit\": 10}}\n"
          ]
        },
        {
          "output_type": "stream",
          "name": "stderr",
          "text": [
            "INFO:train_report:{\"valid\": {\"eval_examples_count\": 111, \"metrics\": {\"f1_macro\": 0.9508, \"f1_weighted\": 0.9533, \"accuracy\": 0.9279, \"roc_auc\": 0.9943}, \"time_spent\": \"0:02:05\", \"epochs_done\": 12, \"batches_seen\": 120, \"train_examples_seen\": 7512, \"impatience\": 0, \"patience_limit\": 10}}\n",
            "10it [00:06,  1.56it/s]\n",
            "1it [00:00,  4.22it/s]"
          ]
        },
        {
          "output_type": "stream",
          "name": "stdout",
          "text": [
            "{\"train\": {\"eval_examples_count\": 64, \"metrics\": {\"f1_macro\": 0.9691, \"f1_weighted\": 0.9684, \"accuracy\": 0.9531, \"roc_auc\": 1.0}, \"time_spent\": \"0:02:16\", \"epochs_done\": 13, \"batches_seen\": 130, \"train_examples_seen\": 8138, \"loss\": 0.043888548761606215}}\n"
          ]
        },
        {
          "output_type": "stream",
          "name": "stderr",
          "text": [
            "\n",
            "INFO:train_report:{\"train\": {\"eval_examples_count\": 64, \"metrics\": {\"f1_macro\": 0.9691, \"f1_weighted\": 0.9684, \"accuracy\": 0.9531, \"roc_auc\": 1.0}, \"time_spent\": \"0:02:16\", \"epochs_done\": 13, \"batches_seen\": 130, \"train_examples_seen\": 8138, \"loss\": 0.043888548761606215}}\n",
            "2it [00:00,  4.93it/s]\n",
            "2024-04-13 18:15:23.22 INFO in 'deeppavlov.core.trainers.nn_trainer'['nn_trainer'] at line 206: Improved best f1_macro from 0.9508 to 0.9556\n",
            "INFO:deeppavlov.core.trainers.nn_trainer:Improved best f1_macro from 0.9508 to 0.9556\n",
            "2024-04-13 18:15:23.26 INFO in 'deeppavlov.core.trainers.nn_trainer'['nn_trainer'] at line 208: Saving model\n",
            "INFO:deeppavlov.core.trainers.nn_trainer:Saving model\n",
            "2024-04-13 18:15:23.31 INFO in 'deeppavlov.core.models.torch_model'['torch_model'] at line 175: Saving model to /content/drive/MyDrive/model.pth.tar.\n",
            "INFO:deeppavlov.core.models.torch_model:Saving model to /content/drive/MyDrive/model.pth.tar.\n"
          ]
        },
        {
          "output_type": "stream",
          "name": "stdout",
          "text": [
            "{\"valid\": {\"eval_examples_count\": 111, \"metrics\": {\"f1_macro\": 0.9556, \"f1_weighted\": 0.9585, \"accuracy\": 0.9369, \"roc_auc\": 0.9953}, \"time_spent\": \"0:02:16\", \"epochs_done\": 13, \"batches_seen\": 130, \"train_examples_seen\": 8138, \"impatience\": 0, \"patience_limit\": 10}}\n"
          ]
        },
        {
          "output_type": "stream",
          "name": "stderr",
          "text": [
            "INFO:train_report:{\"valid\": {\"eval_examples_count\": 111, \"metrics\": {\"f1_macro\": 0.9556, \"f1_weighted\": 0.9585, \"accuracy\": 0.9369, \"roc_auc\": 0.9953}, \"time_spent\": \"0:02:16\", \"epochs_done\": 13, \"batches_seen\": 130, \"train_examples_seen\": 8138, \"impatience\": 0, \"patience_limit\": 10}}\n",
            "10it [00:06,  1.58it/s]\n",
            "1it [00:00,  4.26it/s]"
          ]
        },
        {
          "output_type": "stream",
          "name": "stdout",
          "text": [
            "{\"train\": {\"eval_examples_count\": 64, \"metrics\": {\"f1_macro\": 0.9844, \"f1_weighted\": 0.9845, \"accuracy\": 0.9844, \"roc_auc\": 1.0}, \"time_spent\": \"0:02:26\", \"epochs_done\": 14, \"batches_seen\": 140, \"train_examples_seen\": 8764, \"loss\": 0.04040711019188166}}\n"
          ]
        },
        {
          "output_type": "stream",
          "name": "stderr",
          "text": [
            "\n",
            "INFO:train_report:{\"train\": {\"eval_examples_count\": 64, \"metrics\": {\"f1_macro\": 0.9844, \"f1_weighted\": 0.9845, \"accuracy\": 0.9844, \"roc_auc\": 1.0}, \"time_spent\": \"0:02:26\", \"epochs_done\": 14, \"batches_seen\": 140, \"train_examples_seen\": 8764, \"loss\": 0.04040711019188166}}\n",
            "2it [00:00,  4.84it/s]\n",
            "2024-04-13 18:15:33.442 INFO in 'deeppavlov.core.trainers.nn_trainer'['nn_trainer'] at line 211: Did not improve on the f1_macro of 0.9556\n",
            "INFO:deeppavlov.core.trainers.nn_trainer:Did not improve on the f1_macro of 0.9556\n"
          ]
        },
        {
          "output_type": "stream",
          "name": "stdout",
          "text": [
            "{\"valid\": {\"eval_examples_count\": 111, \"metrics\": {\"f1_macro\": 0.9556, \"f1_weighted\": 0.9585, \"accuracy\": 0.9369, \"roc_auc\": 0.9955}, \"time_spent\": \"0:02:26\", \"epochs_done\": 14, \"batches_seen\": 140, \"train_examples_seen\": 8764, \"impatience\": 1, \"patience_limit\": 10}}\n"
          ]
        },
        {
          "output_type": "stream",
          "name": "stderr",
          "text": [
            "INFO:train_report:{\"valid\": {\"eval_examples_count\": 111, \"metrics\": {\"f1_macro\": 0.9556, \"f1_weighted\": 0.9585, \"accuracy\": 0.9369, \"roc_auc\": 0.9955}, \"time_spent\": \"0:02:26\", \"epochs_done\": 14, \"batches_seen\": 140, \"train_examples_seen\": 8764, \"impatience\": 1, \"patience_limit\": 10}}\n",
            "10it [00:06,  1.58it/s]\n",
            "1it [00:00,  4.14it/s]"
          ]
        },
        {
          "output_type": "stream",
          "name": "stdout",
          "text": [
            "{\"train\": {\"eval_examples_count\": 64, \"metrics\": {\"f1_macro\": 0.9848, \"f1_weighted\": 0.9841, \"accuracy\": 0.9844, \"roc_auc\": 0.9996}, \"time_spent\": \"0:02:33\", \"epochs_done\": 15, \"batches_seen\": 150, \"train_examples_seen\": 9390, \"loss\": 0.03804932739585638}}\n"
          ]
        },
        {
          "output_type": "stream",
          "name": "stderr",
          "text": [
            "\n",
            "INFO:train_report:{\"train\": {\"eval_examples_count\": 64, \"metrics\": {\"f1_macro\": 0.9848, \"f1_weighted\": 0.9841, \"accuracy\": 0.9844, \"roc_auc\": 0.9996}, \"time_spent\": \"0:02:33\", \"epochs_done\": 15, \"batches_seen\": 150, \"train_examples_seen\": 9390, \"loss\": 0.03804932739585638}}\n",
            "2it [00:00,  4.84it/s]\n",
            "2024-04-13 18:15:40.490 INFO in 'deeppavlov.core.trainers.nn_trainer'['nn_trainer'] at line 211: Did not improve on the f1_macro of 0.9556\n",
            "INFO:deeppavlov.core.trainers.nn_trainer:Did not improve on the f1_macro of 0.9556\n"
          ]
        },
        {
          "output_type": "stream",
          "name": "stdout",
          "text": [
            "{\"valid\": {\"eval_examples_count\": 111, \"metrics\": {\"f1_macro\": 0.9474, \"f1_weighted\": 0.9501, \"accuracy\": 0.9369, \"roc_auc\": 0.9966}, \"time_spent\": \"0:02:34\", \"epochs_done\": 15, \"batches_seen\": 150, \"train_examples_seen\": 9390, \"impatience\": 2, \"patience_limit\": 10}}\n"
          ]
        },
        {
          "output_type": "stream",
          "name": "stderr",
          "text": [
            "INFO:train_report:{\"valid\": {\"eval_examples_count\": 111, \"metrics\": {\"f1_macro\": 0.9474, \"f1_weighted\": 0.9501, \"accuracy\": 0.9369, \"roc_auc\": 0.9966}, \"time_spent\": \"0:02:34\", \"epochs_done\": 15, \"batches_seen\": 150, \"train_examples_seen\": 9390, \"impatience\": 2, \"patience_limit\": 10}}\n",
            "10it [00:06,  1.56it/s]\n",
            "1it [00:00,  4.19it/s]"
          ]
        },
        {
          "output_type": "stream",
          "name": "stdout",
          "text": [
            "{\"train\": {\"eval_examples_count\": 64, \"metrics\": {\"f1_macro\": 0.9882, \"f1_weighted\": 0.9926, \"accuracy\": 0.9844, \"roc_auc\": 1.0}, \"time_spent\": \"0:02:40\", \"epochs_done\": 16, \"batches_seen\": 160, \"train_examples_seen\": 10016, \"loss\": 0.03007008843123913}}\n"
          ]
        },
        {
          "output_type": "stream",
          "name": "stderr",
          "text": [
            "\n",
            "INFO:train_report:{\"train\": {\"eval_examples_count\": 64, \"metrics\": {\"f1_macro\": 0.9882, \"f1_weighted\": 0.9926, \"accuracy\": 0.9844, \"roc_auc\": 1.0}, \"time_spent\": \"0:02:40\", \"epochs_done\": 16, \"batches_seen\": 160, \"train_examples_seen\": 10016, \"loss\": 0.03007008843123913}}\n",
            "2it [00:00,  4.80it/s]\n",
            "2024-04-13 18:15:47.593 INFO in 'deeppavlov.core.trainers.nn_trainer'['nn_trainer'] at line 206: Improved best f1_macro from 0.9556 to 0.958\n",
            "INFO:deeppavlov.core.trainers.nn_trainer:Improved best f1_macro from 0.9556 to 0.958\n",
            "2024-04-13 18:15:47.596 INFO in 'deeppavlov.core.trainers.nn_trainer'['nn_trainer'] at line 208: Saving model\n",
            "INFO:deeppavlov.core.trainers.nn_trainer:Saving model\n",
            "2024-04-13 18:15:47.600 INFO in 'deeppavlov.core.models.torch_model'['torch_model'] at line 175: Saving model to /content/drive/MyDrive/model.pth.tar.\n",
            "INFO:deeppavlov.core.models.torch_model:Saving model to /content/drive/MyDrive/model.pth.tar.\n"
          ]
        },
        {
          "output_type": "stream",
          "name": "stdout",
          "text": [
            "{\"valid\": {\"eval_examples_count\": 111, \"metrics\": {\"f1_macro\": 0.958, \"f1_weighted\": 0.959, \"accuracy\": 0.9369, \"roc_auc\": 0.997}, \"time_spent\": \"0:02:41\", \"epochs_done\": 16, \"batches_seen\": 160, \"train_examples_seen\": 10016, \"impatience\": 0, \"patience_limit\": 10}}\n"
          ]
        },
        {
          "output_type": "stream",
          "name": "stderr",
          "text": [
            "INFO:train_report:{\"valid\": {\"eval_examples_count\": 111, \"metrics\": {\"f1_macro\": 0.958, \"f1_weighted\": 0.959, \"accuracy\": 0.9369, \"roc_auc\": 0.997}, \"time_spent\": \"0:02:41\", \"epochs_done\": 16, \"batches_seen\": 160, \"train_examples_seen\": 10016, \"impatience\": 0, \"patience_limit\": 10}}\n",
            "10it [00:06,  1.59it/s]\n",
            "1it [00:00,  4.05it/s]"
          ]
        },
        {
          "output_type": "stream",
          "name": "stdout",
          "text": [
            "{\"train\": {\"eval_examples_count\": 64, \"metrics\": {\"f1_macro\": 0.9869, \"f1_weighted\": 0.9844, \"accuracy\": 0.9688, \"roc_auc\": 1.0}, \"time_spent\": \"0:02:51\", \"epochs_done\": 17, \"batches_seen\": 170, \"train_examples_seen\": 10642, \"loss\": 0.027621413487941025}}\n"
          ]
        },
        {
          "output_type": "stream",
          "name": "stderr",
          "text": [
            "\n",
            "INFO:train_report:{\"train\": {\"eval_examples_count\": 64, \"metrics\": {\"f1_macro\": 0.9869, \"f1_weighted\": 0.9844, \"accuracy\": 0.9688, \"roc_auc\": 1.0}, \"time_spent\": \"0:02:51\", \"epochs_done\": 17, \"batches_seen\": 170, \"train_examples_seen\": 10642, \"loss\": 0.027621413487941025}}\n",
            "2it [00:00,  4.63it/s]\n",
            "2024-04-13 18:15:58.30 INFO in 'deeppavlov.core.trainers.nn_trainer'['nn_trainer'] at line 206: Improved best f1_macro from 0.958 to 0.9603\n",
            "INFO:deeppavlov.core.trainers.nn_trainer:Improved best f1_macro from 0.958 to 0.9603\n",
            "2024-04-13 18:15:58.35 INFO in 'deeppavlov.core.trainers.nn_trainer'['nn_trainer'] at line 208: Saving model\n",
            "INFO:deeppavlov.core.trainers.nn_trainer:Saving model\n",
            "2024-04-13 18:15:58.39 INFO in 'deeppavlov.core.models.torch_model'['torch_model'] at line 175: Saving model to /content/drive/MyDrive/model.pth.tar.\n",
            "INFO:deeppavlov.core.models.torch_model:Saving model to /content/drive/MyDrive/model.pth.tar.\n"
          ]
        },
        {
          "output_type": "stream",
          "name": "stdout",
          "text": [
            "{\"valid\": {\"eval_examples_count\": 111, \"metrics\": {\"f1_macro\": 0.9603, \"f1_weighted\": 0.9636, \"accuracy\": 0.9459, \"roc_auc\": 0.9975}, \"time_spent\": \"0:02:51\", \"epochs_done\": 17, \"batches_seen\": 170, \"train_examples_seen\": 10642, \"impatience\": 0, \"patience_limit\": 10}}\n"
          ]
        },
        {
          "output_type": "stream",
          "name": "stderr",
          "text": [
            "INFO:train_report:{\"valid\": {\"eval_examples_count\": 111, \"metrics\": {\"f1_macro\": 0.9603, \"f1_weighted\": 0.9636, \"accuracy\": 0.9459, \"roc_auc\": 0.9975}, \"time_spent\": \"0:02:51\", \"epochs_done\": 17, \"batches_seen\": 170, \"train_examples_seen\": 10642, \"impatience\": 0, \"patience_limit\": 10}}\n",
            "10it [00:06,  1.60it/s]\n",
            "1it [00:00,  4.30it/s]"
          ]
        },
        {
          "output_type": "stream",
          "name": "stdout",
          "text": [
            "{\"train\": {\"eval_examples_count\": 64, \"metrics\": {\"f1_macro\": 0.9926, \"f1_weighted\": 0.9925, \"accuracy\": 0.9844, \"roc_auc\": 1.0}, \"time_spent\": \"0:03:01\", \"epochs_done\": 18, \"batches_seen\": 180, \"train_examples_seen\": 11268, \"loss\": 0.027534332405775786}}\n"
          ]
        },
        {
          "output_type": "stream",
          "name": "stderr",
          "text": [
            "\n",
            "INFO:train_report:{\"train\": {\"eval_examples_count\": 64, \"metrics\": {\"f1_macro\": 0.9926, \"f1_weighted\": 0.9925, \"accuracy\": 0.9844, \"roc_auc\": 1.0}, \"time_spent\": \"0:03:01\", \"epochs_done\": 18, \"batches_seen\": 180, \"train_examples_seen\": 11268, \"loss\": 0.027534332405775786}}\n",
            "2it [00:00,  4.89it/s]\n",
            "2024-04-13 18:16:08.858 INFO in 'deeppavlov.core.trainers.nn_trainer'['nn_trainer'] at line 206: Improved best f1_macro from 0.9603 to 0.9611\n",
            "INFO:deeppavlov.core.trainers.nn_trainer:Improved best f1_macro from 0.9603 to 0.9611\n",
            "2024-04-13 18:16:08.863 INFO in 'deeppavlov.core.trainers.nn_trainer'['nn_trainer'] at line 208: Saving model\n",
            "INFO:deeppavlov.core.trainers.nn_trainer:Saving model\n",
            "2024-04-13 18:16:08.869 INFO in 'deeppavlov.core.models.torch_model'['torch_model'] at line 175: Saving model to /content/drive/MyDrive/model.pth.tar.\n",
            "INFO:deeppavlov.core.models.torch_model:Saving model to /content/drive/MyDrive/model.pth.tar.\n"
          ]
        },
        {
          "output_type": "stream",
          "name": "stdout",
          "text": [
            "{\"valid\": {\"eval_examples_count\": 111, \"metrics\": {\"f1_macro\": 0.9611, \"f1_weighted\": 0.9637, \"accuracy\": 0.955, \"roc_auc\": 0.9975}, \"time_spent\": \"0:03:02\", \"epochs_done\": 18, \"batches_seen\": 180, \"train_examples_seen\": 11268, \"impatience\": 0, \"patience_limit\": 10}}\n"
          ]
        },
        {
          "output_type": "stream",
          "name": "stderr",
          "text": [
            "INFO:train_report:{\"valid\": {\"eval_examples_count\": 111, \"metrics\": {\"f1_macro\": 0.9611, \"f1_weighted\": 0.9637, \"accuracy\": 0.955, \"roc_auc\": 0.9975}, \"time_spent\": \"0:03:02\", \"epochs_done\": 18, \"batches_seen\": 180, \"train_examples_seen\": 11268, \"impatience\": 0, \"patience_limit\": 10}}\n",
            "10it [00:06,  1.59it/s]\n",
            "1it [00:00,  4.24it/s]"
          ]
        },
        {
          "output_type": "stream",
          "name": "stdout",
          "text": [
            "{\"train\": {\"eval_examples_count\": 64, \"metrics\": {\"f1_macro\": 1.0, \"f1_weighted\": 1.0, \"accuracy\": 1.0, \"roc_auc\": 1.0}, \"time_spent\": \"0:03:13\", \"epochs_done\": 19, \"batches_seen\": 190, \"train_examples_seen\": 11894, \"loss\": 0.028051898069679736}}\n"
          ]
        },
        {
          "output_type": "stream",
          "name": "stderr",
          "text": [
            "\n",
            "INFO:train_report:{\"train\": {\"eval_examples_count\": 64, \"metrics\": {\"f1_macro\": 1.0, \"f1_weighted\": 1.0, \"accuracy\": 1.0, \"roc_auc\": 1.0}, \"time_spent\": \"0:03:13\", \"epochs_done\": 19, \"batches_seen\": 190, \"train_examples_seen\": 11894, \"loss\": 0.028051898069679736}}\n",
            "2it [00:00,  4.72it/s]\n",
            "2024-04-13 18:16:20.775 INFO in 'deeppavlov.core.trainers.nn_trainer'['nn_trainer'] at line 206: Improved best f1_macro from 0.9611 to 0.9663\n",
            "INFO:deeppavlov.core.trainers.nn_trainer:Improved best f1_macro from 0.9611 to 0.9663\n",
            "2024-04-13 18:16:20.779 INFO in 'deeppavlov.core.trainers.nn_trainer'['nn_trainer'] at line 208: Saving model\n",
            "INFO:deeppavlov.core.trainers.nn_trainer:Saving model\n",
            "2024-04-13 18:16:20.785 INFO in 'deeppavlov.core.models.torch_model'['torch_model'] at line 175: Saving model to /content/drive/MyDrive/model.pth.tar.\n",
            "INFO:deeppavlov.core.models.torch_model:Saving model to /content/drive/MyDrive/model.pth.tar.\n"
          ]
        },
        {
          "output_type": "stream",
          "name": "stdout",
          "text": [
            "{\"valid\": {\"eval_examples_count\": 111, \"metrics\": {\"f1_macro\": 0.9663, \"f1_weighted\": 0.9684, \"accuracy\": 0.955, \"roc_auc\": 0.9984}, \"time_spent\": \"0:03:14\", \"epochs_done\": 19, \"batches_seen\": 190, \"train_examples_seen\": 11894, \"impatience\": 0, \"patience_limit\": 10}}\n"
          ]
        },
        {
          "output_type": "stream",
          "name": "stderr",
          "text": [
            "INFO:train_report:{\"valid\": {\"eval_examples_count\": 111, \"metrics\": {\"f1_macro\": 0.9663, \"f1_weighted\": 0.9684, \"accuracy\": 0.955, \"roc_auc\": 0.9984}, \"time_spent\": \"0:03:14\", \"epochs_done\": 19, \"batches_seen\": 190, \"train_examples_seen\": 11894, \"impatience\": 0, \"patience_limit\": 10}}\n",
            "9it [00:05,  1.55it/s]\n",
            "0it [00:00, ?it/s]\u001b[A\n",
            "1it [00:00,  3.85it/s]"
          ]
        },
        {
          "output_type": "stream",
          "name": "stdout",
          "text": [
            "{\"train\": {\"eval_examples_count\": 64, \"metrics\": {\"f1_macro\": 1.0, \"f1_weighted\": 1.0, \"accuracy\": 1.0, \"roc_auc\": 1.0}, \"time_spent\": \"0:03:25\", \"epochs_done\": 19, \"batches_seen\": 200, \"train_examples_seen\": 12520, \"loss\": 0.02738293819129467}}\n"
          ]
        },
        {
          "output_type": "stream",
          "name": "stderr",
          "text": [
            "\n",
            "INFO:train_report:{\"train\": {\"eval_examples_count\": 64, \"metrics\": {\"f1_macro\": 1.0, \"f1_weighted\": 1.0, \"accuracy\": 1.0, \"roc_auc\": 1.0}, \"time_spent\": \"0:03:25\", \"epochs_done\": 19, \"batches_seen\": 200, \"train_examples_seen\": 12520, \"loss\": 0.02738293819129467}}\n",
            "10it [00:06,  1.51it/s]\n",
            "1it [00:00,  4.10it/s]"
          ]
        },
        {
          "output_type": "stream",
          "name": "stdout",
          "text": [
            "{\"train\": {\"eval_examples_count\": 64, \"metrics\": {\"f1_macro\": 0.9766, \"f1_weighted\": 0.9775, \"accuracy\": 0.9688, \"roc_auc\": 1.0}, \"time_spent\": \"0:03:25\", \"epochs_done\": 20, \"batches_seen\": 200, \"train_examples_seen\": 12520}}\n"
          ]
        },
        {
          "output_type": "stream",
          "name": "stderr",
          "text": [
            "\n",
            "INFO:train_report:{\"train\": {\"eval_examples_count\": 64, \"metrics\": {\"f1_macro\": 0.9766, \"f1_weighted\": 0.9775, \"accuracy\": 0.9688, \"roc_auc\": 1.0}, \"time_spent\": \"0:03:25\", \"epochs_done\": 20, \"batches_seen\": 200, \"train_examples_seen\": 12520}}\n",
            "2it [00:00,  4.75it/s]\n",
            "2024-04-13 18:16:32.750 INFO in 'deeppavlov.core.trainers.nn_trainer'['nn_trainer'] at line 211: Did not improve on the f1_macro of 0.9663\n",
            "INFO:deeppavlov.core.trainers.nn_trainer:Did not improve on the f1_macro of 0.9663\n"
          ]
        },
        {
          "output_type": "stream",
          "name": "stdout",
          "text": [
            "{\"valid\": {\"eval_examples_count\": 111, \"metrics\": {\"f1_macro\": 0.9509, \"f1_weighted\": 0.9525, \"accuracy\": 0.9369, \"roc_auc\": 0.9985}, \"time_spent\": \"0:03:26\", \"epochs_done\": 20, \"batches_seen\": 200, \"train_examples_seen\": 12520, \"impatience\": 1, \"patience_limit\": 10}}\n"
          ]
        },
        {
          "output_type": "stream",
          "name": "stderr",
          "text": [
            "INFO:train_report:{\"valid\": {\"eval_examples_count\": 111, \"metrics\": {\"f1_macro\": 0.9509, \"f1_weighted\": 0.9525, \"accuracy\": 0.9369, \"roc_auc\": 0.9985}, \"time_spent\": \"0:03:26\", \"epochs_done\": 20, \"batches_seen\": 200, \"train_examples_seen\": 12520, \"impatience\": 1, \"patience_limit\": 10}}\n",
            "10it [00:06,  1.54it/s]\n",
            "1it [00:00,  4.09it/s]"
          ]
        },
        {
          "output_type": "stream",
          "name": "stdout",
          "text": [
            "{\"train\": {\"eval_examples_count\": 64, \"metrics\": {\"f1_macro\": 1.0, \"f1_weighted\": 1.0, \"accuracy\": 1.0, \"roc_auc\": 1.0}, \"time_spent\": \"0:03:33\", \"epochs_done\": 21, \"batches_seen\": 210, \"train_examples_seen\": 13146, \"loss\": 0.02047965880483389}}\n"
          ]
        },
        {
          "output_type": "stream",
          "name": "stderr",
          "text": [
            "\n",
            "INFO:train_report:{\"train\": {\"eval_examples_count\": 64, \"metrics\": {\"f1_macro\": 1.0, \"f1_weighted\": 1.0, \"accuracy\": 1.0, \"roc_auc\": 1.0}, \"time_spent\": \"0:03:33\", \"epochs_done\": 21, \"batches_seen\": 210, \"train_examples_seen\": 13146, \"loss\": 0.02047965880483389}}\n",
            "2it [00:00,  4.73it/s]\n",
            "2024-04-13 18:16:39.981 INFO in 'deeppavlov.core.trainers.nn_trainer'['nn_trainer'] at line 211: Did not improve on the f1_macro of 0.9663\n",
            "INFO:deeppavlov.core.trainers.nn_trainer:Did not improve on the f1_macro of 0.9663\n"
          ]
        },
        {
          "output_type": "stream",
          "name": "stdout",
          "text": [
            "{\"valid\": {\"eval_examples_count\": 111, \"metrics\": {\"f1_macro\": 0.9654, \"f1_weighted\": 0.9677, \"accuracy\": 0.955, \"roc_auc\": 0.9988}, \"time_spent\": \"0:03:33\", \"epochs_done\": 21, \"batches_seen\": 210, \"train_examples_seen\": 13146, \"impatience\": 2, \"patience_limit\": 10}}\n"
          ]
        },
        {
          "output_type": "stream",
          "name": "stderr",
          "text": [
            "INFO:train_report:{\"valid\": {\"eval_examples_count\": 111, \"metrics\": {\"f1_macro\": 0.9654, \"f1_weighted\": 0.9677, \"accuracy\": 0.955, \"roc_auc\": 0.9988}, \"time_spent\": \"0:03:33\", \"epochs_done\": 21, \"batches_seen\": 210, \"train_examples_seen\": 13146, \"impatience\": 2, \"patience_limit\": 10}}\n",
            "10it [00:06,  1.56it/s]\n",
            "1it [00:00,  4.12it/s]"
          ]
        },
        {
          "output_type": "stream",
          "name": "stdout",
          "text": [
            "{\"train\": {\"eval_examples_count\": 64, \"metrics\": {\"f1_macro\": 1.0, \"f1_weighted\": 1.0, \"accuracy\": 1.0, \"roc_auc\": 1.0}, \"time_spent\": \"0:03:40\", \"epochs_done\": 22, \"batches_seen\": 220, \"train_examples_seen\": 13772, \"loss\": 0.0213667627889663}}\n"
          ]
        },
        {
          "output_type": "stream",
          "name": "stderr",
          "text": [
            "\n",
            "INFO:train_report:{\"train\": {\"eval_examples_count\": 64, \"metrics\": {\"f1_macro\": 1.0, \"f1_weighted\": 1.0, \"accuracy\": 1.0, \"roc_auc\": 1.0}, \"time_spent\": \"0:03:40\", \"epochs_done\": 22, \"batches_seen\": 220, \"train_examples_seen\": 13772, \"loss\": 0.0213667627889663}}\n",
            "2it [00:00,  4.74it/s]\n",
            "2024-04-13 18:16:47.142 INFO in 'deeppavlov.core.trainers.nn_trainer'['nn_trainer'] at line 206: Improved best f1_macro from 0.9663 to 0.9714\n",
            "INFO:deeppavlov.core.trainers.nn_trainer:Improved best f1_macro from 0.9663 to 0.9714\n",
            "2024-04-13 18:16:47.147 INFO in 'deeppavlov.core.trainers.nn_trainer'['nn_trainer'] at line 208: Saving model\n",
            "INFO:deeppavlov.core.trainers.nn_trainer:Saving model\n",
            "2024-04-13 18:16:47.149 INFO in 'deeppavlov.core.models.torch_model'['torch_model'] at line 175: Saving model to /content/drive/MyDrive/model.pth.tar.\n",
            "INFO:deeppavlov.core.models.torch_model:Saving model to /content/drive/MyDrive/model.pth.tar.\n"
          ]
        },
        {
          "output_type": "stream",
          "name": "stdout",
          "text": [
            "{\"valid\": {\"eval_examples_count\": 111, \"metrics\": {\"f1_macro\": 0.9714, \"f1_weighted\": 0.9726, \"accuracy\": 0.964, \"roc_auc\": 0.9986}, \"time_spent\": \"0:03:40\", \"epochs_done\": 22, \"batches_seen\": 220, \"train_examples_seen\": 13772, \"impatience\": 0, \"patience_limit\": 10}}\n"
          ]
        },
        {
          "output_type": "stream",
          "name": "stderr",
          "text": [
            "INFO:train_report:{\"valid\": {\"eval_examples_count\": 111, \"metrics\": {\"f1_macro\": 0.9714, \"f1_weighted\": 0.9726, \"accuracy\": 0.964, \"roc_auc\": 0.9986}, \"time_spent\": \"0:03:40\", \"epochs_done\": 22, \"batches_seen\": 220, \"train_examples_seen\": 13772, \"impatience\": 0, \"patience_limit\": 10}}\n",
            "10it [00:06,  1.57it/s]\n",
            "1it [00:00,  4.09it/s]"
          ]
        },
        {
          "output_type": "stream",
          "name": "stdout",
          "text": [
            "{\"train\": {\"eval_examples_count\": 64, \"metrics\": {\"f1_macro\": 1.0, \"f1_weighted\": 1.0, \"accuracy\": 1.0, \"roc_auc\": 1.0}, \"time_spent\": \"0:03:51\", \"epochs_done\": 23, \"batches_seen\": 230, \"train_examples_seen\": 14398, \"loss\": 0.019172244099900128}}\n"
          ]
        },
        {
          "output_type": "stream",
          "name": "stderr",
          "text": [
            "\n",
            "INFO:train_report:{\"train\": {\"eval_examples_count\": 64, \"metrics\": {\"f1_macro\": 1.0, \"f1_weighted\": 1.0, \"accuracy\": 1.0, \"roc_auc\": 1.0}, \"time_spent\": \"0:03:51\", \"epochs_done\": 23, \"batches_seen\": 230, \"train_examples_seen\": 14398, \"loss\": 0.019172244099900128}}\n",
            "2it [00:00,  4.84it/s]\n",
            "2024-04-13 18:16:58.55 INFO in 'deeppavlov.core.trainers.nn_trainer'['nn_trainer'] at line 211: Did not improve on the f1_macro of 0.9714\n",
            "INFO:deeppavlov.core.trainers.nn_trainer:Did not improve on the f1_macro of 0.9714\n"
          ]
        },
        {
          "output_type": "stream",
          "name": "stdout",
          "text": [
            "{\"valid\": {\"eval_examples_count\": 111, \"metrics\": {\"f1_macro\": 0.9654, \"f1_weighted\": 0.9677, \"accuracy\": 0.955, \"roc_auc\": 0.9989}, \"time_spent\": \"0:03:51\", \"epochs_done\": 23, \"batches_seen\": 230, \"train_examples_seen\": 14398, \"impatience\": 1, \"patience_limit\": 10}}\n"
          ]
        },
        {
          "output_type": "stream",
          "name": "stderr",
          "text": [
            "INFO:train_report:{\"valid\": {\"eval_examples_count\": 111, \"metrics\": {\"f1_macro\": 0.9654, \"f1_weighted\": 0.9677, \"accuracy\": 0.955, \"roc_auc\": 0.9989}, \"time_spent\": \"0:03:51\", \"epochs_done\": 23, \"batches_seen\": 230, \"train_examples_seen\": 14398, \"impatience\": 1, \"patience_limit\": 10}}\n",
            "10it [00:06,  1.55it/s]\n",
            "1it [00:00,  3.81it/s]"
          ]
        },
        {
          "output_type": "stream",
          "name": "stdout",
          "text": [
            "{\"train\": {\"eval_examples_count\": 64, \"metrics\": {\"f1_macro\": 1.0, \"f1_weighted\": 1.0, \"accuracy\": 1.0, \"roc_auc\": 1.0}, \"time_spent\": \"0:03:58\", \"epochs_done\": 24, \"batches_seen\": 240, \"train_examples_seen\": 15024, \"loss\": 0.015754561172798276}}\n"
          ]
        },
        {
          "output_type": "stream",
          "name": "stderr",
          "text": [
            "\n",
            "INFO:train_report:{\"train\": {\"eval_examples_count\": 64, \"metrics\": {\"f1_macro\": 1.0, \"f1_weighted\": 1.0, \"accuracy\": 1.0, \"roc_auc\": 1.0}, \"time_spent\": \"0:03:58\", \"epochs_done\": 24, \"batches_seen\": 240, \"train_examples_seen\": 15024, \"loss\": 0.015754561172798276}}\n",
            "2it [00:00,  4.49it/s]\n",
            "2024-04-13 18:17:05.319 INFO in 'deeppavlov.core.trainers.nn_trainer'['nn_trainer'] at line 211: Did not improve on the f1_macro of 0.9714\n",
            "INFO:deeppavlov.core.trainers.nn_trainer:Did not improve on the f1_macro of 0.9714\n"
          ]
        },
        {
          "output_type": "stream",
          "name": "stdout",
          "text": [
            "{\"valid\": {\"eval_examples_count\": 111, \"metrics\": {\"f1_macro\": 0.9714, \"f1_weighted\": 0.9726, \"accuracy\": 0.964, \"roc_auc\": 0.999}, \"time_spent\": \"0:03:58\", \"epochs_done\": 24, \"batches_seen\": 240, \"train_examples_seen\": 15024, \"impatience\": 2, \"patience_limit\": 10}}\n"
          ]
        },
        {
          "output_type": "stream",
          "name": "stderr",
          "text": [
            "INFO:train_report:{\"valid\": {\"eval_examples_count\": 111, \"metrics\": {\"f1_macro\": 0.9714, \"f1_weighted\": 0.9726, \"accuracy\": 0.964, \"roc_auc\": 0.999}, \"time_spent\": \"0:03:58\", \"epochs_done\": 24, \"batches_seen\": 240, \"train_examples_seen\": 15024, \"impatience\": 2, \"patience_limit\": 10}}\n",
            "10it [00:06,  1.58it/s]\n",
            "1it [00:00,  4.28it/s]"
          ]
        },
        {
          "output_type": "stream",
          "name": "stdout",
          "text": [
            "{\"train\": {\"eval_examples_count\": 64, \"metrics\": {\"f1_macro\": 0.9905, \"f1_weighted\": 0.9926, \"accuracy\": 0.9844, \"roc_auc\": 1.0}, \"time_spent\": \"0:04:05\", \"epochs_done\": 25, \"batches_seen\": 250, \"train_examples_seen\": 15650, \"loss\": 0.016404698579572143}}\n"
          ]
        },
        {
          "output_type": "stream",
          "name": "stderr",
          "text": [
            "\n",
            "INFO:train_report:{\"train\": {\"eval_examples_count\": 64, \"metrics\": {\"f1_macro\": 0.9905, \"f1_weighted\": 0.9926, \"accuracy\": 0.9844, \"roc_auc\": 1.0}, \"time_spent\": \"0:04:05\", \"epochs_done\": 25, \"batches_seen\": 250, \"train_examples_seen\": 15650, \"loss\": 0.016404698579572143}}\n",
            "2it [00:00,  4.84it/s]\n",
            "2024-04-13 18:17:12.358 INFO in 'deeppavlov.core.trainers.nn_trainer'['nn_trainer'] at line 211: Did not improve on the f1_macro of 0.9714\n",
            "INFO:deeppavlov.core.trainers.nn_trainer:Did not improve on the f1_macro of 0.9714\n"
          ]
        },
        {
          "output_type": "stream",
          "name": "stdout",
          "text": [
            "{\"valid\": {\"eval_examples_count\": 111, \"metrics\": {\"f1_macro\": 0.9672, \"f1_weighted\": 0.9686, \"accuracy\": 0.964, \"roc_auc\": 0.9991}, \"time_spent\": \"0:04:05\", \"epochs_done\": 25, \"batches_seen\": 250, \"train_examples_seen\": 15650, \"impatience\": 3, \"patience_limit\": 10}}\n"
          ]
        },
        {
          "output_type": "stream",
          "name": "stderr",
          "text": [
            "INFO:train_report:{\"valid\": {\"eval_examples_count\": 111, \"metrics\": {\"f1_macro\": 0.9672, \"f1_weighted\": 0.9686, \"accuracy\": 0.964, \"roc_auc\": 0.9991}, \"time_spent\": \"0:04:05\", \"epochs_done\": 25, \"batches_seen\": 250, \"train_examples_seen\": 15650, \"impatience\": 3, \"patience_limit\": 10}}\n",
            "10it [00:06,  1.58it/s]\n",
            "1it [00:00,  4.08it/s]"
          ]
        },
        {
          "output_type": "stream",
          "name": "stdout",
          "text": [
            "{\"train\": {\"eval_examples_count\": 64, \"metrics\": {\"f1_macro\": 1.0, \"f1_weighted\": 1.0, \"accuracy\": 1.0, \"roc_auc\": 1.0}, \"time_spent\": \"0:04:12\", \"epochs_done\": 26, \"batches_seen\": 260, \"train_examples_seen\": 16276, \"loss\": 0.01422560284845531}}\n"
          ]
        },
        {
          "output_type": "stream",
          "name": "stderr",
          "text": [
            "\n",
            "INFO:train_report:{\"train\": {\"eval_examples_count\": 64, \"metrics\": {\"f1_macro\": 1.0, \"f1_weighted\": 1.0, \"accuracy\": 1.0, \"roc_auc\": 1.0}, \"time_spent\": \"0:04:12\", \"epochs_done\": 26, \"batches_seen\": 260, \"train_examples_seen\": 16276, \"loss\": 0.01422560284845531}}\n",
            "2it [00:00,  4.93it/s]\n",
            "2024-04-13 18:17:19.401 INFO in 'deeppavlov.core.trainers.nn_trainer'['nn_trainer'] at line 211: Did not improve on the f1_macro of 0.9714\n",
            "INFO:deeppavlov.core.trainers.nn_trainer:Did not improve on the f1_macro of 0.9714\n"
          ]
        },
        {
          "output_type": "stream",
          "name": "stdout",
          "text": [
            "{\"valid\": {\"eval_examples_count\": 111, \"metrics\": {\"f1_macro\": 0.9714, \"f1_weighted\": 0.9726, \"accuracy\": 0.964, \"roc_auc\": 0.9992}, \"time_spent\": \"0:04:12\", \"epochs_done\": 26, \"batches_seen\": 260, \"train_examples_seen\": 16276, \"impatience\": 4, \"patience_limit\": 10}}\n"
          ]
        },
        {
          "output_type": "stream",
          "name": "stderr",
          "text": [
            "INFO:train_report:{\"valid\": {\"eval_examples_count\": 111, \"metrics\": {\"f1_macro\": 0.9714, \"f1_weighted\": 0.9726, \"accuracy\": 0.964, \"roc_auc\": 0.9992}, \"time_spent\": \"0:04:12\", \"epochs_done\": 26, \"batches_seen\": 260, \"train_examples_seen\": 16276, \"impatience\": 4, \"patience_limit\": 10}}\n",
            "10it [00:06,  1.59it/s]\n",
            "1it [00:00,  4.17it/s]"
          ]
        },
        {
          "output_type": "stream",
          "name": "stdout",
          "text": [
            "{\"train\": {\"eval_examples_count\": 64, \"metrics\": {\"f1_macro\": 1.0, \"f1_weighted\": 1.0, \"accuracy\": 1.0, \"roc_auc\": 1.0}, \"time_spent\": \"0:04:19\", \"epochs_done\": 27, \"batches_seen\": 270, \"train_examples_seen\": 16902, \"loss\": 0.01532138125039637}}\n"
          ]
        },
        {
          "output_type": "stream",
          "name": "stderr",
          "text": [
            "\n",
            "INFO:train_report:{\"train\": {\"eval_examples_count\": 64, \"metrics\": {\"f1_macro\": 1.0, \"f1_weighted\": 1.0, \"accuracy\": 1.0, \"roc_auc\": 1.0}, \"time_spent\": \"0:04:19\", \"epochs_done\": 27, \"batches_seen\": 270, \"train_examples_seen\": 16902, \"loss\": 0.01532138125039637}}\n",
            "2it [00:00,  4.88it/s]\n",
            "2024-04-13 18:17:26.374 INFO in 'deeppavlov.core.trainers.nn_trainer'['nn_trainer'] at line 206: Improved best f1_macro from 0.9714 to 0.9763\n",
            "INFO:deeppavlov.core.trainers.nn_trainer:Improved best f1_macro from 0.9714 to 0.9763\n",
            "2024-04-13 18:17:26.377 INFO in 'deeppavlov.core.trainers.nn_trainer'['nn_trainer'] at line 208: Saving model\n",
            "INFO:deeppavlov.core.trainers.nn_trainer:Saving model\n",
            "2024-04-13 18:17:26.387 INFO in 'deeppavlov.core.models.torch_model'['torch_model'] at line 175: Saving model to /content/drive/MyDrive/model.pth.tar.\n",
            "INFO:deeppavlov.core.models.torch_model:Saving model to /content/drive/MyDrive/model.pth.tar.\n"
          ]
        },
        {
          "output_type": "stream",
          "name": "stdout",
          "text": [
            "{\"valid\": {\"eval_examples_count\": 111, \"metrics\": {\"f1_macro\": 0.9763, \"f1_weighted\": 0.9772, \"accuracy\": 0.964, \"roc_auc\": 0.9992}, \"time_spent\": \"0:04:19\", \"epochs_done\": 27, \"batches_seen\": 270, \"train_examples_seen\": 16902, \"impatience\": 0, \"patience_limit\": 10}}\n"
          ]
        },
        {
          "output_type": "stream",
          "name": "stderr",
          "text": [
            "INFO:train_report:{\"valid\": {\"eval_examples_count\": 111, \"metrics\": {\"f1_macro\": 0.9763, \"f1_weighted\": 0.9772, \"accuracy\": 0.964, \"roc_auc\": 0.9992}, \"time_spent\": \"0:04:19\", \"epochs_done\": 27, \"batches_seen\": 270, \"train_examples_seen\": 16902, \"impatience\": 0, \"patience_limit\": 10}}\n",
            "10it [00:06,  1.59it/s]\n",
            "1it [00:00,  4.33it/s]"
          ]
        },
        {
          "output_type": "stream",
          "name": "stdout",
          "text": [
            "{\"train\": {\"eval_examples_count\": 64, \"metrics\": {\"f1_macro\": 1.0, \"f1_weighted\": 1.0, \"accuracy\": 1.0, \"roc_auc\": 1.0}, \"time_spent\": \"0:04:30\", \"epochs_done\": 28, \"batches_seen\": 280, \"train_examples_seen\": 17528, \"loss\": 0.009269504202529788}}\n"
          ]
        },
        {
          "output_type": "stream",
          "name": "stderr",
          "text": [
            "\n",
            "INFO:train_report:{\"train\": {\"eval_examples_count\": 64, \"metrics\": {\"f1_macro\": 1.0, \"f1_weighted\": 1.0, \"accuracy\": 1.0, \"roc_auc\": 1.0}, \"time_spent\": \"0:04:30\", \"epochs_done\": 28, \"batches_seen\": 280, \"train_examples_seen\": 17528, \"loss\": 0.009269504202529788}}\n",
            "2it [00:00,  4.98it/s]\n",
            "2024-04-13 18:17:36.927 INFO in 'deeppavlov.core.trainers.nn_trainer'['nn_trainer'] at line 211: Did not improve on the f1_macro of 0.9763\n",
            "INFO:deeppavlov.core.trainers.nn_trainer:Did not improve on the f1_macro of 0.9763\n"
          ]
        },
        {
          "output_type": "stream",
          "name": "stdout",
          "text": [
            "{\"valid\": {\"eval_examples_count\": 111, \"metrics\": {\"f1_macro\": 0.9763, \"f1_weighted\": 0.9772, \"accuracy\": 0.964, \"roc_auc\": 0.9992}, \"time_spent\": \"0:04:30\", \"epochs_done\": 28, \"batches_seen\": 280, \"train_examples_seen\": 17528, \"impatience\": 1, \"patience_limit\": 10}}\n"
          ]
        },
        {
          "output_type": "stream",
          "name": "stderr",
          "text": [
            "INFO:train_report:{\"valid\": {\"eval_examples_count\": 111, \"metrics\": {\"f1_macro\": 0.9763, \"f1_weighted\": 0.9772, \"accuracy\": 0.964, \"roc_auc\": 0.9992}, \"time_spent\": \"0:04:30\", \"epochs_done\": 28, \"batches_seen\": 280, \"train_examples_seen\": 17528, \"impatience\": 1, \"patience_limit\": 10}}\n",
            "10it [00:06,  1.60it/s]\n",
            "1it [00:00,  3.97it/s]"
          ]
        },
        {
          "output_type": "stream",
          "name": "stdout",
          "text": [
            "{\"train\": {\"eval_examples_count\": 64, \"metrics\": {\"f1_macro\": 1.0, \"f1_weighted\": 1.0, \"accuracy\": 1.0, \"roc_auc\": 1.0}, \"time_spent\": \"0:04:37\", \"epochs_done\": 29, \"batches_seen\": 290, \"train_examples_seen\": 18154, \"loss\": 0.007728949002921581}}\n"
          ]
        },
        {
          "output_type": "stream",
          "name": "stderr",
          "text": [
            "\n",
            "INFO:train_report:{\"train\": {\"eval_examples_count\": 64, \"metrics\": {\"f1_macro\": 1.0, \"f1_weighted\": 1.0, \"accuracy\": 1.0, \"roc_auc\": 1.0}, \"time_spent\": \"0:04:37\", \"epochs_done\": 29, \"batches_seen\": 290, \"train_examples_seen\": 18154, \"loss\": 0.007728949002921581}}\n",
            "2it [00:00,  4.57it/s]\n",
            "2024-04-13 18:17:43.953 INFO in 'deeppavlov.core.trainers.nn_trainer'['nn_trainer'] at line 211: Did not improve on the f1_macro of 0.9763\n",
            "INFO:deeppavlov.core.trainers.nn_trainer:Did not improve on the f1_macro of 0.9763\n"
          ]
        },
        {
          "output_type": "stream",
          "name": "stdout",
          "text": [
            "{\"valid\": {\"eval_examples_count\": 111, \"metrics\": {\"f1_macro\": 0.9716, \"f1_weighted\": 0.9728, \"accuracy\": 0.964, \"roc_auc\": 0.9993}, \"time_spent\": \"0:04:37\", \"epochs_done\": 29, \"batches_seen\": 290, \"train_examples_seen\": 18154, \"impatience\": 2, \"patience_limit\": 10}}\n"
          ]
        },
        {
          "output_type": "stream",
          "name": "stderr",
          "text": [
            "INFO:train_report:{\"valid\": {\"eval_examples_count\": 111, \"metrics\": {\"f1_macro\": 0.9716, \"f1_weighted\": 0.9728, \"accuracy\": 0.964, \"roc_auc\": 0.9993}, \"time_spent\": \"0:04:37\", \"epochs_done\": 29, \"batches_seen\": 290, \"train_examples_seen\": 18154, \"impatience\": 2, \"patience_limit\": 10}}\n",
            "9it [00:05,  1.56it/s]\n",
            "0it [00:00, ?it/s]\u001b[A\n",
            "1it [00:00,  4.18it/s]"
          ]
        },
        {
          "output_type": "stream",
          "name": "stdout",
          "text": [
            "{\"train\": {\"eval_examples_count\": 64, \"metrics\": {\"f1_macro\": 1.0, \"f1_weighted\": 1.0, \"accuracy\": 1.0, \"roc_auc\": 1.0}, \"time_spent\": \"0:04:44\", \"epochs_done\": 29, \"batches_seen\": 300, \"train_examples_seen\": 18780, \"loss\": 0.009179069567471743}}\n"
          ]
        },
        {
          "output_type": "stream",
          "name": "stderr",
          "text": [
            "\n",
            "INFO:train_report:{\"train\": {\"eval_examples_count\": 64, \"metrics\": {\"f1_macro\": 1.0, \"f1_weighted\": 1.0, \"accuracy\": 1.0, \"roc_auc\": 1.0}, \"time_spent\": \"0:04:44\", \"epochs_done\": 29, \"batches_seen\": 300, \"train_examples_seen\": 18780, \"loss\": 0.009179069567471743}}\n",
            "10it [00:06,  1.52it/s]\n",
            "1it [00:00,  4.12it/s]"
          ]
        },
        {
          "output_type": "stream",
          "name": "stdout",
          "text": [
            "{\"train\": {\"eval_examples_count\": 64, \"metrics\": {\"f1_macro\": 1.0, \"f1_weighted\": 1.0, \"accuracy\": 1.0, \"roc_auc\": 1.0}, \"time_spent\": \"0:04:44\", \"epochs_done\": 30, \"batches_seen\": 300, \"train_examples_seen\": 18780}}\n"
          ]
        },
        {
          "output_type": "stream",
          "name": "stderr",
          "text": [
            "\n",
            "INFO:train_report:{\"train\": {\"eval_examples_count\": 64, \"metrics\": {\"f1_macro\": 1.0, \"f1_weighted\": 1.0, \"accuracy\": 1.0, \"roc_auc\": 1.0}, \"time_spent\": \"0:04:44\", \"epochs_done\": 30, \"batches_seen\": 300, \"train_examples_seen\": 18780}}\n",
            "2it [00:00,  4.81it/s]\n",
            "2024-04-13 18:17:51.244 INFO in 'deeppavlov.core.trainers.nn_trainer'['nn_trainer'] at line 211: Did not improve on the f1_macro of 0.9763\n",
            "INFO:deeppavlov.core.trainers.nn_trainer:Did not improve on the f1_macro of 0.9763\n"
          ]
        },
        {
          "output_type": "stream",
          "name": "stdout",
          "text": [
            "{\"valid\": {\"eval_examples_count\": 111, \"metrics\": {\"f1_macro\": 0.9714, \"f1_weighted\": 0.9726, \"accuracy\": 0.964, \"roc_auc\": 0.9992}, \"time_spent\": \"0:04:44\", \"epochs_done\": 30, \"batches_seen\": 300, \"train_examples_seen\": 18780, \"impatience\": 3, \"patience_limit\": 10}}\n"
          ]
        },
        {
          "output_type": "stream",
          "name": "stderr",
          "text": [
            "INFO:train_report:{\"valid\": {\"eval_examples_count\": 111, \"metrics\": {\"f1_macro\": 0.9714, \"f1_weighted\": 0.9726, \"accuracy\": 0.964, \"roc_auc\": 0.9992}, \"time_spent\": \"0:04:44\", \"epochs_done\": 30, \"batches_seen\": 300, \"train_examples_seen\": 18780, \"impatience\": 3, \"patience_limit\": 10}}\n",
            "10it [00:06,  1.58it/s]\n",
            "1it [00:00,  4.02it/s]"
          ]
        },
        {
          "output_type": "stream",
          "name": "stdout",
          "text": [
            "{\"train\": {\"eval_examples_count\": 64, \"metrics\": {\"f1_macro\": 1.0, \"f1_weighted\": 1.0, \"accuracy\": 1.0, \"roc_auc\": 1.0}, \"time_spent\": \"0:04:51\", \"epochs_done\": 31, \"batches_seen\": 310, \"train_examples_seen\": 19406, \"loss\": 0.007225174037739634}}\n"
          ]
        },
        {
          "output_type": "stream",
          "name": "stderr",
          "text": [
            "\n",
            "INFO:train_report:{\"train\": {\"eval_examples_count\": 64, \"metrics\": {\"f1_macro\": 1.0, \"f1_weighted\": 1.0, \"accuracy\": 1.0, \"roc_auc\": 1.0}, \"time_spent\": \"0:04:51\", \"epochs_done\": 31, \"batches_seen\": 310, \"train_examples_seen\": 19406, \"loss\": 0.007225174037739634}}\n",
            "2it [00:00,  4.72it/s]\n",
            "2024-04-13 18:17:58.297 INFO in 'deeppavlov.core.trainers.nn_trainer'['nn_trainer'] at line 211: Did not improve on the f1_macro of 0.9763\n",
            "INFO:deeppavlov.core.trainers.nn_trainer:Did not improve on the f1_macro of 0.9763\n"
          ]
        },
        {
          "output_type": "stream",
          "name": "stdout",
          "text": [
            "{\"valid\": {\"eval_examples_count\": 111, \"metrics\": {\"f1_macro\": 0.9714, \"f1_weighted\": 0.9726, \"accuracy\": 0.964, \"roc_auc\": 0.9992}, \"time_spent\": \"0:04:51\", \"epochs_done\": 31, \"batches_seen\": 310, \"train_examples_seen\": 19406, \"impatience\": 4, \"patience_limit\": 10}}\n"
          ]
        },
        {
          "output_type": "stream",
          "name": "stderr",
          "text": [
            "INFO:train_report:{\"valid\": {\"eval_examples_count\": 111, \"metrics\": {\"f1_macro\": 0.9714, \"f1_weighted\": 0.9726, \"accuracy\": 0.964, \"roc_auc\": 0.9992}, \"time_spent\": \"0:04:51\", \"epochs_done\": 31, \"batches_seen\": 310, \"train_examples_seen\": 19406, \"impatience\": 4, \"patience_limit\": 10}}\n",
            "10it [00:06,  1.59it/s]\n",
            "1it [00:00,  4.25it/s]"
          ]
        },
        {
          "output_type": "stream",
          "name": "stdout",
          "text": [
            "{\"train\": {\"eval_examples_count\": 64, \"metrics\": {\"f1_macro\": 1.0, \"f1_weighted\": 1.0, \"accuracy\": 1.0, \"roc_auc\": 1.0}, \"time_spent\": \"0:04:58\", \"epochs_done\": 32, \"batches_seen\": 320, \"train_examples_seen\": 20032, \"loss\": 0.006549854925833642}}\n"
          ]
        },
        {
          "output_type": "stream",
          "name": "stderr",
          "text": [
            "\n",
            "INFO:train_report:{\"train\": {\"eval_examples_count\": 64, \"metrics\": {\"f1_macro\": 1.0, \"f1_weighted\": 1.0, \"accuracy\": 1.0, \"roc_auc\": 1.0}, \"time_spent\": \"0:04:58\", \"epochs_done\": 32, \"batches_seen\": 320, \"train_examples_seen\": 20032, \"loss\": 0.006549854925833642}}\n",
            "2it [00:00,  4.86it/s]\n",
            "2024-04-13 18:18:05.302 INFO in 'deeppavlov.core.trainers.nn_trainer'['nn_trainer'] at line 211: Did not improve on the f1_macro of 0.9763\n",
            "INFO:deeppavlov.core.trainers.nn_trainer:Did not improve on the f1_macro of 0.9763\n",
            "2024-04-13 18:18:05.305 INFO in 'deeppavlov.core.models.torch_model'['torch_model'] at line 206: ----------Current LR is decreased in 2.0 times----------\n",
            "INFO:deeppavlov.core.models.torch_model:----------Current LR is decreased in 2.0 times----------\n"
          ]
        },
        {
          "output_type": "stream",
          "name": "stdout",
          "text": [
            "{\"valid\": {\"eval_examples_count\": 111, \"metrics\": {\"f1_macro\": 0.9763, \"f1_weighted\": 0.9772, \"accuracy\": 0.964, \"roc_auc\": 0.9993}, \"time_spent\": \"0:04:58\", \"epochs_done\": 32, \"batches_seen\": 320, \"train_examples_seen\": 20032, \"impatience\": 5, \"patience_limit\": 10}}\n"
          ]
        },
        {
          "output_type": "stream",
          "name": "stderr",
          "text": [
            "INFO:train_report:{\"valid\": {\"eval_examples_count\": 111, \"metrics\": {\"f1_macro\": 0.9763, \"f1_weighted\": 0.9772, \"accuracy\": 0.964, \"roc_auc\": 0.9993}, \"time_spent\": \"0:04:58\", \"epochs_done\": 32, \"batches_seen\": 320, \"train_examples_seen\": 20032, \"impatience\": 5, \"patience_limit\": 10}}\n",
            "10it [00:06,  1.59it/s]\n",
            "1it [00:00,  4.16it/s]"
          ]
        },
        {
          "output_type": "stream",
          "name": "stdout",
          "text": [
            "{\"train\": {\"eval_examples_count\": 64, \"metrics\": {\"f1_macro\": 1.0, \"f1_weighted\": 1.0, \"accuracy\": 1.0, \"roc_auc\": 1.0}, \"time_spent\": \"0:05:06\", \"epochs_done\": 33, \"batches_seen\": 330, \"train_examples_seen\": 20658, \"loss\": 0.002071078511653468}}\n"
          ]
        },
        {
          "output_type": "stream",
          "name": "stderr",
          "text": [
            "\n",
            "INFO:train_report:{\"train\": {\"eval_examples_count\": 64, \"metrics\": {\"f1_macro\": 1.0, \"f1_weighted\": 1.0, \"accuracy\": 1.0, \"roc_auc\": 1.0}, \"time_spent\": \"0:05:06\", \"epochs_done\": 33, \"batches_seen\": 330, \"train_examples_seen\": 20658, \"loss\": 0.002071078511653468}}\n",
            "2it [00:00,  4.85it/s]\n",
            "2024-04-13 18:18:13.549 INFO in 'deeppavlov.core.trainers.nn_trainer'['nn_trainer'] at line 211: Did not improve on the f1_macro of 0.9763\n",
            "INFO:deeppavlov.core.trainers.nn_trainer:Did not improve on the f1_macro of 0.9763\n"
          ]
        },
        {
          "output_type": "stream",
          "name": "stdout",
          "text": [
            "{\"valid\": {\"eval_examples_count\": 111, \"metrics\": {\"f1_macro\": 0.9714, \"f1_weighted\": 0.9726, \"accuracy\": 0.964, \"roc_auc\": 0.9992}, \"time_spent\": \"0:05:07\", \"epochs_done\": 33, \"batches_seen\": 330, \"train_examples_seen\": 20658, \"impatience\": 6, \"patience_limit\": 10}}\n"
          ]
        },
        {
          "output_type": "stream",
          "name": "stderr",
          "text": [
            "INFO:train_report:{\"valid\": {\"eval_examples_count\": 111, \"metrics\": {\"f1_macro\": 0.9714, \"f1_weighted\": 0.9726, \"accuracy\": 0.964, \"roc_auc\": 0.9992}, \"time_spent\": \"0:05:07\", \"epochs_done\": 33, \"batches_seen\": 330, \"train_examples_seen\": 20658, \"impatience\": 6, \"patience_limit\": 10}}\n",
            "10it [00:06,  1.59it/s]\n",
            "1it [00:00,  4.26it/s]"
          ]
        },
        {
          "output_type": "stream",
          "name": "stdout",
          "text": [
            "{\"train\": {\"eval_examples_count\": 64, \"metrics\": {\"f1_macro\": 1.0, \"f1_weighted\": 1.0, \"accuracy\": 1.0, \"roc_auc\": 1.0}, \"time_spent\": \"0:05:13\", \"epochs_done\": 34, \"batches_seen\": 340, \"train_examples_seen\": 21284, \"loss\": 0.014472923940047622}}\n"
          ]
        },
        {
          "output_type": "stream",
          "name": "stderr",
          "text": [
            "\n",
            "INFO:train_report:{\"train\": {\"eval_examples_count\": 64, \"metrics\": {\"f1_macro\": 1.0, \"f1_weighted\": 1.0, \"accuracy\": 1.0, \"roc_auc\": 1.0}, \"time_spent\": \"0:05:13\", \"epochs_done\": 34, \"batches_seen\": 340, \"train_examples_seen\": 21284, \"loss\": 0.014472923940047622}}\n",
            "2it [00:00,  4.87it/s]\n",
            "2024-04-13 18:18:20.542 INFO in 'deeppavlov.core.trainers.nn_trainer'['nn_trainer'] at line 211: Did not improve on the f1_macro of 0.9763\n",
            "INFO:deeppavlov.core.trainers.nn_trainer:Did not improve on the f1_macro of 0.9763\n"
          ]
        },
        {
          "output_type": "stream",
          "name": "stdout",
          "text": [
            "{\"valid\": {\"eval_examples_count\": 111, \"metrics\": {\"f1_macro\": 0.9763, \"f1_weighted\": 0.9772, \"accuracy\": 0.964, \"roc_auc\": 0.9993}, \"time_spent\": \"0:05:14\", \"epochs_done\": 34, \"batches_seen\": 340, \"train_examples_seen\": 21284, \"impatience\": 7, \"patience_limit\": 10}}\n"
          ]
        },
        {
          "output_type": "stream",
          "name": "stderr",
          "text": [
            "INFO:train_report:{\"valid\": {\"eval_examples_count\": 111, \"metrics\": {\"f1_macro\": 0.9763, \"f1_weighted\": 0.9772, \"accuracy\": 0.964, \"roc_auc\": 0.9993}, \"time_spent\": \"0:05:14\", \"epochs_done\": 34, \"batches_seen\": 340, \"train_examples_seen\": 21284, \"impatience\": 7, \"patience_limit\": 10}}\n",
            "10it [00:06,  1.57it/s]\n",
            "1it [00:00,  4.21it/s]"
          ]
        },
        {
          "output_type": "stream",
          "name": "stdout",
          "text": [
            "{\"train\": {\"eval_examples_count\": 64, \"metrics\": {\"f1_macro\": 1.0, \"f1_weighted\": 1.0, \"accuracy\": 1.0, \"roc_auc\": 1.0}, \"time_spent\": \"0:05:20\", \"epochs_done\": 35, \"batches_seen\": 350, \"train_examples_seen\": 21910, \"loss\": 0.009272412536665798}}\n"
          ]
        },
        {
          "output_type": "stream",
          "name": "stderr",
          "text": [
            "\n",
            "INFO:train_report:{\"train\": {\"eval_examples_count\": 64, \"metrics\": {\"f1_macro\": 1.0, \"f1_weighted\": 1.0, \"accuracy\": 1.0, \"roc_auc\": 1.0}, \"time_spent\": \"0:05:20\", \"epochs_done\": 35, \"batches_seen\": 350, \"train_examples_seen\": 21910, \"loss\": 0.009272412536665798}}\n",
            "2it [00:00,  4.94it/s]\n",
            "2024-04-13 18:18:27.601 INFO in 'deeppavlov.core.trainers.nn_trainer'['nn_trainer'] at line 211: Did not improve on the f1_macro of 0.9763\n",
            "INFO:deeppavlov.core.trainers.nn_trainer:Did not improve on the f1_macro of 0.9763\n"
          ]
        },
        {
          "output_type": "stream",
          "name": "stdout",
          "text": [
            "{\"valid\": {\"eval_examples_count\": 111, \"metrics\": {\"f1_macro\": 0.9714, \"f1_weighted\": 0.9726, \"accuracy\": 0.964, \"roc_auc\": 0.9993}, \"time_spent\": \"0:05:21\", \"epochs_done\": 35, \"batches_seen\": 350, \"train_examples_seen\": 21910, \"impatience\": 8, \"patience_limit\": 10}}\n"
          ]
        },
        {
          "output_type": "stream",
          "name": "stderr",
          "text": [
            "INFO:train_report:{\"valid\": {\"eval_examples_count\": 111, \"metrics\": {\"f1_macro\": 0.9714, \"f1_weighted\": 0.9726, \"accuracy\": 0.964, \"roc_auc\": 0.9993}, \"time_spent\": \"0:05:21\", \"epochs_done\": 35, \"batches_seen\": 350, \"train_examples_seen\": 21910, \"impatience\": 8, \"patience_limit\": 10}}\n",
            "10it [00:06,  1.59it/s]\n",
            "1it [00:00,  4.27it/s]"
          ]
        },
        {
          "output_type": "stream",
          "name": "stdout",
          "text": [
            "{\"train\": {\"eval_examples_count\": 64, \"metrics\": {\"f1_macro\": 1.0, \"f1_weighted\": 1.0, \"accuracy\": 1.0, \"roc_auc\": 1.0}, \"time_spent\": \"0:05:27\", \"epochs_done\": 36, \"batches_seen\": 360, \"train_examples_seen\": 22536, \"loss\": 0.008948605367913842}}\n"
          ]
        },
        {
          "output_type": "stream",
          "name": "stderr",
          "text": [
            "\n",
            "INFO:train_report:{\"train\": {\"eval_examples_count\": 64, \"metrics\": {\"f1_macro\": 1.0, \"f1_weighted\": 1.0, \"accuracy\": 1.0, \"roc_auc\": 1.0}, \"time_spent\": \"0:05:27\", \"epochs_done\": 36, \"batches_seen\": 360, \"train_examples_seen\": 22536, \"loss\": 0.008948605367913842}}\n",
            "2it [00:00,  4.84it/s]\n",
            "2024-04-13 18:18:34.595 INFO in 'deeppavlov.core.trainers.nn_trainer'['nn_trainer'] at line 211: Did not improve on the f1_macro of 0.9763\n",
            "INFO:deeppavlov.core.trainers.nn_trainer:Did not improve on the f1_macro of 0.9763\n"
          ]
        },
        {
          "output_type": "stream",
          "name": "stdout",
          "text": [
            "{\"valid\": {\"eval_examples_count\": 111, \"metrics\": {\"f1_macro\": 0.9714, \"f1_weighted\": 0.9726, \"accuracy\": 0.964, \"roc_auc\": 0.9993}, \"time_spent\": \"0:05:28\", \"epochs_done\": 36, \"batches_seen\": 360, \"train_examples_seen\": 22536, \"impatience\": 9, \"patience_limit\": 10}}\n"
          ]
        },
        {
          "output_type": "stream",
          "name": "stderr",
          "text": [
            "INFO:train_report:{\"valid\": {\"eval_examples_count\": 111, \"metrics\": {\"f1_macro\": 0.9714, \"f1_weighted\": 0.9726, \"accuracy\": 0.964, \"roc_auc\": 0.9993}, \"time_spent\": \"0:05:28\", \"epochs_done\": 36, \"batches_seen\": 360, \"train_examples_seen\": 22536, \"impatience\": 9, \"patience_limit\": 10}}\n",
            "10it [00:06,  1.58it/s]\n",
            "1it [00:00,  4.18it/s]"
          ]
        },
        {
          "output_type": "stream",
          "name": "stdout",
          "text": [
            "{\"train\": {\"eval_examples_count\": 64, \"metrics\": {\"f1_macro\": 1.0, \"f1_weighted\": 1.0, \"accuracy\": 1.0, \"roc_auc\": 1.0}, \"time_spent\": \"0:05:34\", \"epochs_done\": 37, \"batches_seen\": 370, \"train_examples_seen\": 23162, \"loss\": 0.00875074416399002}}\n"
          ]
        },
        {
          "output_type": "stream",
          "name": "stderr",
          "text": [
            "\n",
            "INFO:train_report:{\"train\": {\"eval_examples_count\": 64, \"metrics\": {\"f1_macro\": 1.0, \"f1_weighted\": 1.0, \"accuracy\": 1.0, \"roc_auc\": 1.0}, \"time_spent\": \"0:05:34\", \"epochs_done\": 37, \"batches_seen\": 370, \"train_examples_seen\": 23162, \"loss\": 0.00875074416399002}}\n",
            "2it [00:00,  4.89it/s]\n",
            "2024-04-13 18:18:41.626 INFO in 'deeppavlov.core.trainers.nn_trainer'['nn_trainer'] at line 206: Improved best f1_macro from 0.9763 to 0.9807\n",
            "INFO:deeppavlov.core.trainers.nn_trainer:Improved best f1_macro from 0.9763 to 0.9807\n",
            "2024-04-13 18:18:41.629 INFO in 'deeppavlov.core.trainers.nn_trainer'['nn_trainer'] at line 208: Saving model\n",
            "INFO:deeppavlov.core.trainers.nn_trainer:Saving model\n",
            "2024-04-13 18:18:41.634 INFO in 'deeppavlov.core.models.torch_model'['torch_model'] at line 175: Saving model to /content/drive/MyDrive/model.pth.tar.\n",
            "INFO:deeppavlov.core.models.torch_model:Saving model to /content/drive/MyDrive/model.pth.tar.\n"
          ]
        },
        {
          "output_type": "stream",
          "name": "stdout",
          "text": [
            "{\"valid\": {\"eval_examples_count\": 111, \"metrics\": {\"f1_macro\": 0.9807, \"f1_weighted\": 0.982, \"accuracy\": 0.973, \"roc_auc\": 0.9993}, \"time_spent\": \"0:05:35\", \"epochs_done\": 37, \"batches_seen\": 370, \"train_examples_seen\": 23162, \"impatience\": 0, \"patience_limit\": 10}}\n"
          ]
        },
        {
          "output_type": "stream",
          "name": "stderr",
          "text": [
            "INFO:train_report:{\"valid\": {\"eval_examples_count\": 111, \"metrics\": {\"f1_macro\": 0.9807, \"f1_weighted\": 0.982, \"accuracy\": 0.973, \"roc_auc\": 0.9993}, \"time_spent\": \"0:05:35\", \"epochs_done\": 37, \"batches_seen\": 370, \"train_examples_seen\": 23162, \"impatience\": 0, \"patience_limit\": 10}}\n",
            "10it [00:06,  1.59it/s]\n",
            "1it [00:00,  4.23it/s]"
          ]
        },
        {
          "output_type": "stream",
          "name": "stdout",
          "text": [
            "{\"train\": {\"eval_examples_count\": 64, \"metrics\": {\"f1_macro\": 1.0, \"f1_weighted\": 1.0, \"accuracy\": 1.0, \"roc_auc\": 1.0}, \"time_spent\": \"0:05:45\", \"epochs_done\": 38, \"batches_seen\": 380, \"train_examples_seen\": 23788, \"loss\": 0.011413010326214135}}\n"
          ]
        },
        {
          "output_type": "stream",
          "name": "stderr",
          "text": [
            "\n",
            "INFO:train_report:{\"train\": {\"eval_examples_count\": 64, \"metrics\": {\"f1_macro\": 1.0, \"f1_weighted\": 1.0, \"accuracy\": 1.0, \"roc_auc\": 1.0}, \"time_spent\": \"0:05:45\", \"epochs_done\": 38, \"batches_seen\": 380, \"train_examples_seen\": 23788, \"loss\": 0.011413010326214135}}\n",
            "2it [00:00,  4.86it/s]\n",
            "2024-04-13 18:18:52.84 INFO in 'deeppavlov.core.trainers.nn_trainer'['nn_trainer'] at line 211: Did not improve on the f1_macro of 0.9807\n",
            "INFO:deeppavlov.core.trainers.nn_trainer:Did not improve on the f1_macro of 0.9807\n"
          ]
        },
        {
          "output_type": "stream",
          "name": "stdout",
          "text": [
            "{\"valid\": {\"eval_examples_count\": 111, \"metrics\": {\"f1_macro\": 0.9747, \"f1_weighted\": 0.9771, \"accuracy\": 0.964, \"roc_auc\": 0.9992}, \"time_spent\": \"0:05:45\", \"epochs_done\": 38, \"batches_seen\": 380, \"train_examples_seen\": 23788, \"impatience\": 1, \"patience_limit\": 10}}\n"
          ]
        },
        {
          "output_type": "stream",
          "name": "stderr",
          "text": [
            "INFO:train_report:{\"valid\": {\"eval_examples_count\": 111, \"metrics\": {\"f1_macro\": 0.9747, \"f1_weighted\": 0.9771, \"accuracy\": 0.964, \"roc_auc\": 0.9992}, \"time_spent\": \"0:05:45\", \"epochs_done\": 38, \"batches_seen\": 380, \"train_examples_seen\": 23788, \"impatience\": 1, \"patience_limit\": 10}}\n",
            "10it [00:06,  1.58it/s]\n",
            "1it [00:00,  4.25it/s]"
          ]
        },
        {
          "output_type": "stream",
          "name": "stdout",
          "text": [
            "{\"train\": {\"eval_examples_count\": 64, \"metrics\": {\"f1_macro\": 1.0, \"f1_weighted\": 1.0, \"accuracy\": 1.0, \"roc_auc\": 1.0}, \"time_spent\": \"0:05:52\", \"epochs_done\": 39, \"batches_seen\": 390, \"train_examples_seen\": 24414, \"loss\": 0.007813668856397272}}\n"
          ]
        },
        {
          "output_type": "stream",
          "name": "stderr",
          "text": [
            "\n",
            "INFO:train_report:{\"train\": {\"eval_examples_count\": 64, \"metrics\": {\"f1_macro\": 1.0, \"f1_weighted\": 1.0, \"accuracy\": 1.0, \"roc_auc\": 1.0}, \"time_spent\": \"0:05:52\", \"epochs_done\": 39, \"batches_seen\": 390, \"train_examples_seen\": 24414, \"loss\": 0.007813668856397272}}\n",
            "2it [00:00,  4.74it/s]\n",
            "2024-04-13 18:18:59.171 INFO in 'deeppavlov.core.trainers.nn_trainer'['nn_trainer'] at line 211: Did not improve on the f1_macro of 0.9807\n",
            "INFO:deeppavlov.core.trainers.nn_trainer:Did not improve on the f1_macro of 0.9807\n"
          ]
        },
        {
          "output_type": "stream",
          "name": "stdout",
          "text": [
            "{\"valid\": {\"eval_examples_count\": 111, \"metrics\": {\"f1_macro\": 0.9714, \"f1_weighted\": 0.9726, \"accuracy\": 0.964, \"roc_auc\": 0.9992}, \"time_spent\": \"0:05:52\", \"epochs_done\": 39, \"batches_seen\": 390, \"train_examples_seen\": 24414, \"impatience\": 2, \"patience_limit\": 10}}\n"
          ]
        },
        {
          "output_type": "stream",
          "name": "stderr",
          "text": [
            "INFO:train_report:{\"valid\": {\"eval_examples_count\": 111, \"metrics\": {\"f1_macro\": 0.9714, \"f1_weighted\": 0.9726, \"accuracy\": 0.964, \"roc_auc\": 0.9992}, \"time_spent\": \"0:05:52\", \"epochs_done\": 39, \"batches_seen\": 390, \"train_examples_seen\": 24414, \"impatience\": 2, \"patience_limit\": 10}}\n",
            "9it [00:05,  1.53it/s]\n",
            "0it [00:00, ?it/s]\u001b[A\n",
            "1it [00:00,  4.15it/s]"
          ]
        },
        {
          "output_type": "stream",
          "name": "stdout",
          "text": [
            "{\"train\": {\"eval_examples_count\": 64, \"metrics\": {\"f1_macro\": 1.0, \"f1_weighted\": 1.0, \"accuracy\": 1.0, \"roc_auc\": 1.0}, \"time_spent\": \"0:05:59\", \"epochs_done\": 39, \"batches_seen\": 400, \"train_examples_seen\": 25040, \"loss\": 0.007212854595854879}}\n"
          ]
        },
        {
          "output_type": "stream",
          "name": "stderr",
          "text": [
            "\n",
            "INFO:train_report:{\"train\": {\"eval_examples_count\": 64, \"metrics\": {\"f1_macro\": 1.0, \"f1_weighted\": 1.0, \"accuracy\": 1.0, \"roc_auc\": 1.0}, \"time_spent\": \"0:05:59\", \"epochs_done\": 39, \"batches_seen\": 400, \"train_examples_seen\": 25040, \"loss\": 0.007212854595854879}}\n",
            "10it [00:06,  1.51it/s]\n",
            "1it [00:00,  4.23it/s]"
          ]
        },
        {
          "output_type": "stream",
          "name": "stdout",
          "text": [
            "{\"train\": {\"eval_examples_count\": 64, \"metrics\": {\"f1_macro\": 1.0, \"f1_weighted\": 1.0, \"accuracy\": 1.0, \"roc_auc\": 1.0}, \"time_spent\": \"0:05:59\", \"epochs_done\": 40, \"batches_seen\": 400, \"train_examples_seen\": 25040}}\n"
          ]
        },
        {
          "output_type": "stream",
          "name": "stderr",
          "text": [
            "\n",
            "INFO:train_report:{\"train\": {\"eval_examples_count\": 64, \"metrics\": {\"f1_macro\": 1.0, \"f1_weighted\": 1.0, \"accuracy\": 1.0, \"roc_auc\": 1.0}, \"time_spent\": \"0:05:59\", \"epochs_done\": 40, \"batches_seen\": 400, \"train_examples_seen\": 25040}}\n",
            "2it [00:00,  4.90it/s]\n",
            "2024-04-13 18:19:06.508 INFO in 'deeppavlov.core.trainers.nn_trainer'['nn_trainer'] at line 211: Did not improve on the f1_macro of 0.9807\n",
            "INFO:deeppavlov.core.trainers.nn_trainer:Did not improve on the f1_macro of 0.9807\n"
          ]
        },
        {
          "output_type": "stream",
          "name": "stdout",
          "text": [
            "{\"valid\": {\"eval_examples_count\": 111, \"metrics\": {\"f1_macro\": 0.9763, \"f1_weighted\": 0.9772, \"accuracy\": 0.964, \"roc_auc\": 0.9992}, \"time_spent\": \"0:06:00\", \"epochs_done\": 40, \"batches_seen\": 400, \"train_examples_seen\": 25040, \"impatience\": 3, \"patience_limit\": 10}}\n"
          ]
        },
        {
          "output_type": "stream",
          "name": "stderr",
          "text": [
            "INFO:train_report:{\"valid\": {\"eval_examples_count\": 111, \"metrics\": {\"f1_macro\": 0.9763, \"f1_weighted\": 0.9772, \"accuracy\": 0.964, \"roc_auc\": 0.9992}, \"time_spent\": \"0:06:00\", \"epochs_done\": 40, \"batches_seen\": 400, \"train_examples_seen\": 25040, \"impatience\": 3, \"patience_limit\": 10}}\n",
            "10it [00:06,  1.59it/s]\n",
            "1it [00:00,  4.23it/s]"
          ]
        },
        {
          "output_type": "stream",
          "name": "stdout",
          "text": [
            "{\"train\": {\"eval_examples_count\": 64, \"metrics\": {\"f1_macro\": 1.0, \"f1_weighted\": 1.0, \"accuracy\": 1.0, \"roc_auc\": 1.0}, \"time_spent\": \"0:06:06\", \"epochs_done\": 41, \"batches_seen\": 410, \"train_examples_seen\": 25666, \"loss\": 0.007827643095515669}}\n"
          ]
        },
        {
          "output_type": "stream",
          "name": "stderr",
          "text": [
            "\n",
            "INFO:train_report:{\"train\": {\"eval_examples_count\": 64, \"metrics\": {\"f1_macro\": 1.0, \"f1_weighted\": 1.0, \"accuracy\": 1.0, \"roc_auc\": 1.0}, \"time_spent\": \"0:06:06\", \"epochs_done\": 41, \"batches_seen\": 410, \"train_examples_seen\": 25666, \"loss\": 0.007827643095515669}}\n",
            "2it [00:00,  4.85it/s]\n",
            "2024-04-13 18:19:13.498 INFO in 'deeppavlov.core.trainers.nn_trainer'['nn_trainer'] at line 211: Did not improve on the f1_macro of 0.9807\n",
            "INFO:deeppavlov.core.trainers.nn_trainer:Did not improve on the f1_macro of 0.9807\n"
          ]
        },
        {
          "output_type": "stream",
          "name": "stdout",
          "text": [
            "{\"valid\": {\"eval_examples_count\": 111, \"metrics\": {\"f1_macro\": 0.9716, \"f1_weighted\": 0.9728, \"accuracy\": 0.964, \"roc_auc\": 0.9995}, \"time_spent\": \"0:06:07\", \"epochs_done\": 41, \"batches_seen\": 410, \"train_examples_seen\": 25666, \"impatience\": 4, \"patience_limit\": 10}}\n"
          ]
        },
        {
          "output_type": "stream",
          "name": "stderr",
          "text": [
            "INFO:train_report:{\"valid\": {\"eval_examples_count\": 111, \"metrics\": {\"f1_macro\": 0.9716, \"f1_weighted\": 0.9728, \"accuracy\": 0.964, \"roc_auc\": 0.9995}, \"time_spent\": \"0:06:07\", \"epochs_done\": 41, \"batches_seen\": 410, \"train_examples_seen\": 25666, \"impatience\": 4, \"patience_limit\": 10}}\n",
            "10it [00:06,  1.57it/s]\n",
            "1it [00:00,  4.19it/s]"
          ]
        },
        {
          "output_type": "stream",
          "name": "stdout",
          "text": [
            "{\"train\": {\"eval_examples_count\": 64, \"metrics\": {\"f1_macro\": 1.0, \"f1_weighted\": 1.0, \"accuracy\": 1.0, \"roc_auc\": 1.0}, \"time_spent\": \"0:06:13\", \"epochs_done\": 42, \"batches_seen\": 420, \"train_examples_seen\": 26292, \"loss\": 0.009165638301055878}}\n"
          ]
        },
        {
          "output_type": "stream",
          "name": "stderr",
          "text": [
            "\n",
            "INFO:train_report:{\"train\": {\"eval_examples_count\": 64, \"metrics\": {\"f1_macro\": 1.0, \"f1_weighted\": 1.0, \"accuracy\": 1.0, \"roc_auc\": 1.0}, \"time_spent\": \"0:06:13\", \"epochs_done\": 42, \"batches_seen\": 420, \"train_examples_seen\": 26292, \"loss\": 0.009165638301055878}}\n",
            "2it [00:00,  4.79it/s]\n",
            "2024-04-13 18:19:20.572 INFO in 'deeppavlov.core.trainers.nn_trainer'['nn_trainer'] at line 211: Did not improve on the f1_macro of 0.9807\n",
            "INFO:deeppavlov.core.trainers.nn_trainer:Did not improve on the f1_macro of 0.9807\n",
            "2024-04-13 18:19:20.575 INFO in 'deeppavlov.core.models.torch_model'['torch_model'] at line 206: ----------Current LR is decreased in 2.0 times----------\n",
            "INFO:deeppavlov.core.models.torch_model:----------Current LR is decreased in 2.0 times----------\n"
          ]
        },
        {
          "output_type": "stream",
          "name": "stdout",
          "text": [
            "{\"valid\": {\"eval_examples_count\": 111, \"metrics\": {\"f1_macro\": 0.9714, \"f1_weighted\": 0.9726, \"accuracy\": 0.964, \"roc_auc\": 0.9994}, \"time_spent\": \"0:06:14\", \"epochs_done\": 42, \"batches_seen\": 420, \"train_examples_seen\": 26292, \"impatience\": 5, \"patience_limit\": 10}}\n"
          ]
        },
        {
          "output_type": "stream",
          "name": "stderr",
          "text": [
            "INFO:train_report:{\"valid\": {\"eval_examples_count\": 111, \"metrics\": {\"f1_macro\": 0.9714, \"f1_weighted\": 0.9726, \"accuracy\": 0.964, \"roc_auc\": 0.9994}, \"time_spent\": \"0:06:14\", \"epochs_done\": 42, \"batches_seen\": 420, \"train_examples_seen\": 26292, \"impatience\": 5, \"patience_limit\": 10}}\n",
            "10it [00:06,  1.61it/s]\n",
            "1it [00:00,  4.18it/s]"
          ]
        },
        {
          "output_type": "stream",
          "name": "stdout",
          "text": [
            "{\"train\": {\"eval_examples_count\": 64, \"metrics\": {\"f1_macro\": 1.0, \"f1_weighted\": 1.0, \"accuracy\": 1.0, \"roc_auc\": 1.0}, \"time_spent\": \"0:06:21\", \"epochs_done\": 43, \"batches_seen\": 430, \"train_examples_seen\": 26918, \"loss\": 0.0018965751922223717}}\n"
          ]
        },
        {
          "output_type": "stream",
          "name": "stderr",
          "text": [
            "\n",
            "INFO:train_report:{\"train\": {\"eval_examples_count\": 64, \"metrics\": {\"f1_macro\": 1.0, \"f1_weighted\": 1.0, \"accuracy\": 1.0, \"roc_auc\": 1.0}, \"time_spent\": \"0:06:21\", \"epochs_done\": 43, \"batches_seen\": 430, \"train_examples_seen\": 26918, \"loss\": 0.0018965751922223717}}\n",
            "2it [00:00,  4.71it/s]\n",
            "2024-04-13 18:19:28.685 INFO in 'deeppavlov.core.trainers.nn_trainer'['nn_trainer'] at line 211: Did not improve on the f1_macro of 0.9807\n",
            "INFO:deeppavlov.core.trainers.nn_trainer:Did not improve on the f1_macro of 0.9807\n"
          ]
        },
        {
          "output_type": "stream",
          "name": "stdout",
          "text": [
            "{\"valid\": {\"eval_examples_count\": 111, \"metrics\": {\"f1_macro\": 0.9807, \"f1_weighted\": 0.982, \"accuracy\": 0.973, \"roc_auc\": 0.9993}, \"time_spent\": \"0:06:22\", \"epochs_done\": 43, \"batches_seen\": 430, \"train_examples_seen\": 26918, \"impatience\": 6, \"patience_limit\": 10}}\n"
          ]
        },
        {
          "output_type": "stream",
          "name": "stderr",
          "text": [
            "INFO:train_report:{\"valid\": {\"eval_examples_count\": 111, \"metrics\": {\"f1_macro\": 0.9807, \"f1_weighted\": 0.982, \"accuracy\": 0.973, \"roc_auc\": 0.9993}, \"time_spent\": \"0:06:22\", \"epochs_done\": 43, \"batches_seen\": 430, \"train_examples_seen\": 26918, \"impatience\": 6, \"patience_limit\": 10}}\n",
            "10it [00:06,  1.58it/s]\n",
            "1it [00:00,  4.18it/s]"
          ]
        },
        {
          "output_type": "stream",
          "name": "stdout",
          "text": [
            "{\"train\": {\"eval_examples_count\": 64, \"metrics\": {\"f1_macro\": 1.0, \"f1_weighted\": 1.0, \"accuracy\": 1.0, \"roc_auc\": 1.0}, \"time_spent\": \"0:06:28\", \"epochs_done\": 44, \"batches_seen\": 440, \"train_examples_seen\": 27544, \"loss\": 0.008335848012939096}}\n"
          ]
        },
        {
          "output_type": "stream",
          "name": "stderr",
          "text": [
            "\n",
            "INFO:train_report:{\"train\": {\"eval_examples_count\": 64, \"metrics\": {\"f1_macro\": 1.0, \"f1_weighted\": 1.0, \"accuracy\": 1.0, \"roc_auc\": 1.0}, \"time_spent\": \"0:06:28\", \"epochs_done\": 44, \"batches_seen\": 440, \"train_examples_seen\": 27544, \"loss\": 0.008335848012939096}}\n",
            "2it [00:00,  4.93it/s]\n",
            "2024-04-13 18:19:35.725 INFO in 'deeppavlov.core.trainers.nn_trainer'['nn_trainer'] at line 211: Did not improve on the f1_macro of 0.9807\n",
            "INFO:deeppavlov.core.trainers.nn_trainer:Did not improve on the f1_macro of 0.9807\n"
          ]
        },
        {
          "output_type": "stream",
          "name": "stdout",
          "text": [
            "{\"valid\": {\"eval_examples_count\": 111, \"metrics\": {\"f1_macro\": 0.9763, \"f1_weighted\": 0.9772, \"accuracy\": 0.964, \"roc_auc\": 0.9993}, \"time_spent\": \"0:06:29\", \"epochs_done\": 44, \"batches_seen\": 440, \"train_examples_seen\": 27544, \"impatience\": 7, \"patience_limit\": 10}}\n"
          ]
        },
        {
          "output_type": "stream",
          "name": "stderr",
          "text": [
            "INFO:train_report:{\"valid\": {\"eval_examples_count\": 111, \"metrics\": {\"f1_macro\": 0.9763, \"f1_weighted\": 0.9772, \"accuracy\": 0.964, \"roc_auc\": 0.9993}, \"time_spent\": \"0:06:29\", \"epochs_done\": 44, \"batches_seen\": 440, \"train_examples_seen\": 27544, \"impatience\": 7, \"patience_limit\": 10}}\n",
            "10it [00:06,  1.59it/s]\n",
            "1it [00:00,  4.12it/s]"
          ]
        },
        {
          "output_type": "stream",
          "name": "stdout",
          "text": [
            "{\"train\": {\"eval_examples_count\": 64, \"metrics\": {\"f1_macro\": 1.0, \"f1_weighted\": 1.0, \"accuracy\": 1.0, \"roc_auc\": 1.0}, \"time_spent\": \"0:06:35\", \"epochs_done\": 45, \"batches_seen\": 450, \"train_examples_seen\": 28170, \"loss\": 0.008255554363131523}}\n"
          ]
        },
        {
          "output_type": "stream",
          "name": "stderr",
          "text": [
            "\n",
            "INFO:train_report:{\"train\": {\"eval_examples_count\": 64, \"metrics\": {\"f1_macro\": 1.0, \"f1_weighted\": 1.0, \"accuracy\": 1.0, \"roc_auc\": 1.0}, \"time_spent\": \"0:06:35\", \"epochs_done\": 45, \"batches_seen\": 450, \"train_examples_seen\": 28170, \"loss\": 0.008255554363131523}}\n",
            "2it [00:00,  4.78it/s]\n",
            "2024-04-13 18:19:42.760 INFO in 'deeppavlov.core.trainers.nn_trainer'['nn_trainer'] at line 211: Did not improve on the f1_macro of 0.9807\n",
            "INFO:deeppavlov.core.trainers.nn_trainer:Did not improve on the f1_macro of 0.9807\n"
          ]
        },
        {
          "output_type": "stream",
          "name": "stdout",
          "text": [
            "{\"valid\": {\"eval_examples_count\": 111, \"metrics\": {\"f1_macro\": 0.9763, \"f1_weighted\": 0.9772, \"accuracy\": 0.964, \"roc_auc\": 0.9993}, \"time_spent\": \"0:06:36\", \"epochs_done\": 45, \"batches_seen\": 450, \"train_examples_seen\": 28170, \"impatience\": 8, \"patience_limit\": 10}}\n"
          ]
        },
        {
          "output_type": "stream",
          "name": "stderr",
          "text": [
            "INFO:train_report:{\"valid\": {\"eval_examples_count\": 111, \"metrics\": {\"f1_macro\": 0.9763, \"f1_weighted\": 0.9772, \"accuracy\": 0.964, \"roc_auc\": 0.9993}, \"time_spent\": \"0:06:36\", \"epochs_done\": 45, \"batches_seen\": 450, \"train_examples_seen\": 28170, \"impatience\": 8, \"patience_limit\": 10}}\n",
            "10it [00:06,  1.59it/s]\n",
            "1it [00:00,  4.25it/s]"
          ]
        },
        {
          "output_type": "stream",
          "name": "stdout",
          "text": [
            "{\"train\": {\"eval_examples_count\": 64, \"metrics\": {\"f1_macro\": 1.0, \"f1_weighted\": 1.0, \"accuracy\": 1.0, \"roc_auc\": 1.0}, \"time_spent\": \"0:06:42\", \"epochs_done\": 46, \"batches_seen\": 460, \"train_examples_seen\": 28796, \"loss\": 0.008460012217983603}}\n"
          ]
        },
        {
          "output_type": "stream",
          "name": "stderr",
          "text": [
            "\n",
            "INFO:train_report:{\"train\": {\"eval_examples_count\": 64, \"metrics\": {\"f1_macro\": 1.0, \"f1_weighted\": 1.0, \"accuracy\": 1.0, \"roc_auc\": 1.0}, \"time_spent\": \"0:06:42\", \"epochs_done\": 46, \"batches_seen\": 460, \"train_examples_seen\": 28796, \"loss\": 0.008460012217983603}}\n",
            "2it [00:00,  4.84it/s]\n",
            "2024-04-13 18:19:49.772 INFO in 'deeppavlov.core.trainers.nn_trainer'['nn_trainer'] at line 211: Did not improve on the f1_macro of 0.9807\n",
            "INFO:deeppavlov.core.trainers.nn_trainer:Did not improve on the f1_macro of 0.9807\n"
          ]
        },
        {
          "output_type": "stream",
          "name": "stdout",
          "text": [
            "{\"valid\": {\"eval_examples_count\": 111, \"metrics\": {\"f1_macro\": 0.9807, \"f1_weighted\": 0.982, \"accuracy\": 0.973, \"roc_auc\": 0.9993}, \"time_spent\": \"0:06:43\", \"epochs_done\": 46, \"batches_seen\": 460, \"train_examples_seen\": 28796, \"impatience\": 9, \"patience_limit\": 10}}\n"
          ]
        },
        {
          "output_type": "stream",
          "name": "stderr",
          "text": [
            "INFO:train_report:{\"valid\": {\"eval_examples_count\": 111, \"metrics\": {\"f1_macro\": 0.9807, \"f1_weighted\": 0.982, \"accuracy\": 0.973, \"roc_auc\": 0.9993}, \"time_spent\": \"0:06:43\", \"epochs_done\": 46, \"batches_seen\": 460, \"train_examples_seen\": 28796, \"impatience\": 9, \"patience_limit\": 10}}\n",
            "10it [00:06,  1.58it/s]\n",
            "1it [00:00,  4.21it/s]"
          ]
        },
        {
          "output_type": "stream",
          "name": "stdout",
          "text": [
            "{\"train\": {\"eval_examples_count\": 64, \"metrics\": {\"f1_macro\": 1.0, \"f1_weighted\": 1.0, \"accuracy\": 1.0, \"roc_auc\": 1.0}, \"time_spent\": \"0:06:49\", \"epochs_done\": 47, \"batches_seen\": 470, \"train_examples_seen\": 29422, \"loss\": 0.007768040662631393}}\n"
          ]
        },
        {
          "output_type": "stream",
          "name": "stderr",
          "text": [
            "\n",
            "INFO:train_report:{\"train\": {\"eval_examples_count\": 64, \"metrics\": {\"f1_macro\": 1.0, \"f1_weighted\": 1.0, \"accuracy\": 1.0, \"roc_auc\": 1.0}, \"time_spent\": \"0:06:49\", \"epochs_done\": 47, \"batches_seen\": 470, \"train_examples_seen\": 29422, \"loss\": 0.007768040662631393}}\n",
            "2it [00:00,  4.66it/s]\n",
            "2024-04-13 18:19:56.817 INFO in 'deeppavlov.core.trainers.nn_trainer'['nn_trainer'] at line 211: Did not improve on the f1_macro of 0.9807\n",
            "INFO:deeppavlov.core.trainers.nn_trainer:Did not improve on the f1_macro of 0.9807\n"
          ]
        },
        {
          "output_type": "stream",
          "name": "stdout",
          "text": [
            "{\"valid\": {\"eval_examples_count\": 111, \"metrics\": {\"f1_macro\": 0.9807, \"f1_weighted\": 0.982, \"accuracy\": 0.973, \"roc_auc\": 0.9993}, \"time_spent\": \"0:06:50\", \"epochs_done\": 47, \"batches_seen\": 470, \"train_examples_seen\": 29422, \"impatience\": 10, \"patience_limit\": 10}}\n"
          ]
        },
        {
          "output_type": "stream",
          "name": "stderr",
          "text": [
            "INFO:train_report:{\"valid\": {\"eval_examples_count\": 111, \"metrics\": {\"f1_macro\": 0.9807, \"f1_weighted\": 0.982, \"accuracy\": 0.973, \"roc_auc\": 0.9993}, \"time_spent\": \"0:06:50\", \"epochs_done\": 47, \"batches_seen\": 470, \"train_examples_seen\": 29422, \"impatience\": 10, \"patience_limit\": 10}}\n",
            "2024-04-13 18:19:56.827 INFO in 'deeppavlov.core.trainers.nn_trainer'['nn_trainer'] at line 326: Ran out of patience\n",
            "INFO:deeppavlov.core.trainers.nn_trainer:Ran out of patience\n",
            "Some weights of DistilBertForSequenceClassification were not initialized from the model checkpoint at distilbert-base-uncased and are newly initialized: ['classifier.bias', 'classifier.weight', 'pre_classifier.bias', 'pre_classifier.weight']\n",
            "You should probably TRAIN this model on a down-stream task to be able to use it for predictions and inference.\n",
            "10it [00:02,  4.28it/s]"
          ]
        },
        {
          "output_type": "stream",
          "name": "stdout",
          "text": [
            "{\"train\": {\"eval_examples_count\": 626, \"metrics\": {\"f1_macro\": 1.0, \"f1_weighted\": 1.0, \"accuracy\": 1.0, \"roc_auc\": 1.0}, \"time_spent\": \"0:00:03\"}}\n"
          ]
        },
        {
          "output_type": "stream",
          "name": "stderr",
          "text": [
            "\n",
            "INFO:train_report:{\"train\": {\"eval_examples_count\": 626, \"metrics\": {\"f1_macro\": 1.0, \"f1_weighted\": 1.0, \"accuracy\": 1.0, \"roc_auc\": 1.0}, \"time_spent\": \"0:00:03\"}}\n",
            "2it [00:00,  4.94it/s]"
          ]
        },
        {
          "output_type": "stream",
          "name": "stdout",
          "text": [
            "{\"valid\": {\"eval_examples_count\": 111, \"metrics\": {\"f1_macro\": 0.9807, \"f1_weighted\": 0.982, \"accuracy\": 0.973, \"roc_auc\": 0.9993}, \"time_spent\": \"0:00:01\"}}\n"
          ]
        },
        {
          "output_type": "stream",
          "name": "stderr",
          "text": [
            "\n",
            "INFO:train_report:{\"valid\": {\"eval_examples_count\": 111, \"metrics\": {\"f1_macro\": 0.9807, \"f1_weighted\": 0.982, \"accuracy\": 0.973, \"roc_auc\": 0.9993}, \"time_spent\": \"0:00:01\"}}\n",
            "2it [00:00,  4.95it/s]"
          ]
        },
        {
          "output_type": "stream",
          "name": "stdout",
          "text": [
            "{\"test\": {\"eval_examples_count\": 111, \"metrics\": {\"f1_macro\": 0.9807, \"f1_weighted\": 0.982, \"accuracy\": 0.973, \"roc_auc\": 0.9993}, \"time_spent\": \"0:00:01\"}}\n"
          ]
        },
        {
          "output_type": "stream",
          "name": "stderr",
          "text": [
            "\n",
            "INFO:train_report:{\"test\": {\"eval_examples_count\": 111, \"metrics\": {\"f1_macro\": 0.9807, \"f1_weighted\": 0.982, \"accuracy\": 0.973, \"roc_auc\": 0.9993}, \"time_spent\": \"0:00:01\"}}\n",
            "Some weights of DistilBertForSequenceClassification were not initialized from the model checkpoint at distilbert-base-uncased and are newly initialized: ['classifier.bias', 'classifier.weight', 'pre_classifier.bias', 'pre_classifier.weight']\n",
            "You should probably TRAIN this model on a down-stream task to be able to use it for predictions and inference.\n"
          ]
        }
      ],
      "source": [
        "model_config['dataset_reader']['data_path'] = \"/content/\"\n",
        "# model_config['chainer']['pipe'][3]['load_path'] = \"/content/\"\n",
        "# model_config['chainer']['pipe'][3]['save_path'] = \"/content/\"\n",
        "# model_config['chainer']['pipe'][1]['load_path'] = \"/content/classes.dict\"\n",
        "# model_config['chainer']['pipe'][1]['save_path'] = \"/content/classes.dict\"\n",
        "model_config['chainer']['pipe'][3]['load_path'] = \"/content/drive/MyDrive/model\"\n",
        "model_config['chainer']['pipe'][3]['save_path'] = \"/content/drive/MyDrive/model\"\n",
        "model_config['chainer']['pipe'][1]['load_path'] = \"/content/drive/MyDrive/classes.dict\"\n",
        "model_config['chainer']['pipe'][1]['save_path'] = \"/content/drive/MyDrive/classes.dict\"\n",
        "model_config['chainer']['out'] = ['y_pred_labels', 'y_pred_probas']\n",
        "model = train_model(model_config)\n",
        "# model = build_model(model_config)"
      ]
    },
    {
      "cell_type": "code",
      "source": [
        "# model = build_model(model_config)"
      ],
      "metadata": {
        "colab": {
          "base_uri": "https://localhost:8080/",
          "height": 371,
          "referenced_widgets": [
            "8a2f92c2b97741b9bcbc12e506645c55",
            "b4c5eb71c35f4f6fba05755b7a8ea39f",
            "3066022827ab4ea9a0f5c99624deac09",
            "3350db8211a84909b3f8df565f5ed8c6",
            "8891daf1dfee4f5bad8427b20ea83f9c",
            "2a0ab4e565c840978a227a20460f9782",
            "9537d4c74c20436b9c80d0f064cd1d48",
            "fec27b82fbc74b3a97bdc4e7ac11e37f",
            "367e729c2ffc44e38db57c51ccff7e58",
            "1a097b5e771d4a46ab56fd24c1a001e8",
            "4aed50a918e64493a8cd491a3c01cb1a",
            "f89851d188ac4349beb14ea91a19a72c",
            "544bf2ad44a94ecc8512547ef5eeaddb",
            "ff996f4238394866b650d1793fb44d88",
            "63e43cf446f3430880aa605a24bddb5f",
            "5b0615b37a5046f392039e212c82cf0d",
            "dea7442cd1a343cbac0e93cb27ca2158",
            "8932b1fad48b470a9fb3b5f75911fd00",
            "71bdf6a65e4245d787bbf5d4aebc169c",
            "d6fb07947b0e4b638c4bdbcadc79d2bf",
            "36ff3bafc4a1477e9f85360f7cdf37f1",
            "8a7287d26c4543f79dc3d22c58382563",
            "65be06c502884e3684ca773e36900d00",
            "e55d6d60d60b4c71bab24dfd4c65b1e4",
            "0a44d4c1c51049b0ab17dce802e5e25a",
            "0ba2bd2d98d64e0e847f26ad6a994541",
            "ef6bc8839b7a4e9d81716113e25f6251",
            "74cad789fb794e7292b263aff76cea53",
            "cf70153b29624cc58c0c1060a7c647c6",
            "c4ad064a2d0a442fa17772460340186c",
            "07685dec469a416bb5b0d2fec197e1fd",
            "5585961b29e9498583a0008f51d49988",
            "183168708b3a44159f9a72f1e96bcbcf",
            "7bb56610e01f4383a304d7c062313cec",
            "da4397dfa76049679b73150db9d49eb0",
            "53a6bbc3777443708d0a804cc1d75936",
            "2004d50ea339473a82c7426ff7dfa6f0",
            "017bc2da05a5460186a06e3ab74d07d2",
            "c2725880076b41f9bd5e622e53627729",
            "6b891a33e0604b1caf99fdc035de9bcc",
            "0dbabba742ef475ca99130062156cfa0",
            "bc28d1e71db64edb88338f48491b8724",
            "178c38d28b4b4f87b421e3406cd6d273",
            "6e108d16c14e45c2951fc1c3e7eedf88",
            "1771a284b92642fabaf860fd81478395",
            "84803ffe44884631880a9332784fdcf8",
            "1978c94624e44c39b7b56163c230c723",
            "e6dcfb5173eb4cf29a3a50a61276ad28",
            "91c383c94b3f424290deabdd534d6e3d",
            "78a97f2fbdb1436abc1d249299f5893b",
            "c2e75b41c5a045148718bed376f9c349",
            "b335931f4ab8468685afb11a5633fc00",
            "e7e3008d0de04695afddcf5f8caa4047",
            "cc4c430752b04af881c48789598ebf5a",
            "5c977d2341c34e30962527eee742b5ec"
          ]
        },
        "id": "6l47zAYnEUfU",
        "outputId": "613d6d71-6894-4cce-9bb8-ad2587c64fad"
      },
      "execution_count": null,
      "outputs": [
        {
          "output_type": "stream",
          "name": "stderr",
          "text": [
            "/usr/local/lib/python3.10/dist-packages/huggingface_hub/utils/_token.py:88: UserWarning: \n",
            "The secret `HF_TOKEN` does not exist in your Colab secrets.\n",
            "To authenticate with the Hugging Face Hub, create a token in your settings tab (https://huggingface.co/settings/tokens), set it as secret in your Google Colab and restart your session.\n",
            "You will be able to reuse this secret in all of your notebooks.\n",
            "Please note that authentication is recommended but still optional to access public models or datasets.\n",
            "  warnings.warn(\n"
          ]
        },
        {
          "output_type": "display_data",
          "data": {
            "text/plain": [
              "tokenizer_config.json:   0%|          | 0.00/28.0 [00:00<?, ?B/s]"
            ],
            "application/vnd.jupyter.widget-view+json": {
              "version_major": 2,
              "version_minor": 0,
              "model_id": "8a2f92c2b97741b9bcbc12e506645c55"
            }
          },
          "metadata": {}
        },
        {
          "output_type": "display_data",
          "data": {
            "text/plain": [
              "config.json:   0%|          | 0.00/483 [00:00<?, ?B/s]"
            ],
            "application/vnd.jupyter.widget-view+json": {
              "version_major": 2,
              "version_minor": 0,
              "model_id": "f89851d188ac4349beb14ea91a19a72c"
            }
          },
          "metadata": {}
        },
        {
          "output_type": "display_data",
          "data": {
            "text/plain": [
              "vocab.txt:   0%|          | 0.00/232k [00:00<?, ?B/s]"
            ],
            "application/vnd.jupyter.widget-view+json": {
              "version_major": 2,
              "version_minor": 0,
              "model_id": "65be06c502884e3684ca773e36900d00"
            }
          },
          "metadata": {}
        },
        {
          "output_type": "display_data",
          "data": {
            "text/plain": [
              "tokenizer.json:   0%|          | 0.00/466k [00:00<?, ?B/s]"
            ],
            "application/vnd.jupyter.widget-view+json": {
              "version_major": 2,
              "version_minor": 0,
              "model_id": "7bb56610e01f4383a304d7c062313cec"
            }
          },
          "metadata": {}
        },
        {
          "output_type": "display_data",
          "data": {
            "text/plain": [
              "model.safetensors:   0%|          | 0.00/268M [00:00<?, ?B/s]"
            ],
            "application/vnd.jupyter.widget-view+json": {
              "version_major": 2,
              "version_minor": 0,
              "model_id": "1771a284b92642fabaf860fd81478395"
            }
          },
          "metadata": {}
        },
        {
          "output_type": "stream",
          "name": "stderr",
          "text": [
            "Some weights of DistilBertForSequenceClassification were not initialized from the model checkpoint at distilbert-base-uncased and are newly initialized: ['classifier.bias', 'classifier.weight', 'pre_classifier.bias', 'pre_classifier.weight']\n",
            "You should probably TRAIN this model on a down-stream task to be able to use it for predictions and inference.\n",
            "2024-04-10 12:25:33.670 WARNING in 'deeppavlov.core.models.torch_model'['torch_model'] at line 151: Init from scratch. Load path /content/drive/MyDrive/model.pth.tar does not exist.\n",
            "WARNING:deeppavlov.core.models.torch_model:Init from scratch. Load path /content/drive/MyDrive/model.pth.tar does not exist.\n"
          ]
        }
      ]
    },
    {
      "cell_type": "code",
      "source": [
        "pred = model([\"Как написать Заявление на открытие аккредитива в валюте РФ?\"])\n",
        "pred"
      ],
      "metadata": {
        "colab": {
          "base_uri": "https://localhost:8080/"
        },
        "id": "EMJyiExn6Jk3",
        "outputId": "f258a70c-d888-4c83-ca81-918c28c6dff6"
      },
      "execution_count": null,
      "outputs": [
        {
          "output_type": "execute_result",
          "data": {
            "text/plain": [
              "[[['3']],\n",
              " array([[8.6193495e-06, 2.5066861e-06, 5.1775860e-06, 7.6302922e-06,\n",
              "         9.9999154e-01]], dtype=float32)]"
            ]
          },
          "metadata": {},
          "execution_count": 20
        }
      ]
    },
    {
      "cell_type": "code",
      "execution_count": null,
      "metadata": {
        "id": "iy5cg8488DPx",
        "colab": {
          "base_uri": "https://localhost:8080/",
          "height": 269
        },
        "outputId": "785474af-2e52-4e25-a552-3569652c79a7"
      },
      "outputs": [
        {
          "output_type": "execute_result",
          "data": {
            "text/plain": [
              "col_0  0   1   2   3   4   5\n",
              "row_0                       \n",
              "0      1   0   0   0   0   0\n",
              "1      2  24   0   0   0   0\n",
              "2      0   0  33   0   0   0\n",
              "3      0   0   0  35   0   0\n",
              "4      1   1   0   0  27   1\n",
              "5      0   0   0   0   0  28"
            ],
            "text/html": [
              "\n",
              "  <div id=\"df-04f6d2e6-94eb-4c61-9f08-e0302053e10f\" class=\"colab-df-container\">\n",
              "    <div>\n",
              "<style scoped>\n",
              "    .dataframe tbody tr th:only-of-type {\n",
              "        vertical-align: middle;\n",
              "    }\n",
              "\n",
              "    .dataframe tbody tr th {\n",
              "        vertical-align: top;\n",
              "    }\n",
              "\n",
              "    .dataframe thead th {\n",
              "        text-align: right;\n",
              "    }\n",
              "</style>\n",
              "<table border=\"1\" class=\"dataframe\">\n",
              "  <thead>\n",
              "    <tr style=\"text-align: right;\">\n",
              "      <th>col_0</th>\n",
              "      <th>0</th>\n",
              "      <th>1</th>\n",
              "      <th>2</th>\n",
              "      <th>3</th>\n",
              "      <th>4</th>\n",
              "      <th>5</th>\n",
              "    </tr>\n",
              "    <tr>\n",
              "      <th>row_0</th>\n",
              "      <th></th>\n",
              "      <th></th>\n",
              "      <th></th>\n",
              "      <th></th>\n",
              "      <th></th>\n",
              "      <th></th>\n",
              "    </tr>\n",
              "  </thead>\n",
              "  <tbody>\n",
              "    <tr>\n",
              "      <th>0</th>\n",
              "      <td>1</td>\n",
              "      <td>0</td>\n",
              "      <td>0</td>\n",
              "      <td>0</td>\n",
              "      <td>0</td>\n",
              "      <td>0</td>\n",
              "    </tr>\n",
              "    <tr>\n",
              "      <th>1</th>\n",
              "      <td>2</td>\n",
              "      <td>24</td>\n",
              "      <td>0</td>\n",
              "      <td>0</td>\n",
              "      <td>0</td>\n",
              "      <td>0</td>\n",
              "    </tr>\n",
              "    <tr>\n",
              "      <th>2</th>\n",
              "      <td>0</td>\n",
              "      <td>0</td>\n",
              "      <td>33</td>\n",
              "      <td>0</td>\n",
              "      <td>0</td>\n",
              "      <td>0</td>\n",
              "    </tr>\n",
              "    <tr>\n",
              "      <th>3</th>\n",
              "      <td>0</td>\n",
              "      <td>0</td>\n",
              "      <td>0</td>\n",
              "      <td>35</td>\n",
              "      <td>0</td>\n",
              "      <td>0</td>\n",
              "    </tr>\n",
              "    <tr>\n",
              "      <th>4</th>\n",
              "      <td>1</td>\n",
              "      <td>1</td>\n",
              "      <td>0</td>\n",
              "      <td>0</td>\n",
              "      <td>27</td>\n",
              "      <td>1</td>\n",
              "    </tr>\n",
              "    <tr>\n",
              "      <th>5</th>\n",
              "      <td>0</td>\n",
              "      <td>0</td>\n",
              "      <td>0</td>\n",
              "      <td>0</td>\n",
              "      <td>0</td>\n",
              "      <td>28</td>\n",
              "    </tr>\n",
              "  </tbody>\n",
              "</table>\n",
              "</div>\n",
              "    <div class=\"colab-df-buttons\">\n",
              "\n",
              "  <div class=\"colab-df-container\">\n",
              "    <button class=\"colab-df-convert\" onclick=\"convertToInteractive('df-04f6d2e6-94eb-4c61-9f08-e0302053e10f')\"\n",
              "            title=\"Convert this dataframe to an interactive table.\"\n",
              "            style=\"display:none;\">\n",
              "\n",
              "  <svg xmlns=\"http://www.w3.org/2000/svg\" height=\"24px\" viewBox=\"0 -960 960 960\">\n",
              "    <path d=\"M120-120v-720h720v720H120Zm60-500h600v-160H180v160Zm220 220h160v-160H400v160Zm0 220h160v-160H400v160ZM180-400h160v-160H180v160Zm440 0h160v-160H620v160ZM180-180h160v-160H180v160Zm440 0h160v-160H620v160Z\"/>\n",
              "  </svg>\n",
              "    </button>\n",
              "\n",
              "  <style>\n",
              "    .colab-df-container {\n",
              "      display:flex;\n",
              "      gap: 12px;\n",
              "    }\n",
              "\n",
              "    .colab-df-convert {\n",
              "      background-color: #E8F0FE;\n",
              "      border: none;\n",
              "      border-radius: 50%;\n",
              "      cursor: pointer;\n",
              "      display: none;\n",
              "      fill: #1967D2;\n",
              "      height: 32px;\n",
              "      padding: 0 0 0 0;\n",
              "      width: 32px;\n",
              "    }\n",
              "\n",
              "    .colab-df-convert:hover {\n",
              "      background-color: #E2EBFA;\n",
              "      box-shadow: 0px 1px 2px rgba(60, 64, 67, 0.3), 0px 1px 3px 1px rgba(60, 64, 67, 0.15);\n",
              "      fill: #174EA6;\n",
              "    }\n",
              "\n",
              "    .colab-df-buttons div {\n",
              "      margin-bottom: 4px;\n",
              "    }\n",
              "\n",
              "    [theme=dark] .colab-df-convert {\n",
              "      background-color: #3B4455;\n",
              "      fill: #D2E3FC;\n",
              "    }\n",
              "\n",
              "    [theme=dark] .colab-df-convert:hover {\n",
              "      background-color: #434B5C;\n",
              "      box-shadow: 0px 1px 3px 1px rgba(0, 0, 0, 0.15);\n",
              "      filter: drop-shadow(0px 1px 2px rgba(0, 0, 0, 0.3));\n",
              "      fill: #FFFFFF;\n",
              "    }\n",
              "  </style>\n",
              "\n",
              "    <script>\n",
              "      const buttonEl =\n",
              "        document.querySelector('#df-04f6d2e6-94eb-4c61-9f08-e0302053e10f button.colab-df-convert');\n",
              "      buttonEl.style.display =\n",
              "        google.colab.kernel.accessAllowed ? 'block' : 'none';\n",
              "\n",
              "      async function convertToInteractive(key) {\n",
              "        const element = document.querySelector('#df-04f6d2e6-94eb-4c61-9f08-e0302053e10f');\n",
              "        const dataTable =\n",
              "          await google.colab.kernel.invokeFunction('convertToInteractive',\n",
              "                                                    [key], {});\n",
              "        if (!dataTable) return;\n",
              "\n",
              "        const docLinkHtml = 'Like what you see? Visit the ' +\n",
              "          '<a target=\"_blank\" href=https://colab.research.google.com/notebooks/data_table.ipynb>data table notebook</a>'\n",
              "          + ' to learn more about interactive tables.';\n",
              "        element.innerHTML = '';\n",
              "        dataTable['output_type'] = 'display_data';\n",
              "        await google.colab.output.renderOutput(dataTable, element);\n",
              "        const docLink = document.createElement('div');\n",
              "        docLink.innerHTML = docLinkHtml;\n",
              "        element.appendChild(docLink);\n",
              "      }\n",
              "    </script>\n",
              "  </div>\n",
              "\n",
              "\n",
              "<div id=\"df-f2c24b2f-d7eb-4285-aba5-d627877cdb7b\">\n",
              "  <button class=\"colab-df-quickchart\" onclick=\"quickchart('df-f2c24b2f-d7eb-4285-aba5-d627877cdb7b')\"\n",
              "            title=\"Suggest charts\"\n",
              "            style=\"display:none;\">\n",
              "\n",
              "<svg xmlns=\"http://www.w3.org/2000/svg\" height=\"24px\"viewBox=\"0 0 24 24\"\n",
              "     width=\"24px\">\n",
              "    <g>\n",
              "        <path d=\"M19 3H5c-1.1 0-2 .9-2 2v14c0 1.1.9 2 2 2h14c1.1 0 2-.9 2-2V5c0-1.1-.9-2-2-2zM9 17H7v-7h2v7zm4 0h-2V7h2v10zm4 0h-2v-4h2v4z\"/>\n",
              "    </g>\n",
              "</svg>\n",
              "  </button>\n",
              "\n",
              "<style>\n",
              "  .colab-df-quickchart {\n",
              "      --bg-color: #E8F0FE;\n",
              "      --fill-color: #1967D2;\n",
              "      --hover-bg-color: #E2EBFA;\n",
              "      --hover-fill-color: #174EA6;\n",
              "      --disabled-fill-color: #AAA;\n",
              "      --disabled-bg-color: #DDD;\n",
              "  }\n",
              "\n",
              "  [theme=dark] .colab-df-quickchart {\n",
              "      --bg-color: #3B4455;\n",
              "      --fill-color: #D2E3FC;\n",
              "      --hover-bg-color: #434B5C;\n",
              "      --hover-fill-color: #FFFFFF;\n",
              "      --disabled-bg-color: #3B4455;\n",
              "      --disabled-fill-color: #666;\n",
              "  }\n",
              "\n",
              "  .colab-df-quickchart {\n",
              "    background-color: var(--bg-color);\n",
              "    border: none;\n",
              "    border-radius: 50%;\n",
              "    cursor: pointer;\n",
              "    display: none;\n",
              "    fill: var(--fill-color);\n",
              "    height: 32px;\n",
              "    padding: 0;\n",
              "    width: 32px;\n",
              "  }\n",
              "\n",
              "  .colab-df-quickchart:hover {\n",
              "    background-color: var(--hover-bg-color);\n",
              "    box-shadow: 0 1px 2px rgba(60, 64, 67, 0.3), 0 1px 3px 1px rgba(60, 64, 67, 0.15);\n",
              "    fill: var(--button-hover-fill-color);\n",
              "  }\n",
              "\n",
              "  .colab-df-quickchart-complete:disabled,\n",
              "  .colab-df-quickchart-complete:disabled:hover {\n",
              "    background-color: var(--disabled-bg-color);\n",
              "    fill: var(--disabled-fill-color);\n",
              "    box-shadow: none;\n",
              "  }\n",
              "\n",
              "  .colab-df-spinner {\n",
              "    border: 2px solid var(--fill-color);\n",
              "    border-color: transparent;\n",
              "    border-bottom-color: var(--fill-color);\n",
              "    animation:\n",
              "      spin 1s steps(1) infinite;\n",
              "  }\n",
              "\n",
              "  @keyframes spin {\n",
              "    0% {\n",
              "      border-color: transparent;\n",
              "      border-bottom-color: var(--fill-color);\n",
              "      border-left-color: var(--fill-color);\n",
              "    }\n",
              "    20% {\n",
              "      border-color: transparent;\n",
              "      border-left-color: var(--fill-color);\n",
              "      border-top-color: var(--fill-color);\n",
              "    }\n",
              "    30% {\n",
              "      border-color: transparent;\n",
              "      border-left-color: var(--fill-color);\n",
              "      border-top-color: var(--fill-color);\n",
              "      border-right-color: var(--fill-color);\n",
              "    }\n",
              "    40% {\n",
              "      border-color: transparent;\n",
              "      border-right-color: var(--fill-color);\n",
              "      border-top-color: var(--fill-color);\n",
              "    }\n",
              "    60% {\n",
              "      border-color: transparent;\n",
              "      border-right-color: var(--fill-color);\n",
              "    }\n",
              "    80% {\n",
              "      border-color: transparent;\n",
              "      border-right-color: var(--fill-color);\n",
              "      border-bottom-color: var(--fill-color);\n",
              "    }\n",
              "    90% {\n",
              "      border-color: transparent;\n",
              "      border-bottom-color: var(--fill-color);\n",
              "    }\n",
              "  }\n",
              "</style>\n",
              "\n",
              "  <script>\n",
              "    async function quickchart(key) {\n",
              "      const quickchartButtonEl =\n",
              "        document.querySelector('#' + key + ' button');\n",
              "      quickchartButtonEl.disabled = true;  // To prevent multiple clicks.\n",
              "      quickchartButtonEl.classList.add('colab-df-spinner');\n",
              "      try {\n",
              "        const charts = await google.colab.kernel.invokeFunction(\n",
              "            'suggestCharts', [key], {});\n",
              "      } catch (error) {\n",
              "        console.error('Error during call to suggestCharts:', error);\n",
              "      }\n",
              "      quickchartButtonEl.classList.remove('colab-df-spinner');\n",
              "      quickchartButtonEl.classList.add('colab-df-quickchart-complete');\n",
              "    }\n",
              "    (() => {\n",
              "      let quickchartButtonEl =\n",
              "        document.querySelector('#df-f2c24b2f-d7eb-4285-aba5-d627877cdb7b button');\n",
              "      quickchartButtonEl.style.display =\n",
              "        google.colab.kernel.accessAllowed ? 'block' : 'none';\n",
              "    })();\n",
              "  </script>\n",
              "</div>\n",
              "    </div>\n",
              "  </div>\n"
            ],
            "application/vnd.google.colaboratory.intrinsic+json": {
              "type": "dataframe",
              "summary": "{\n  \"name\": \"pd\",\n  \"rows\": 6,\n  \"fields\": [\n    {\n      \"column\": \"row_0\",\n      \"properties\": {\n        \"dtype\": \"number\",\n        \"std\": 1,\n        \"min\": 0,\n        \"max\": 5,\n        \"num_unique_values\": 6,\n        \"samples\": [\n          0,\n          1,\n          5\n        ],\n        \"semantic_type\": \"\",\n        \"description\": \"\"\n      }\n    },\n    {\n      \"column\": 0,\n      \"properties\": {\n        \"dtype\": \"number\",\n        \"std\": 0,\n        \"min\": 0,\n        \"max\": 2,\n        \"num_unique_values\": 3,\n        \"samples\": [\n          1,\n          2,\n          0\n        ],\n        \"semantic_type\": \"\",\n        \"description\": \"\"\n      }\n    },\n    {\n      \"column\": 1,\n      \"properties\": {\n        \"dtype\": \"number\",\n        \"std\": 9,\n        \"min\": 0,\n        \"max\": 24,\n        \"num_unique_values\": 3,\n        \"samples\": [\n          0,\n          24,\n          1\n        ],\n        \"semantic_type\": \"\",\n        \"description\": \"\"\n      }\n    },\n    {\n      \"column\": 2,\n      \"properties\": {\n        \"dtype\": \"number\",\n        \"std\": 13,\n        \"min\": 0,\n        \"max\": 33,\n        \"num_unique_values\": 2,\n        \"samples\": [\n          33,\n          0\n        ],\n        \"semantic_type\": \"\",\n        \"description\": \"\"\n      }\n    },\n    {\n      \"column\": 3,\n      \"properties\": {\n        \"dtype\": \"number\",\n        \"std\": 14,\n        \"min\": 0,\n        \"max\": 35,\n        \"num_unique_values\": 2,\n        \"samples\": [\n          35,\n          0\n        ],\n        \"semantic_type\": \"\",\n        \"description\": \"\"\n      }\n    },\n    {\n      \"column\": 4,\n      \"properties\": {\n        \"dtype\": \"number\",\n        \"std\": 11,\n        \"min\": 0,\n        \"max\": 27,\n        \"num_unique_values\": 2,\n        \"samples\": [\n          27,\n          0\n        ],\n        \"semantic_type\": \"\",\n        \"description\": \"\"\n      }\n    },\n    {\n      \"column\": 5,\n      \"properties\": {\n        \"dtype\": \"number\",\n        \"std\": 11,\n        \"min\": 0,\n        \"max\": 28,\n        \"num_unique_values\": 3,\n        \"samples\": [\n          0,\n          1\n        ],\n        \"semantic_type\": \"\",\n        \"description\": \"\"\n      }\n    }\n  ]\n}"
            }
          },
          "metadata": {},
          "execution_count": 27
        }
      ],
      "source": [
        "pred = model(list(test_data['text']))[0]\n",
        "pred = list([int(x[0]) if len(x) > 0 else 0 for x in pred])\n",
        "pred.append(0)\n",
        "y_test_old = y_test\n",
        "y_test = pd.concat([y_test, pd.Series({99 : 0})])\n",
        "pd.crosstab(y_test, pred)"
      ]
    },
    {
      "cell_type": "code",
      "execution_count": null,
      "metadata": {
        "id": "AkJHK7KuicOa"
      },
      "outputs": [],
      "source": [
        "pred.pop()\n",
        "y_test = y_test_old"
      ]
    },
    {
      "cell_type": "code",
      "execution_count": null,
      "metadata": {
        "id": "JNTJRmvl8yhS",
        "colab": {
          "base_uri": "https://localhost:8080/"
        },
        "outputId": "64fb06e0-564a-4af7-8367-75599c1e40d9"
      },
      "outputs": [
        {
          "output_type": "stream",
          "name": "stdout",
          "text": [
            "accuracy 0.9671052631578947\n",
            "precision 0.8209195402298851\n",
            "recall 0.803846153846154\n"
          ]
        },
        {
          "output_type": "stream",
          "name": "stderr",
          "text": [
            "/usr/local/lib/python3.10/dist-packages/sklearn/metrics/_classification.py:1318: UndefinedMetricWarning: Recall is ill-defined and being set to 0.0 in labels with no true samples. Use `zero_division` parameter to control this behavior.\n",
            "  _warn_prf(average, modifier, msg_start, len(result))\n"
          ]
        }
      ],
      "source": [
        "from sklearn.metrics import accuracy_score,precision_score,recall_score\n",
        "# print(type_of_target(list(y_test)))\n",
        "# print(type_of_target(pred))\n",
        "y_list = list(y_test)\n",
        "print('accuracy',accuracy_score(y_list, pred))\n",
        "print('precision',precision_score(y_list, pred, average='macro'))\n",
        "print('recall',recall_score(y_list, pred, average='macro'))"
      ]
    },
    {
      "cell_type": "code",
      "execution_count": null,
      "metadata": {
        "id": "RKAh_ghx-Fzv",
        "colab": {
          "base_uri": "https://localhost:8080/"
        },
        "outputId": "88537b9c-6815-42d5-a900-8fb7c6427484"
      },
      "outputs": [
        {
          "output_type": "stream",
          "name": "stdout",
          "text": [
            "              precision    recall  f1-score   support\n",
            "\n",
            "           0       0.00      0.00      0.00         0\n",
            "           1       0.96      0.92      0.94        26\n",
            "           2       1.00      1.00      1.00        33\n",
            "           3       1.00      1.00      1.00        35\n",
            "           4       1.00      0.90      0.95        30\n",
            "           5       0.97      1.00      0.98        28\n",
            "\n",
            "    accuracy                           0.97       152\n",
            "   macro avg       0.82      0.80      0.81       152\n",
            "weighted avg       0.99      0.97      0.98       152\n",
            "\n"
          ]
        },
        {
          "output_type": "stream",
          "name": "stderr",
          "text": [
            "/usr/local/lib/python3.10/dist-packages/sklearn/metrics/_classification.py:1318: UndefinedMetricWarning: Recall and F-score are ill-defined and being set to 0.0 in labels with no true samples. Use `zero_division` parameter to control this behavior.\n",
            "  _warn_prf(average, modifier, msg_start, len(result))\n",
            "/usr/local/lib/python3.10/dist-packages/sklearn/metrics/_classification.py:1318: UndefinedMetricWarning: Recall and F-score are ill-defined and being set to 0.0 in labels with no true samples. Use `zero_division` parameter to control this behavior.\n",
            "  _warn_prf(average, modifier, msg_start, len(result))\n",
            "/usr/local/lib/python3.10/dist-packages/sklearn/metrics/_classification.py:1318: UndefinedMetricWarning: Recall and F-score are ill-defined and being set to 0.0 in labels with no true samples. Use `zero_division` parameter to control this behavior.\n",
            "  _warn_prf(average, modifier, msg_start, len(result))\n"
          ]
        }
      ],
      "source": [
        "from sklearn.metrics import classification_report\n",
        "print(classification_report(y_list,pred))"
      ]
    },
    {
      "cell_type": "code",
      "execution_count": null,
      "metadata": {
        "id": "dad-TZm0_MbD"
      },
      "outputs": [],
      "source": [
        "test_data"
      ]
    }
  ],
  "metadata": {
    "colab": {
      "provenance": [],
      "gpuType": "T4"
    },
    "kernelspec": {
      "display_name": "Python 3",
      "name": "python3"
    },
    "language_info": {
      "name": "python"
    },
    "accelerator": "GPU",
    "widgets": {
      "application/vnd.jupyter.widget-state+json": {
        "8a2f92c2b97741b9bcbc12e506645c55": {
          "model_module": "@jupyter-widgets/controls",
          "model_name": "HBoxModel",
          "model_module_version": "1.5.0",
          "state": {
            "_dom_classes": [],
            "_model_module": "@jupyter-widgets/controls",
            "_model_module_version": "1.5.0",
            "_model_name": "HBoxModel",
            "_view_count": null,
            "_view_module": "@jupyter-widgets/controls",
            "_view_module_version": "1.5.0",
            "_view_name": "HBoxView",
            "box_style": "",
            "children": [
              "IPY_MODEL_b4c5eb71c35f4f6fba05755b7a8ea39f",
              "IPY_MODEL_3066022827ab4ea9a0f5c99624deac09",
              "IPY_MODEL_3350db8211a84909b3f8df565f5ed8c6"
            ],
            "layout": "IPY_MODEL_8891daf1dfee4f5bad8427b20ea83f9c"
          }
        },
        "b4c5eb71c35f4f6fba05755b7a8ea39f": {
          "model_module": "@jupyter-widgets/controls",
          "model_name": "HTMLModel",
          "model_module_version": "1.5.0",
          "state": {
            "_dom_classes": [],
            "_model_module": "@jupyter-widgets/controls",
            "_model_module_version": "1.5.0",
            "_model_name": "HTMLModel",
            "_view_count": null,
            "_view_module": "@jupyter-widgets/controls",
            "_view_module_version": "1.5.0",
            "_view_name": "HTMLView",
            "description": "",
            "description_tooltip": null,
            "layout": "IPY_MODEL_2a0ab4e565c840978a227a20460f9782",
            "placeholder": "​",
            "style": "IPY_MODEL_9537d4c74c20436b9c80d0f064cd1d48",
            "value": "tokenizer_config.json: 100%"
          }
        },
        "3066022827ab4ea9a0f5c99624deac09": {
          "model_module": "@jupyter-widgets/controls",
          "model_name": "FloatProgressModel",
          "model_module_version": "1.5.0",
          "state": {
            "_dom_classes": [],
            "_model_module": "@jupyter-widgets/controls",
            "_model_module_version": "1.5.0",
            "_model_name": "FloatProgressModel",
            "_view_count": null,
            "_view_module": "@jupyter-widgets/controls",
            "_view_module_version": "1.5.0",
            "_view_name": "ProgressView",
            "bar_style": "success",
            "description": "",
            "description_tooltip": null,
            "layout": "IPY_MODEL_fec27b82fbc74b3a97bdc4e7ac11e37f",
            "max": 28,
            "min": 0,
            "orientation": "horizontal",
            "style": "IPY_MODEL_367e729c2ffc44e38db57c51ccff7e58",
            "value": 28
          }
        },
        "3350db8211a84909b3f8df565f5ed8c6": {
          "model_module": "@jupyter-widgets/controls",
          "model_name": "HTMLModel",
          "model_module_version": "1.5.0",
          "state": {
            "_dom_classes": [],
            "_model_module": "@jupyter-widgets/controls",
            "_model_module_version": "1.5.0",
            "_model_name": "HTMLModel",
            "_view_count": null,
            "_view_module": "@jupyter-widgets/controls",
            "_view_module_version": "1.5.0",
            "_view_name": "HTMLView",
            "description": "",
            "description_tooltip": null,
            "layout": "IPY_MODEL_1a097b5e771d4a46ab56fd24c1a001e8",
            "placeholder": "​",
            "style": "IPY_MODEL_4aed50a918e64493a8cd491a3c01cb1a",
            "value": " 28.0/28.0 [00:00&lt;00:00, 1.94kB/s]"
          }
        },
        "8891daf1dfee4f5bad8427b20ea83f9c": {
          "model_module": "@jupyter-widgets/base",
          "model_name": "LayoutModel",
          "model_module_version": "1.2.0",
          "state": {
            "_model_module": "@jupyter-widgets/base",
            "_model_module_version": "1.2.0",
            "_model_name": "LayoutModel",
            "_view_count": null,
            "_view_module": "@jupyter-widgets/base",
            "_view_module_version": "1.2.0",
            "_view_name": "LayoutView",
            "align_content": null,
            "align_items": null,
            "align_self": null,
            "border": null,
            "bottom": null,
            "display": null,
            "flex": null,
            "flex_flow": null,
            "grid_area": null,
            "grid_auto_columns": null,
            "grid_auto_flow": null,
            "grid_auto_rows": null,
            "grid_column": null,
            "grid_gap": null,
            "grid_row": null,
            "grid_template_areas": null,
            "grid_template_columns": null,
            "grid_template_rows": null,
            "height": null,
            "justify_content": null,
            "justify_items": null,
            "left": null,
            "margin": null,
            "max_height": null,
            "max_width": null,
            "min_height": null,
            "min_width": null,
            "object_fit": null,
            "object_position": null,
            "order": null,
            "overflow": null,
            "overflow_x": null,
            "overflow_y": null,
            "padding": null,
            "right": null,
            "top": null,
            "visibility": null,
            "width": null
          }
        },
        "2a0ab4e565c840978a227a20460f9782": {
          "model_module": "@jupyter-widgets/base",
          "model_name": "LayoutModel",
          "model_module_version": "1.2.0",
          "state": {
            "_model_module": "@jupyter-widgets/base",
            "_model_module_version": "1.2.0",
            "_model_name": "LayoutModel",
            "_view_count": null,
            "_view_module": "@jupyter-widgets/base",
            "_view_module_version": "1.2.0",
            "_view_name": "LayoutView",
            "align_content": null,
            "align_items": null,
            "align_self": null,
            "border": null,
            "bottom": null,
            "display": null,
            "flex": null,
            "flex_flow": null,
            "grid_area": null,
            "grid_auto_columns": null,
            "grid_auto_flow": null,
            "grid_auto_rows": null,
            "grid_column": null,
            "grid_gap": null,
            "grid_row": null,
            "grid_template_areas": null,
            "grid_template_columns": null,
            "grid_template_rows": null,
            "height": null,
            "justify_content": null,
            "justify_items": null,
            "left": null,
            "margin": null,
            "max_height": null,
            "max_width": null,
            "min_height": null,
            "min_width": null,
            "object_fit": null,
            "object_position": null,
            "order": null,
            "overflow": null,
            "overflow_x": null,
            "overflow_y": null,
            "padding": null,
            "right": null,
            "top": null,
            "visibility": null,
            "width": null
          }
        },
        "9537d4c74c20436b9c80d0f064cd1d48": {
          "model_module": "@jupyter-widgets/controls",
          "model_name": "DescriptionStyleModel",
          "model_module_version": "1.5.0",
          "state": {
            "_model_module": "@jupyter-widgets/controls",
            "_model_module_version": "1.5.0",
            "_model_name": "DescriptionStyleModel",
            "_view_count": null,
            "_view_module": "@jupyter-widgets/base",
            "_view_module_version": "1.2.0",
            "_view_name": "StyleView",
            "description_width": ""
          }
        },
        "fec27b82fbc74b3a97bdc4e7ac11e37f": {
          "model_module": "@jupyter-widgets/base",
          "model_name": "LayoutModel",
          "model_module_version": "1.2.0",
          "state": {
            "_model_module": "@jupyter-widgets/base",
            "_model_module_version": "1.2.0",
            "_model_name": "LayoutModel",
            "_view_count": null,
            "_view_module": "@jupyter-widgets/base",
            "_view_module_version": "1.2.0",
            "_view_name": "LayoutView",
            "align_content": null,
            "align_items": null,
            "align_self": null,
            "border": null,
            "bottom": null,
            "display": null,
            "flex": null,
            "flex_flow": null,
            "grid_area": null,
            "grid_auto_columns": null,
            "grid_auto_flow": null,
            "grid_auto_rows": null,
            "grid_column": null,
            "grid_gap": null,
            "grid_row": null,
            "grid_template_areas": null,
            "grid_template_columns": null,
            "grid_template_rows": null,
            "height": null,
            "justify_content": null,
            "justify_items": null,
            "left": null,
            "margin": null,
            "max_height": null,
            "max_width": null,
            "min_height": null,
            "min_width": null,
            "object_fit": null,
            "object_position": null,
            "order": null,
            "overflow": null,
            "overflow_x": null,
            "overflow_y": null,
            "padding": null,
            "right": null,
            "top": null,
            "visibility": null,
            "width": null
          }
        },
        "367e729c2ffc44e38db57c51ccff7e58": {
          "model_module": "@jupyter-widgets/controls",
          "model_name": "ProgressStyleModel",
          "model_module_version": "1.5.0",
          "state": {
            "_model_module": "@jupyter-widgets/controls",
            "_model_module_version": "1.5.0",
            "_model_name": "ProgressStyleModel",
            "_view_count": null,
            "_view_module": "@jupyter-widgets/base",
            "_view_module_version": "1.2.0",
            "_view_name": "StyleView",
            "bar_color": null,
            "description_width": ""
          }
        },
        "1a097b5e771d4a46ab56fd24c1a001e8": {
          "model_module": "@jupyter-widgets/base",
          "model_name": "LayoutModel",
          "model_module_version": "1.2.0",
          "state": {
            "_model_module": "@jupyter-widgets/base",
            "_model_module_version": "1.2.0",
            "_model_name": "LayoutModel",
            "_view_count": null,
            "_view_module": "@jupyter-widgets/base",
            "_view_module_version": "1.2.0",
            "_view_name": "LayoutView",
            "align_content": null,
            "align_items": null,
            "align_self": null,
            "border": null,
            "bottom": null,
            "display": null,
            "flex": null,
            "flex_flow": null,
            "grid_area": null,
            "grid_auto_columns": null,
            "grid_auto_flow": null,
            "grid_auto_rows": null,
            "grid_column": null,
            "grid_gap": null,
            "grid_row": null,
            "grid_template_areas": null,
            "grid_template_columns": null,
            "grid_template_rows": null,
            "height": null,
            "justify_content": null,
            "justify_items": null,
            "left": null,
            "margin": null,
            "max_height": null,
            "max_width": null,
            "min_height": null,
            "min_width": null,
            "object_fit": null,
            "object_position": null,
            "order": null,
            "overflow": null,
            "overflow_x": null,
            "overflow_y": null,
            "padding": null,
            "right": null,
            "top": null,
            "visibility": null,
            "width": null
          }
        },
        "4aed50a918e64493a8cd491a3c01cb1a": {
          "model_module": "@jupyter-widgets/controls",
          "model_name": "DescriptionStyleModel",
          "model_module_version": "1.5.0",
          "state": {
            "_model_module": "@jupyter-widgets/controls",
            "_model_module_version": "1.5.0",
            "_model_name": "DescriptionStyleModel",
            "_view_count": null,
            "_view_module": "@jupyter-widgets/base",
            "_view_module_version": "1.2.0",
            "_view_name": "StyleView",
            "description_width": ""
          }
        },
        "f89851d188ac4349beb14ea91a19a72c": {
          "model_module": "@jupyter-widgets/controls",
          "model_name": "HBoxModel",
          "model_module_version": "1.5.0",
          "state": {
            "_dom_classes": [],
            "_model_module": "@jupyter-widgets/controls",
            "_model_module_version": "1.5.0",
            "_model_name": "HBoxModel",
            "_view_count": null,
            "_view_module": "@jupyter-widgets/controls",
            "_view_module_version": "1.5.0",
            "_view_name": "HBoxView",
            "box_style": "",
            "children": [
              "IPY_MODEL_544bf2ad44a94ecc8512547ef5eeaddb",
              "IPY_MODEL_ff996f4238394866b650d1793fb44d88",
              "IPY_MODEL_63e43cf446f3430880aa605a24bddb5f"
            ],
            "layout": "IPY_MODEL_5b0615b37a5046f392039e212c82cf0d"
          }
        },
        "544bf2ad44a94ecc8512547ef5eeaddb": {
          "model_module": "@jupyter-widgets/controls",
          "model_name": "HTMLModel",
          "model_module_version": "1.5.0",
          "state": {
            "_dom_classes": [],
            "_model_module": "@jupyter-widgets/controls",
            "_model_module_version": "1.5.0",
            "_model_name": "HTMLModel",
            "_view_count": null,
            "_view_module": "@jupyter-widgets/controls",
            "_view_module_version": "1.5.0",
            "_view_name": "HTMLView",
            "description": "",
            "description_tooltip": null,
            "layout": "IPY_MODEL_dea7442cd1a343cbac0e93cb27ca2158",
            "placeholder": "​",
            "style": "IPY_MODEL_8932b1fad48b470a9fb3b5f75911fd00",
            "value": "config.json: 100%"
          }
        },
        "ff996f4238394866b650d1793fb44d88": {
          "model_module": "@jupyter-widgets/controls",
          "model_name": "FloatProgressModel",
          "model_module_version": "1.5.0",
          "state": {
            "_dom_classes": [],
            "_model_module": "@jupyter-widgets/controls",
            "_model_module_version": "1.5.0",
            "_model_name": "FloatProgressModel",
            "_view_count": null,
            "_view_module": "@jupyter-widgets/controls",
            "_view_module_version": "1.5.0",
            "_view_name": "ProgressView",
            "bar_style": "success",
            "description": "",
            "description_tooltip": null,
            "layout": "IPY_MODEL_71bdf6a65e4245d787bbf5d4aebc169c",
            "max": 483,
            "min": 0,
            "orientation": "horizontal",
            "style": "IPY_MODEL_d6fb07947b0e4b638c4bdbcadc79d2bf",
            "value": 483
          }
        },
        "63e43cf446f3430880aa605a24bddb5f": {
          "model_module": "@jupyter-widgets/controls",
          "model_name": "HTMLModel",
          "model_module_version": "1.5.0",
          "state": {
            "_dom_classes": [],
            "_model_module": "@jupyter-widgets/controls",
            "_model_module_version": "1.5.0",
            "_model_name": "HTMLModel",
            "_view_count": null,
            "_view_module": "@jupyter-widgets/controls",
            "_view_module_version": "1.5.0",
            "_view_name": "HTMLView",
            "description": "",
            "description_tooltip": null,
            "layout": "IPY_MODEL_36ff3bafc4a1477e9f85360f7cdf37f1",
            "placeholder": "​",
            "style": "IPY_MODEL_8a7287d26c4543f79dc3d22c58382563",
            "value": " 483/483 [00:00&lt;00:00, 38.1kB/s]"
          }
        },
        "5b0615b37a5046f392039e212c82cf0d": {
          "model_module": "@jupyter-widgets/base",
          "model_name": "LayoutModel",
          "model_module_version": "1.2.0",
          "state": {
            "_model_module": "@jupyter-widgets/base",
            "_model_module_version": "1.2.0",
            "_model_name": "LayoutModel",
            "_view_count": null,
            "_view_module": "@jupyter-widgets/base",
            "_view_module_version": "1.2.0",
            "_view_name": "LayoutView",
            "align_content": null,
            "align_items": null,
            "align_self": null,
            "border": null,
            "bottom": null,
            "display": null,
            "flex": null,
            "flex_flow": null,
            "grid_area": null,
            "grid_auto_columns": null,
            "grid_auto_flow": null,
            "grid_auto_rows": null,
            "grid_column": null,
            "grid_gap": null,
            "grid_row": null,
            "grid_template_areas": null,
            "grid_template_columns": null,
            "grid_template_rows": null,
            "height": null,
            "justify_content": null,
            "justify_items": null,
            "left": null,
            "margin": null,
            "max_height": null,
            "max_width": null,
            "min_height": null,
            "min_width": null,
            "object_fit": null,
            "object_position": null,
            "order": null,
            "overflow": null,
            "overflow_x": null,
            "overflow_y": null,
            "padding": null,
            "right": null,
            "top": null,
            "visibility": null,
            "width": null
          }
        },
        "dea7442cd1a343cbac0e93cb27ca2158": {
          "model_module": "@jupyter-widgets/base",
          "model_name": "LayoutModel",
          "model_module_version": "1.2.0",
          "state": {
            "_model_module": "@jupyter-widgets/base",
            "_model_module_version": "1.2.0",
            "_model_name": "LayoutModel",
            "_view_count": null,
            "_view_module": "@jupyter-widgets/base",
            "_view_module_version": "1.2.0",
            "_view_name": "LayoutView",
            "align_content": null,
            "align_items": null,
            "align_self": null,
            "border": null,
            "bottom": null,
            "display": null,
            "flex": null,
            "flex_flow": null,
            "grid_area": null,
            "grid_auto_columns": null,
            "grid_auto_flow": null,
            "grid_auto_rows": null,
            "grid_column": null,
            "grid_gap": null,
            "grid_row": null,
            "grid_template_areas": null,
            "grid_template_columns": null,
            "grid_template_rows": null,
            "height": null,
            "justify_content": null,
            "justify_items": null,
            "left": null,
            "margin": null,
            "max_height": null,
            "max_width": null,
            "min_height": null,
            "min_width": null,
            "object_fit": null,
            "object_position": null,
            "order": null,
            "overflow": null,
            "overflow_x": null,
            "overflow_y": null,
            "padding": null,
            "right": null,
            "top": null,
            "visibility": null,
            "width": null
          }
        },
        "8932b1fad48b470a9fb3b5f75911fd00": {
          "model_module": "@jupyter-widgets/controls",
          "model_name": "DescriptionStyleModel",
          "model_module_version": "1.5.0",
          "state": {
            "_model_module": "@jupyter-widgets/controls",
            "_model_module_version": "1.5.0",
            "_model_name": "DescriptionStyleModel",
            "_view_count": null,
            "_view_module": "@jupyter-widgets/base",
            "_view_module_version": "1.2.0",
            "_view_name": "StyleView",
            "description_width": ""
          }
        },
        "71bdf6a65e4245d787bbf5d4aebc169c": {
          "model_module": "@jupyter-widgets/base",
          "model_name": "LayoutModel",
          "model_module_version": "1.2.0",
          "state": {
            "_model_module": "@jupyter-widgets/base",
            "_model_module_version": "1.2.0",
            "_model_name": "LayoutModel",
            "_view_count": null,
            "_view_module": "@jupyter-widgets/base",
            "_view_module_version": "1.2.0",
            "_view_name": "LayoutView",
            "align_content": null,
            "align_items": null,
            "align_self": null,
            "border": null,
            "bottom": null,
            "display": null,
            "flex": null,
            "flex_flow": null,
            "grid_area": null,
            "grid_auto_columns": null,
            "grid_auto_flow": null,
            "grid_auto_rows": null,
            "grid_column": null,
            "grid_gap": null,
            "grid_row": null,
            "grid_template_areas": null,
            "grid_template_columns": null,
            "grid_template_rows": null,
            "height": null,
            "justify_content": null,
            "justify_items": null,
            "left": null,
            "margin": null,
            "max_height": null,
            "max_width": null,
            "min_height": null,
            "min_width": null,
            "object_fit": null,
            "object_position": null,
            "order": null,
            "overflow": null,
            "overflow_x": null,
            "overflow_y": null,
            "padding": null,
            "right": null,
            "top": null,
            "visibility": null,
            "width": null
          }
        },
        "d6fb07947b0e4b638c4bdbcadc79d2bf": {
          "model_module": "@jupyter-widgets/controls",
          "model_name": "ProgressStyleModel",
          "model_module_version": "1.5.0",
          "state": {
            "_model_module": "@jupyter-widgets/controls",
            "_model_module_version": "1.5.0",
            "_model_name": "ProgressStyleModel",
            "_view_count": null,
            "_view_module": "@jupyter-widgets/base",
            "_view_module_version": "1.2.0",
            "_view_name": "StyleView",
            "bar_color": null,
            "description_width": ""
          }
        },
        "36ff3bafc4a1477e9f85360f7cdf37f1": {
          "model_module": "@jupyter-widgets/base",
          "model_name": "LayoutModel",
          "model_module_version": "1.2.0",
          "state": {
            "_model_module": "@jupyter-widgets/base",
            "_model_module_version": "1.2.0",
            "_model_name": "LayoutModel",
            "_view_count": null,
            "_view_module": "@jupyter-widgets/base",
            "_view_module_version": "1.2.0",
            "_view_name": "LayoutView",
            "align_content": null,
            "align_items": null,
            "align_self": null,
            "border": null,
            "bottom": null,
            "display": null,
            "flex": null,
            "flex_flow": null,
            "grid_area": null,
            "grid_auto_columns": null,
            "grid_auto_flow": null,
            "grid_auto_rows": null,
            "grid_column": null,
            "grid_gap": null,
            "grid_row": null,
            "grid_template_areas": null,
            "grid_template_columns": null,
            "grid_template_rows": null,
            "height": null,
            "justify_content": null,
            "justify_items": null,
            "left": null,
            "margin": null,
            "max_height": null,
            "max_width": null,
            "min_height": null,
            "min_width": null,
            "object_fit": null,
            "object_position": null,
            "order": null,
            "overflow": null,
            "overflow_x": null,
            "overflow_y": null,
            "padding": null,
            "right": null,
            "top": null,
            "visibility": null,
            "width": null
          }
        },
        "8a7287d26c4543f79dc3d22c58382563": {
          "model_module": "@jupyter-widgets/controls",
          "model_name": "DescriptionStyleModel",
          "model_module_version": "1.5.0",
          "state": {
            "_model_module": "@jupyter-widgets/controls",
            "_model_module_version": "1.5.0",
            "_model_name": "DescriptionStyleModel",
            "_view_count": null,
            "_view_module": "@jupyter-widgets/base",
            "_view_module_version": "1.2.0",
            "_view_name": "StyleView",
            "description_width": ""
          }
        },
        "65be06c502884e3684ca773e36900d00": {
          "model_module": "@jupyter-widgets/controls",
          "model_name": "HBoxModel",
          "model_module_version": "1.5.0",
          "state": {
            "_dom_classes": [],
            "_model_module": "@jupyter-widgets/controls",
            "_model_module_version": "1.5.0",
            "_model_name": "HBoxModel",
            "_view_count": null,
            "_view_module": "@jupyter-widgets/controls",
            "_view_module_version": "1.5.0",
            "_view_name": "HBoxView",
            "box_style": "",
            "children": [
              "IPY_MODEL_e55d6d60d60b4c71bab24dfd4c65b1e4",
              "IPY_MODEL_0a44d4c1c51049b0ab17dce802e5e25a",
              "IPY_MODEL_0ba2bd2d98d64e0e847f26ad6a994541"
            ],
            "layout": "IPY_MODEL_ef6bc8839b7a4e9d81716113e25f6251"
          }
        },
        "e55d6d60d60b4c71bab24dfd4c65b1e4": {
          "model_module": "@jupyter-widgets/controls",
          "model_name": "HTMLModel",
          "model_module_version": "1.5.0",
          "state": {
            "_dom_classes": [],
            "_model_module": "@jupyter-widgets/controls",
            "_model_module_version": "1.5.0",
            "_model_name": "HTMLModel",
            "_view_count": null,
            "_view_module": "@jupyter-widgets/controls",
            "_view_module_version": "1.5.0",
            "_view_name": "HTMLView",
            "description": "",
            "description_tooltip": null,
            "layout": "IPY_MODEL_74cad789fb794e7292b263aff76cea53",
            "placeholder": "​",
            "style": "IPY_MODEL_cf70153b29624cc58c0c1060a7c647c6",
            "value": "vocab.txt: 100%"
          }
        },
        "0a44d4c1c51049b0ab17dce802e5e25a": {
          "model_module": "@jupyter-widgets/controls",
          "model_name": "FloatProgressModel",
          "model_module_version": "1.5.0",
          "state": {
            "_dom_classes": [],
            "_model_module": "@jupyter-widgets/controls",
            "_model_module_version": "1.5.0",
            "_model_name": "FloatProgressModel",
            "_view_count": null,
            "_view_module": "@jupyter-widgets/controls",
            "_view_module_version": "1.5.0",
            "_view_name": "ProgressView",
            "bar_style": "success",
            "description": "",
            "description_tooltip": null,
            "layout": "IPY_MODEL_c4ad064a2d0a442fa17772460340186c",
            "max": 231508,
            "min": 0,
            "orientation": "horizontal",
            "style": "IPY_MODEL_07685dec469a416bb5b0d2fec197e1fd",
            "value": 231508
          }
        },
        "0ba2bd2d98d64e0e847f26ad6a994541": {
          "model_module": "@jupyter-widgets/controls",
          "model_name": "HTMLModel",
          "model_module_version": "1.5.0",
          "state": {
            "_dom_classes": [],
            "_model_module": "@jupyter-widgets/controls",
            "_model_module_version": "1.5.0",
            "_model_name": "HTMLModel",
            "_view_count": null,
            "_view_module": "@jupyter-widgets/controls",
            "_view_module_version": "1.5.0",
            "_view_name": "HTMLView",
            "description": "",
            "description_tooltip": null,
            "layout": "IPY_MODEL_5585961b29e9498583a0008f51d49988",
            "placeholder": "​",
            "style": "IPY_MODEL_183168708b3a44159f9a72f1e96bcbcf",
            "value": " 232k/232k [00:00&lt;00:00, 7.62MB/s]"
          }
        },
        "ef6bc8839b7a4e9d81716113e25f6251": {
          "model_module": "@jupyter-widgets/base",
          "model_name": "LayoutModel",
          "model_module_version": "1.2.0",
          "state": {
            "_model_module": "@jupyter-widgets/base",
            "_model_module_version": "1.2.0",
            "_model_name": "LayoutModel",
            "_view_count": null,
            "_view_module": "@jupyter-widgets/base",
            "_view_module_version": "1.2.0",
            "_view_name": "LayoutView",
            "align_content": null,
            "align_items": null,
            "align_self": null,
            "border": null,
            "bottom": null,
            "display": null,
            "flex": null,
            "flex_flow": null,
            "grid_area": null,
            "grid_auto_columns": null,
            "grid_auto_flow": null,
            "grid_auto_rows": null,
            "grid_column": null,
            "grid_gap": null,
            "grid_row": null,
            "grid_template_areas": null,
            "grid_template_columns": null,
            "grid_template_rows": null,
            "height": null,
            "justify_content": null,
            "justify_items": null,
            "left": null,
            "margin": null,
            "max_height": null,
            "max_width": null,
            "min_height": null,
            "min_width": null,
            "object_fit": null,
            "object_position": null,
            "order": null,
            "overflow": null,
            "overflow_x": null,
            "overflow_y": null,
            "padding": null,
            "right": null,
            "top": null,
            "visibility": null,
            "width": null
          }
        },
        "74cad789fb794e7292b263aff76cea53": {
          "model_module": "@jupyter-widgets/base",
          "model_name": "LayoutModel",
          "model_module_version": "1.2.0",
          "state": {
            "_model_module": "@jupyter-widgets/base",
            "_model_module_version": "1.2.0",
            "_model_name": "LayoutModel",
            "_view_count": null,
            "_view_module": "@jupyter-widgets/base",
            "_view_module_version": "1.2.0",
            "_view_name": "LayoutView",
            "align_content": null,
            "align_items": null,
            "align_self": null,
            "border": null,
            "bottom": null,
            "display": null,
            "flex": null,
            "flex_flow": null,
            "grid_area": null,
            "grid_auto_columns": null,
            "grid_auto_flow": null,
            "grid_auto_rows": null,
            "grid_column": null,
            "grid_gap": null,
            "grid_row": null,
            "grid_template_areas": null,
            "grid_template_columns": null,
            "grid_template_rows": null,
            "height": null,
            "justify_content": null,
            "justify_items": null,
            "left": null,
            "margin": null,
            "max_height": null,
            "max_width": null,
            "min_height": null,
            "min_width": null,
            "object_fit": null,
            "object_position": null,
            "order": null,
            "overflow": null,
            "overflow_x": null,
            "overflow_y": null,
            "padding": null,
            "right": null,
            "top": null,
            "visibility": null,
            "width": null
          }
        },
        "cf70153b29624cc58c0c1060a7c647c6": {
          "model_module": "@jupyter-widgets/controls",
          "model_name": "DescriptionStyleModel",
          "model_module_version": "1.5.0",
          "state": {
            "_model_module": "@jupyter-widgets/controls",
            "_model_module_version": "1.5.0",
            "_model_name": "DescriptionStyleModel",
            "_view_count": null,
            "_view_module": "@jupyter-widgets/base",
            "_view_module_version": "1.2.0",
            "_view_name": "StyleView",
            "description_width": ""
          }
        },
        "c4ad064a2d0a442fa17772460340186c": {
          "model_module": "@jupyter-widgets/base",
          "model_name": "LayoutModel",
          "model_module_version": "1.2.0",
          "state": {
            "_model_module": "@jupyter-widgets/base",
            "_model_module_version": "1.2.0",
            "_model_name": "LayoutModel",
            "_view_count": null,
            "_view_module": "@jupyter-widgets/base",
            "_view_module_version": "1.2.0",
            "_view_name": "LayoutView",
            "align_content": null,
            "align_items": null,
            "align_self": null,
            "border": null,
            "bottom": null,
            "display": null,
            "flex": null,
            "flex_flow": null,
            "grid_area": null,
            "grid_auto_columns": null,
            "grid_auto_flow": null,
            "grid_auto_rows": null,
            "grid_column": null,
            "grid_gap": null,
            "grid_row": null,
            "grid_template_areas": null,
            "grid_template_columns": null,
            "grid_template_rows": null,
            "height": null,
            "justify_content": null,
            "justify_items": null,
            "left": null,
            "margin": null,
            "max_height": null,
            "max_width": null,
            "min_height": null,
            "min_width": null,
            "object_fit": null,
            "object_position": null,
            "order": null,
            "overflow": null,
            "overflow_x": null,
            "overflow_y": null,
            "padding": null,
            "right": null,
            "top": null,
            "visibility": null,
            "width": null
          }
        },
        "07685dec469a416bb5b0d2fec197e1fd": {
          "model_module": "@jupyter-widgets/controls",
          "model_name": "ProgressStyleModel",
          "model_module_version": "1.5.0",
          "state": {
            "_model_module": "@jupyter-widgets/controls",
            "_model_module_version": "1.5.0",
            "_model_name": "ProgressStyleModel",
            "_view_count": null,
            "_view_module": "@jupyter-widgets/base",
            "_view_module_version": "1.2.0",
            "_view_name": "StyleView",
            "bar_color": null,
            "description_width": ""
          }
        },
        "5585961b29e9498583a0008f51d49988": {
          "model_module": "@jupyter-widgets/base",
          "model_name": "LayoutModel",
          "model_module_version": "1.2.0",
          "state": {
            "_model_module": "@jupyter-widgets/base",
            "_model_module_version": "1.2.0",
            "_model_name": "LayoutModel",
            "_view_count": null,
            "_view_module": "@jupyter-widgets/base",
            "_view_module_version": "1.2.0",
            "_view_name": "LayoutView",
            "align_content": null,
            "align_items": null,
            "align_self": null,
            "border": null,
            "bottom": null,
            "display": null,
            "flex": null,
            "flex_flow": null,
            "grid_area": null,
            "grid_auto_columns": null,
            "grid_auto_flow": null,
            "grid_auto_rows": null,
            "grid_column": null,
            "grid_gap": null,
            "grid_row": null,
            "grid_template_areas": null,
            "grid_template_columns": null,
            "grid_template_rows": null,
            "height": null,
            "justify_content": null,
            "justify_items": null,
            "left": null,
            "margin": null,
            "max_height": null,
            "max_width": null,
            "min_height": null,
            "min_width": null,
            "object_fit": null,
            "object_position": null,
            "order": null,
            "overflow": null,
            "overflow_x": null,
            "overflow_y": null,
            "padding": null,
            "right": null,
            "top": null,
            "visibility": null,
            "width": null
          }
        },
        "183168708b3a44159f9a72f1e96bcbcf": {
          "model_module": "@jupyter-widgets/controls",
          "model_name": "DescriptionStyleModel",
          "model_module_version": "1.5.0",
          "state": {
            "_model_module": "@jupyter-widgets/controls",
            "_model_module_version": "1.5.0",
            "_model_name": "DescriptionStyleModel",
            "_view_count": null,
            "_view_module": "@jupyter-widgets/base",
            "_view_module_version": "1.2.0",
            "_view_name": "StyleView",
            "description_width": ""
          }
        },
        "7bb56610e01f4383a304d7c062313cec": {
          "model_module": "@jupyter-widgets/controls",
          "model_name": "HBoxModel",
          "model_module_version": "1.5.0",
          "state": {
            "_dom_classes": [],
            "_model_module": "@jupyter-widgets/controls",
            "_model_module_version": "1.5.0",
            "_model_name": "HBoxModel",
            "_view_count": null,
            "_view_module": "@jupyter-widgets/controls",
            "_view_module_version": "1.5.0",
            "_view_name": "HBoxView",
            "box_style": "",
            "children": [
              "IPY_MODEL_da4397dfa76049679b73150db9d49eb0",
              "IPY_MODEL_53a6bbc3777443708d0a804cc1d75936",
              "IPY_MODEL_2004d50ea339473a82c7426ff7dfa6f0"
            ],
            "layout": "IPY_MODEL_017bc2da05a5460186a06e3ab74d07d2"
          }
        },
        "da4397dfa76049679b73150db9d49eb0": {
          "model_module": "@jupyter-widgets/controls",
          "model_name": "HTMLModel",
          "model_module_version": "1.5.0",
          "state": {
            "_dom_classes": [],
            "_model_module": "@jupyter-widgets/controls",
            "_model_module_version": "1.5.0",
            "_model_name": "HTMLModel",
            "_view_count": null,
            "_view_module": "@jupyter-widgets/controls",
            "_view_module_version": "1.5.0",
            "_view_name": "HTMLView",
            "description": "",
            "description_tooltip": null,
            "layout": "IPY_MODEL_c2725880076b41f9bd5e622e53627729",
            "placeholder": "​",
            "style": "IPY_MODEL_6b891a33e0604b1caf99fdc035de9bcc",
            "value": "tokenizer.json: 100%"
          }
        },
        "53a6bbc3777443708d0a804cc1d75936": {
          "model_module": "@jupyter-widgets/controls",
          "model_name": "FloatProgressModel",
          "model_module_version": "1.5.0",
          "state": {
            "_dom_classes": [],
            "_model_module": "@jupyter-widgets/controls",
            "_model_module_version": "1.5.0",
            "_model_name": "FloatProgressModel",
            "_view_count": null,
            "_view_module": "@jupyter-widgets/controls",
            "_view_module_version": "1.5.0",
            "_view_name": "ProgressView",
            "bar_style": "success",
            "description": "",
            "description_tooltip": null,
            "layout": "IPY_MODEL_0dbabba742ef475ca99130062156cfa0",
            "max": 466062,
            "min": 0,
            "orientation": "horizontal",
            "style": "IPY_MODEL_bc28d1e71db64edb88338f48491b8724",
            "value": 466062
          }
        },
        "2004d50ea339473a82c7426ff7dfa6f0": {
          "model_module": "@jupyter-widgets/controls",
          "model_name": "HTMLModel",
          "model_module_version": "1.5.0",
          "state": {
            "_dom_classes": [],
            "_model_module": "@jupyter-widgets/controls",
            "_model_module_version": "1.5.0",
            "_model_name": "HTMLModel",
            "_view_count": null,
            "_view_module": "@jupyter-widgets/controls",
            "_view_module_version": "1.5.0",
            "_view_name": "HTMLView",
            "description": "",
            "description_tooltip": null,
            "layout": "IPY_MODEL_178c38d28b4b4f87b421e3406cd6d273",
            "placeholder": "​",
            "style": "IPY_MODEL_6e108d16c14e45c2951fc1c3e7eedf88",
            "value": " 466k/466k [00:00&lt;00:00, 2.35MB/s]"
          }
        },
        "017bc2da05a5460186a06e3ab74d07d2": {
          "model_module": "@jupyter-widgets/base",
          "model_name": "LayoutModel",
          "model_module_version": "1.2.0",
          "state": {
            "_model_module": "@jupyter-widgets/base",
            "_model_module_version": "1.2.0",
            "_model_name": "LayoutModel",
            "_view_count": null,
            "_view_module": "@jupyter-widgets/base",
            "_view_module_version": "1.2.0",
            "_view_name": "LayoutView",
            "align_content": null,
            "align_items": null,
            "align_self": null,
            "border": null,
            "bottom": null,
            "display": null,
            "flex": null,
            "flex_flow": null,
            "grid_area": null,
            "grid_auto_columns": null,
            "grid_auto_flow": null,
            "grid_auto_rows": null,
            "grid_column": null,
            "grid_gap": null,
            "grid_row": null,
            "grid_template_areas": null,
            "grid_template_columns": null,
            "grid_template_rows": null,
            "height": null,
            "justify_content": null,
            "justify_items": null,
            "left": null,
            "margin": null,
            "max_height": null,
            "max_width": null,
            "min_height": null,
            "min_width": null,
            "object_fit": null,
            "object_position": null,
            "order": null,
            "overflow": null,
            "overflow_x": null,
            "overflow_y": null,
            "padding": null,
            "right": null,
            "top": null,
            "visibility": null,
            "width": null
          }
        },
        "c2725880076b41f9bd5e622e53627729": {
          "model_module": "@jupyter-widgets/base",
          "model_name": "LayoutModel",
          "model_module_version": "1.2.0",
          "state": {
            "_model_module": "@jupyter-widgets/base",
            "_model_module_version": "1.2.0",
            "_model_name": "LayoutModel",
            "_view_count": null,
            "_view_module": "@jupyter-widgets/base",
            "_view_module_version": "1.2.0",
            "_view_name": "LayoutView",
            "align_content": null,
            "align_items": null,
            "align_self": null,
            "border": null,
            "bottom": null,
            "display": null,
            "flex": null,
            "flex_flow": null,
            "grid_area": null,
            "grid_auto_columns": null,
            "grid_auto_flow": null,
            "grid_auto_rows": null,
            "grid_column": null,
            "grid_gap": null,
            "grid_row": null,
            "grid_template_areas": null,
            "grid_template_columns": null,
            "grid_template_rows": null,
            "height": null,
            "justify_content": null,
            "justify_items": null,
            "left": null,
            "margin": null,
            "max_height": null,
            "max_width": null,
            "min_height": null,
            "min_width": null,
            "object_fit": null,
            "object_position": null,
            "order": null,
            "overflow": null,
            "overflow_x": null,
            "overflow_y": null,
            "padding": null,
            "right": null,
            "top": null,
            "visibility": null,
            "width": null
          }
        },
        "6b891a33e0604b1caf99fdc035de9bcc": {
          "model_module": "@jupyter-widgets/controls",
          "model_name": "DescriptionStyleModel",
          "model_module_version": "1.5.0",
          "state": {
            "_model_module": "@jupyter-widgets/controls",
            "_model_module_version": "1.5.0",
            "_model_name": "DescriptionStyleModel",
            "_view_count": null,
            "_view_module": "@jupyter-widgets/base",
            "_view_module_version": "1.2.0",
            "_view_name": "StyleView",
            "description_width": ""
          }
        },
        "0dbabba742ef475ca99130062156cfa0": {
          "model_module": "@jupyter-widgets/base",
          "model_name": "LayoutModel",
          "model_module_version": "1.2.0",
          "state": {
            "_model_module": "@jupyter-widgets/base",
            "_model_module_version": "1.2.0",
            "_model_name": "LayoutModel",
            "_view_count": null,
            "_view_module": "@jupyter-widgets/base",
            "_view_module_version": "1.2.0",
            "_view_name": "LayoutView",
            "align_content": null,
            "align_items": null,
            "align_self": null,
            "border": null,
            "bottom": null,
            "display": null,
            "flex": null,
            "flex_flow": null,
            "grid_area": null,
            "grid_auto_columns": null,
            "grid_auto_flow": null,
            "grid_auto_rows": null,
            "grid_column": null,
            "grid_gap": null,
            "grid_row": null,
            "grid_template_areas": null,
            "grid_template_columns": null,
            "grid_template_rows": null,
            "height": null,
            "justify_content": null,
            "justify_items": null,
            "left": null,
            "margin": null,
            "max_height": null,
            "max_width": null,
            "min_height": null,
            "min_width": null,
            "object_fit": null,
            "object_position": null,
            "order": null,
            "overflow": null,
            "overflow_x": null,
            "overflow_y": null,
            "padding": null,
            "right": null,
            "top": null,
            "visibility": null,
            "width": null
          }
        },
        "bc28d1e71db64edb88338f48491b8724": {
          "model_module": "@jupyter-widgets/controls",
          "model_name": "ProgressStyleModel",
          "model_module_version": "1.5.0",
          "state": {
            "_model_module": "@jupyter-widgets/controls",
            "_model_module_version": "1.5.0",
            "_model_name": "ProgressStyleModel",
            "_view_count": null,
            "_view_module": "@jupyter-widgets/base",
            "_view_module_version": "1.2.0",
            "_view_name": "StyleView",
            "bar_color": null,
            "description_width": ""
          }
        },
        "178c38d28b4b4f87b421e3406cd6d273": {
          "model_module": "@jupyter-widgets/base",
          "model_name": "LayoutModel",
          "model_module_version": "1.2.0",
          "state": {
            "_model_module": "@jupyter-widgets/base",
            "_model_module_version": "1.2.0",
            "_model_name": "LayoutModel",
            "_view_count": null,
            "_view_module": "@jupyter-widgets/base",
            "_view_module_version": "1.2.0",
            "_view_name": "LayoutView",
            "align_content": null,
            "align_items": null,
            "align_self": null,
            "border": null,
            "bottom": null,
            "display": null,
            "flex": null,
            "flex_flow": null,
            "grid_area": null,
            "grid_auto_columns": null,
            "grid_auto_flow": null,
            "grid_auto_rows": null,
            "grid_column": null,
            "grid_gap": null,
            "grid_row": null,
            "grid_template_areas": null,
            "grid_template_columns": null,
            "grid_template_rows": null,
            "height": null,
            "justify_content": null,
            "justify_items": null,
            "left": null,
            "margin": null,
            "max_height": null,
            "max_width": null,
            "min_height": null,
            "min_width": null,
            "object_fit": null,
            "object_position": null,
            "order": null,
            "overflow": null,
            "overflow_x": null,
            "overflow_y": null,
            "padding": null,
            "right": null,
            "top": null,
            "visibility": null,
            "width": null
          }
        },
        "6e108d16c14e45c2951fc1c3e7eedf88": {
          "model_module": "@jupyter-widgets/controls",
          "model_name": "DescriptionStyleModel",
          "model_module_version": "1.5.0",
          "state": {
            "_model_module": "@jupyter-widgets/controls",
            "_model_module_version": "1.5.0",
            "_model_name": "DescriptionStyleModel",
            "_view_count": null,
            "_view_module": "@jupyter-widgets/base",
            "_view_module_version": "1.2.0",
            "_view_name": "StyleView",
            "description_width": ""
          }
        },
        "1771a284b92642fabaf860fd81478395": {
          "model_module": "@jupyter-widgets/controls",
          "model_name": "HBoxModel",
          "model_module_version": "1.5.0",
          "state": {
            "_dom_classes": [],
            "_model_module": "@jupyter-widgets/controls",
            "_model_module_version": "1.5.0",
            "_model_name": "HBoxModel",
            "_view_count": null,
            "_view_module": "@jupyter-widgets/controls",
            "_view_module_version": "1.5.0",
            "_view_name": "HBoxView",
            "box_style": "",
            "children": [
              "IPY_MODEL_84803ffe44884631880a9332784fdcf8",
              "IPY_MODEL_1978c94624e44c39b7b56163c230c723",
              "IPY_MODEL_e6dcfb5173eb4cf29a3a50a61276ad28"
            ],
            "layout": "IPY_MODEL_91c383c94b3f424290deabdd534d6e3d"
          }
        },
        "84803ffe44884631880a9332784fdcf8": {
          "model_module": "@jupyter-widgets/controls",
          "model_name": "HTMLModel",
          "model_module_version": "1.5.0",
          "state": {
            "_dom_classes": [],
            "_model_module": "@jupyter-widgets/controls",
            "_model_module_version": "1.5.0",
            "_model_name": "HTMLModel",
            "_view_count": null,
            "_view_module": "@jupyter-widgets/controls",
            "_view_module_version": "1.5.0",
            "_view_name": "HTMLView",
            "description": "",
            "description_tooltip": null,
            "layout": "IPY_MODEL_78a97f2fbdb1436abc1d249299f5893b",
            "placeholder": "​",
            "style": "IPY_MODEL_c2e75b41c5a045148718bed376f9c349",
            "value": "model.safetensors: 100%"
          }
        },
        "1978c94624e44c39b7b56163c230c723": {
          "model_module": "@jupyter-widgets/controls",
          "model_name": "FloatProgressModel",
          "model_module_version": "1.5.0",
          "state": {
            "_dom_classes": [],
            "_model_module": "@jupyter-widgets/controls",
            "_model_module_version": "1.5.0",
            "_model_name": "FloatProgressModel",
            "_view_count": null,
            "_view_module": "@jupyter-widgets/controls",
            "_view_module_version": "1.5.0",
            "_view_name": "ProgressView",
            "bar_style": "success",
            "description": "",
            "description_tooltip": null,
            "layout": "IPY_MODEL_b335931f4ab8468685afb11a5633fc00",
            "max": 267954768,
            "min": 0,
            "orientation": "horizontal",
            "style": "IPY_MODEL_e7e3008d0de04695afddcf5f8caa4047",
            "value": 267954768
          }
        },
        "e6dcfb5173eb4cf29a3a50a61276ad28": {
          "model_module": "@jupyter-widgets/controls",
          "model_name": "HTMLModel",
          "model_module_version": "1.5.0",
          "state": {
            "_dom_classes": [],
            "_model_module": "@jupyter-widgets/controls",
            "_model_module_version": "1.5.0",
            "_model_name": "HTMLModel",
            "_view_count": null,
            "_view_module": "@jupyter-widgets/controls",
            "_view_module_version": "1.5.0",
            "_view_name": "HTMLView",
            "description": "",
            "description_tooltip": null,
            "layout": "IPY_MODEL_cc4c430752b04af881c48789598ebf5a",
            "placeholder": "​",
            "style": "IPY_MODEL_5c977d2341c34e30962527eee742b5ec",
            "value": " 268M/268M [00:03&lt;00:00, 40.0MB/s]"
          }
        },
        "91c383c94b3f424290deabdd534d6e3d": {
          "model_module": "@jupyter-widgets/base",
          "model_name": "LayoutModel",
          "model_module_version": "1.2.0",
          "state": {
            "_model_module": "@jupyter-widgets/base",
            "_model_module_version": "1.2.0",
            "_model_name": "LayoutModel",
            "_view_count": null,
            "_view_module": "@jupyter-widgets/base",
            "_view_module_version": "1.2.0",
            "_view_name": "LayoutView",
            "align_content": null,
            "align_items": null,
            "align_self": null,
            "border": null,
            "bottom": null,
            "display": null,
            "flex": null,
            "flex_flow": null,
            "grid_area": null,
            "grid_auto_columns": null,
            "grid_auto_flow": null,
            "grid_auto_rows": null,
            "grid_column": null,
            "grid_gap": null,
            "grid_row": null,
            "grid_template_areas": null,
            "grid_template_columns": null,
            "grid_template_rows": null,
            "height": null,
            "justify_content": null,
            "justify_items": null,
            "left": null,
            "margin": null,
            "max_height": null,
            "max_width": null,
            "min_height": null,
            "min_width": null,
            "object_fit": null,
            "object_position": null,
            "order": null,
            "overflow": null,
            "overflow_x": null,
            "overflow_y": null,
            "padding": null,
            "right": null,
            "top": null,
            "visibility": null,
            "width": null
          }
        },
        "78a97f2fbdb1436abc1d249299f5893b": {
          "model_module": "@jupyter-widgets/base",
          "model_name": "LayoutModel",
          "model_module_version": "1.2.0",
          "state": {
            "_model_module": "@jupyter-widgets/base",
            "_model_module_version": "1.2.0",
            "_model_name": "LayoutModel",
            "_view_count": null,
            "_view_module": "@jupyter-widgets/base",
            "_view_module_version": "1.2.0",
            "_view_name": "LayoutView",
            "align_content": null,
            "align_items": null,
            "align_self": null,
            "border": null,
            "bottom": null,
            "display": null,
            "flex": null,
            "flex_flow": null,
            "grid_area": null,
            "grid_auto_columns": null,
            "grid_auto_flow": null,
            "grid_auto_rows": null,
            "grid_column": null,
            "grid_gap": null,
            "grid_row": null,
            "grid_template_areas": null,
            "grid_template_columns": null,
            "grid_template_rows": null,
            "height": null,
            "justify_content": null,
            "justify_items": null,
            "left": null,
            "margin": null,
            "max_height": null,
            "max_width": null,
            "min_height": null,
            "min_width": null,
            "object_fit": null,
            "object_position": null,
            "order": null,
            "overflow": null,
            "overflow_x": null,
            "overflow_y": null,
            "padding": null,
            "right": null,
            "top": null,
            "visibility": null,
            "width": null
          }
        },
        "c2e75b41c5a045148718bed376f9c349": {
          "model_module": "@jupyter-widgets/controls",
          "model_name": "DescriptionStyleModel",
          "model_module_version": "1.5.0",
          "state": {
            "_model_module": "@jupyter-widgets/controls",
            "_model_module_version": "1.5.0",
            "_model_name": "DescriptionStyleModel",
            "_view_count": null,
            "_view_module": "@jupyter-widgets/base",
            "_view_module_version": "1.2.0",
            "_view_name": "StyleView",
            "description_width": ""
          }
        },
        "b335931f4ab8468685afb11a5633fc00": {
          "model_module": "@jupyter-widgets/base",
          "model_name": "LayoutModel",
          "model_module_version": "1.2.0",
          "state": {
            "_model_module": "@jupyter-widgets/base",
            "_model_module_version": "1.2.0",
            "_model_name": "LayoutModel",
            "_view_count": null,
            "_view_module": "@jupyter-widgets/base",
            "_view_module_version": "1.2.0",
            "_view_name": "LayoutView",
            "align_content": null,
            "align_items": null,
            "align_self": null,
            "border": null,
            "bottom": null,
            "display": null,
            "flex": null,
            "flex_flow": null,
            "grid_area": null,
            "grid_auto_columns": null,
            "grid_auto_flow": null,
            "grid_auto_rows": null,
            "grid_column": null,
            "grid_gap": null,
            "grid_row": null,
            "grid_template_areas": null,
            "grid_template_columns": null,
            "grid_template_rows": null,
            "height": null,
            "justify_content": null,
            "justify_items": null,
            "left": null,
            "margin": null,
            "max_height": null,
            "max_width": null,
            "min_height": null,
            "min_width": null,
            "object_fit": null,
            "object_position": null,
            "order": null,
            "overflow": null,
            "overflow_x": null,
            "overflow_y": null,
            "padding": null,
            "right": null,
            "top": null,
            "visibility": null,
            "width": null
          }
        },
        "e7e3008d0de04695afddcf5f8caa4047": {
          "model_module": "@jupyter-widgets/controls",
          "model_name": "ProgressStyleModel",
          "model_module_version": "1.5.0",
          "state": {
            "_model_module": "@jupyter-widgets/controls",
            "_model_module_version": "1.5.0",
            "_model_name": "ProgressStyleModel",
            "_view_count": null,
            "_view_module": "@jupyter-widgets/base",
            "_view_module_version": "1.2.0",
            "_view_name": "StyleView",
            "bar_color": null,
            "description_width": ""
          }
        },
        "cc4c430752b04af881c48789598ebf5a": {
          "model_module": "@jupyter-widgets/base",
          "model_name": "LayoutModel",
          "model_module_version": "1.2.0",
          "state": {
            "_model_module": "@jupyter-widgets/base",
            "_model_module_version": "1.2.0",
            "_model_name": "LayoutModel",
            "_view_count": null,
            "_view_module": "@jupyter-widgets/base",
            "_view_module_version": "1.2.0",
            "_view_name": "LayoutView",
            "align_content": null,
            "align_items": null,
            "align_self": null,
            "border": null,
            "bottom": null,
            "display": null,
            "flex": null,
            "flex_flow": null,
            "grid_area": null,
            "grid_auto_columns": null,
            "grid_auto_flow": null,
            "grid_auto_rows": null,
            "grid_column": null,
            "grid_gap": null,
            "grid_row": null,
            "grid_template_areas": null,
            "grid_template_columns": null,
            "grid_template_rows": null,
            "height": null,
            "justify_content": null,
            "justify_items": null,
            "left": null,
            "margin": null,
            "max_height": null,
            "max_width": null,
            "min_height": null,
            "min_width": null,
            "object_fit": null,
            "object_position": null,
            "order": null,
            "overflow": null,
            "overflow_x": null,
            "overflow_y": null,
            "padding": null,
            "right": null,
            "top": null,
            "visibility": null,
            "width": null
          }
        },
        "5c977d2341c34e30962527eee742b5ec": {
          "model_module": "@jupyter-widgets/controls",
          "model_name": "DescriptionStyleModel",
          "model_module_version": "1.5.0",
          "state": {
            "_model_module": "@jupyter-widgets/controls",
            "_model_module_version": "1.5.0",
            "_model_name": "DescriptionStyleModel",
            "_view_count": null,
            "_view_module": "@jupyter-widgets/base",
            "_view_module_version": "1.2.0",
            "_view_name": "StyleView",
            "description_width": ""
          }
        }
      }
    }
  },
  "nbformat": 4,
  "nbformat_minor": 0
}